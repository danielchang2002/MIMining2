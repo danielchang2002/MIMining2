{
 "cells": [
  {
   "cell_type": "code",
   "execution_count": 102,
   "id": "753c7052-0032-4787-b7c6-5dc7254d7a5a",
   "metadata": {},
   "outputs": [],
   "source": [
    "import pandas as pd\n",
    "import polars as pl\n",
    "import numpy as np\n",
    "import scipy\n",
    "import os\n",
    "from Bio import SeqIO, SearchIO\n",
    "from BCBio import GFF\n",
    "import math\n",
    "from tqdm.auto import tqdm\n",
    "# import torch\n",
    "import matplotlib.pyplot as plt\n",
    "from collections import Counter\n",
    "from sklearn.preprocessing import StandardScaler\n",
    "from Bio.SeqFeature import SeqFeature, FeatureLocation\n",
    "from scipy.io import mmwrite\n",
    "from collections import defaultdict"
   ]
  },
  {
   "cell_type": "code",
   "execution_count": 103,
   "id": "2d55aa96-b9ab-4c92-be47-caca4f2f6d4f",
   "metadata": {},
   "outputs": [],
   "source": [
    "genome_path = \"/large_storage/hielab/changdan/euk_genomes/GCF_009914755.1_T2T-CHM13v2.0_genomic.gbff\"\n",
    "activations_path = \"/large_storage/hielab/changdan/evo2_T2T_activations_sae-a6u40nnl-layer26-batch-topk-tied-expansion_8-k_64/\""
   ]
  },
  {
   "cell_type": "code",
   "execution_count": null,
   "id": "0034f383-7950-4c70-8da9-5ebf438d9dac",
   "metadata": {},
   "outputs": [],
   "source": []
  },
  {
   "cell_type": "code",
   "execution_count": null,
   "id": "7ae6ccd5-5ea2-4cad-ae83-b358ecb249f9",
   "metadata": {},
   "outputs": [],
   "source": []
  },
  {
   "cell_type": "code",
   "execution_count": 104,
   "id": "251243a3-bfd4-4b54-96af-d1b88d1d990c",
   "metadata": {},
   "outputs": [
    {
     "name": "stdout",
     "output_type": "stream",
     "text": [
      "chm13v2.0_rmsk.bb      README.md\t\t\t      script.sh\n",
      "hs1.repeatMasker.gff3  rm2gff3.sh\n",
      "hs1.repeatMasker.out   sae-layer26-mixed-expansion_8-k_64.pt\n"
     ]
    }
   ],
   "source": [
    "! ls ../data"
   ]
  },
  {
   "cell_type": "code",
   "execution_count": 105,
   "id": "723b535b-a479-4e73-8bde-1c05fc297dd3",
   "metadata": {},
   "outputs": [
    {
     "data": {
      "text/html": [
       "<div><style>\n",
       ".dataframe > thead > tr,\n",
       ".dataframe > tbody > tr {\n",
       "  text-align: right;\n",
       "  white-space: pre-wrap;\n",
       "}\n",
       "</style>\n",
       "<small>shape: (5_591_079, 9)</small><table border=\"1\" class=\"dataframe\"><thead><tr><th>seqid</th><th>source</th><th>type</th><th>start</th><th>end</th><th>score</th><th>strand</th><th>phase</th><th>attributes</th></tr><tr><td>str</td><td>str</td><td>str</td><td>i64</td><td>i64</td><td>i64</td><td>str</td><td>str</td><td>str</td></tr></thead><tbody><tr><td>&quot;chrM&quot;</td><td>&quot;RepeatMasker-4.0.1&quot;</td><td>&quot;similarity&quot;</td><td>2014</td><td>2169</td><td>311</td><td>&quot;+&quot;</td><td>&quot;.&quot;</td><td>&quot;Target=LSU-rRNA_Hsa rRNA 3753 …</td></tr><tr><td>&quot;chrM&quot;</td><td>&quot;RepeatMasker-4.0.1&quot;</td><td>&quot;similarity&quot;</td><td>2653</td><td>2730</td><td>650</td><td>&quot;+&quot;</td><td>&quot;.&quot;</td><td>&quot;Target=tRNA-Leu-TTA(m) tRNA 1 …</td></tr><tr><td>&quot;chrM&quot;</td><td>&quot;RepeatMasker-4.0.1&quot;</td><td>&quot;similarity&quot;</td><td>3752</td><td>3823</td><td>429</td><td>&quot;-&quot;</td><td>&quot;.&quot;</td><td>&quot;Target=tRNA-Gln-CAA_ tRNA 1 72…</td></tr><tr><td>&quot;chrM&quot;</td><td>&quot;RepeatMasker-4.0.1&quot;</td><td>&quot;similarity&quot;</td><td>6871</td><td>6937</td><td>432</td><td>&quot;-&quot;</td><td>&quot;.&quot;</td><td>&quot;Target=tRNA-Ser-TCA(m) tRNA 1 …</td></tr><tr><td>&quot;chrM&quot;</td><td>&quot;RepeatMasker-4.0.1&quot;</td><td>&quot;similarity&quot;</td><td>15628</td><td>15672</td><td>13</td><td>&quot;+&quot;</td><td>&quot;.&quot;</td><td>&quot;Target=(CAACTAT)n Simple_repea…</td></tr><tr><td>&hellip;</td><td>&hellip;</td><td>&hellip;</td><td>&hellip;</td><td>&hellip;</td><td>&hellip;</td><td>&hellip;</td><td>&hellip;</td><td>&hellip;</td></tr><tr><td>&quot;chrY&quot;</td><td>&quot;RepeatMasker-4.0.1&quot;</td><td>&quot;similarity&quot;</td><td>62448441</td><td>62448531</td><td>307</td><td>&quot;+&quot;</td><td>&quot;.&quot;</td><td>&quot;Target=MIR3 SINE/MIR 49 143;Di…</td></tr><tr><td>&quot;chrY&quot;</td><td>&quot;RepeatMasker-4.0.1&quot;</td><td>&quot;similarity&quot;</td><td>62452004</td><td>62452106</td><td>256</td><td>&quot;+&quot;</td><td>&quot;.&quot;</td><td>&quot;Target=MER5B DNA/hAT-Charlie 1…</td></tr><tr><td>&quot;chrY&quot;</td><td>&quot;RepeatMasker-4.0.1&quot;</td><td>&quot;similarity&quot;</td><td>62452109</td><td>62452299</td><td>527</td><td>&quot;+&quot;</td><td>&quot;.&quot;</td><td>&quot;Target=L1MC5a LINE/L1 5452 567…</td></tr><tr><td>&quot;chrY&quot;</td><td>&quot;RepeatMasker-4.0.1&quot;</td><td>&quot;similarity&quot;</td><td>62452323</td><td>62453637</td><td>6455</td><td>&quot;+&quot;</td><td>&quot;.&quot;</td><td>&quot;Target=TAR1 Satellite/subtelo …</td></tr><tr><td>&quot;chrY&quot;</td><td>&quot;RepeatMasker-4.0.1&quot;</td><td>&quot;similarity&quot;</td><td>62453641</td><td>62460029</td><td>6532</td><td>&quot;+&quot;</td><td>&quot;.&quot;</td><td>&quot;Target=(TTAGGG)n Simple_repeat…</td></tr></tbody></table></div>"
      ],
      "text/plain": [
       "shape: (5_591_079, 9)\n",
       "┌───────┬──────────────────┬────────────┬──────────┬───┬───────┬────────┬───────┬──────────────────┐\n",
       "│ seqid ┆ source           ┆ type       ┆ start    ┆ … ┆ score ┆ strand ┆ phase ┆ attributes       │\n",
       "│ ---   ┆ ---              ┆ ---        ┆ ---      ┆   ┆ ---   ┆ ---    ┆ ---   ┆ ---              │\n",
       "│ str   ┆ str              ┆ str        ┆ i64      ┆   ┆ i64   ┆ str    ┆ str   ┆ str              │\n",
       "╞═══════╪══════════════════╪════════════╪══════════╪═══╪═══════╪════════╪═══════╪══════════════════╡\n",
       "│ chrM  ┆ RepeatMasker-4.0 ┆ similarity ┆ 2014     ┆ … ┆ 311   ┆ +      ┆ .     ┆ Target=LSU-rRNA_ │\n",
       "│       ┆ .1               ┆            ┆          ┆   ┆       ┆        ┆       ┆ Hsa rRNA 3753 …  │\n",
       "│ chrM  ┆ RepeatMasker-4.0 ┆ similarity ┆ 2653     ┆ … ┆ 650   ┆ +      ┆ .     ┆ Target=tRNA-Leu- │\n",
       "│       ┆ .1               ┆            ┆          ┆   ┆       ┆        ┆       ┆ TTA(m) tRNA 1 …  │\n",
       "│ chrM  ┆ RepeatMasker-4.0 ┆ similarity ┆ 3752     ┆ … ┆ 429   ┆ -      ┆ .     ┆ Target=tRNA-Gln- │\n",
       "│       ┆ .1               ┆            ┆          ┆   ┆       ┆        ┆       ┆ CAA_ tRNA 1 72…  │\n",
       "│ chrM  ┆ RepeatMasker-4.0 ┆ similarity ┆ 6871     ┆ … ┆ 432   ┆ -      ┆ .     ┆ Target=tRNA-Ser- │\n",
       "│       ┆ .1               ┆            ┆          ┆   ┆       ┆        ┆       ┆ TCA(m) tRNA 1 …  │\n",
       "│ chrM  ┆ RepeatMasker-4.0 ┆ similarity ┆ 15628    ┆ … ┆ 13    ┆ +      ┆ .     ┆ Target=(CAACTAT) │\n",
       "│       ┆ .1               ┆            ┆          ┆   ┆       ┆        ┆       ┆ n Simple_repea…  │\n",
       "│ …     ┆ …                ┆ …          ┆ …        ┆ … ┆ …     ┆ …      ┆ …     ┆ …                │\n",
       "│ chrY  ┆ RepeatMasker-4.0 ┆ similarity ┆ 62448441 ┆ … ┆ 307   ┆ +      ┆ .     ┆ Target=MIR3      │\n",
       "│       ┆ .1               ┆            ┆          ┆   ┆       ┆        ┆       ┆ SINE/MIR 49      │\n",
       "│       ┆                  ┆            ┆          ┆   ┆       ┆        ┆       ┆ 143;Di…          │\n",
       "│ chrY  ┆ RepeatMasker-4.0 ┆ similarity ┆ 62452004 ┆ … ┆ 256   ┆ +      ┆ .     ┆ Target=MER5B     │\n",
       "│       ┆ .1               ┆            ┆          ┆   ┆       ┆        ┆       ┆ DNA/hAT-Charlie  │\n",
       "│       ┆                  ┆            ┆          ┆   ┆       ┆        ┆       ┆ 1…               │\n",
       "│ chrY  ┆ RepeatMasker-4.0 ┆ similarity ┆ 62452109 ┆ … ┆ 527   ┆ +      ┆ .     ┆ Target=L1MC5a    │\n",
       "│       ┆ .1               ┆            ┆          ┆   ┆       ┆        ┆       ┆ LINE/L1 5452     │\n",
       "│       ┆                  ┆            ┆          ┆   ┆       ┆        ┆       ┆ 567…             │\n",
       "│ chrY  ┆ RepeatMasker-4.0 ┆ similarity ┆ 62452323 ┆ … ┆ 6455  ┆ +      ┆ .     ┆ Target=TAR1 Sate │\n",
       "│       ┆ .1               ┆            ┆          ┆   ┆       ┆        ┆       ┆ llite/subtelo …  │\n",
       "│ chrY  ┆ RepeatMasker-4.0 ┆ similarity ┆ 62453641 ┆ … ┆ 6532  ┆ +      ┆ .     ┆ Target=(TTAGGG)n │\n",
       "│       ┆ .1               ┆            ┆          ┆   ┆       ┆        ┆       ┆ Simple_repeat…   │\n",
       "└───────┴──────────────────┴────────────┴──────────┴───┴───────┴────────┴───────┴──────────────────┘"
      ]
     },
     "execution_count": 105,
     "metadata": {},
     "output_type": "execute_result"
    }
   ],
   "source": [
    "column_names = [\n",
    "    'seqid',      # Sequence/chromosome name\n",
    "    'source',     # Source of the annotation\n",
    "    'type',       # Feature type\n",
    "    'start',      # Start position (1-based)\n",
    "    'end',        # End position (inclusive)\n",
    "    'score',      # Score (or '.')\n",
    "    'strand',     # Strand (+ or - or .)\n",
    "    'phase',      # Phase (0, 1, 2, or .)\n",
    "    'attributes'  # Semicolon-separated attributes\n",
    "]\n",
    "\n",
    "repeat_masker = pl.read_csv(\"../data/hs1.repeatMasker.gff3\", separator=\"\\t\", comment_prefix=\"#\", has_header=False)\n",
    "repeat_masker.columns = column_names\n",
    "repeat_masker"
   ]
  },
  {
   "cell_type": "code",
   "execution_count": 106,
   "id": "3d15c3d5-a065-4c96-9a18-15497b914c87",
   "metadata": {},
   "outputs": [
    {
     "data": {
      "text/plain": [
       "Counter({'+': 3206651, '-': 2384428})"
      ]
     },
     "execution_count": 106,
     "metadata": {},
     "output_type": "execute_result"
    }
   ],
   "source": [
    "Counter(repeat_masker['strand'])"
   ]
  },
  {
   "cell_type": "code",
   "execution_count": 107,
   "id": "be0b5ef1-bf8d-4dd1-85be-f4f7d5de10c0",
   "metadata": {},
   "outputs": [
    {
     "data": {
      "text/plain": [
       "'Target=(CAACTAT)n Simple_repeat 1 47;Div=15.4;Del=6.7;Ins=2.1;SWscore=13;color=#8686ac'"
      ]
     },
     "execution_count": 107,
     "metadata": {},
     "output_type": "execute_result"
    }
   ],
   "source": [
    "repeat_masker['attributes'][4]"
   ]
  },
  {
   "cell_type": "code",
   "execution_count": null,
   "id": "7654b185-a461-4712-a011-02efc5432ac3",
   "metadata": {},
   "outputs": [],
   "source": []
  },
  {
   "cell_type": "code",
   "execution_count": null,
   "id": "9d621985-33a2-4bce-a629-0cae603076ce",
   "metadata": {},
   "outputs": [],
   "source": []
  },
  {
   "cell_type": "code",
   "execution_count": 108,
   "id": "fcb3a5df-25c5-4d2a-bb3c-21a2e463ef85",
   "metadata": {},
   "outputs": [],
   "source": [
    "fa = SeqIO.parse(genome_path, \"genbank\")"
   ]
  },
  {
   "cell_type": "code",
   "execution_count": 109,
   "id": "ea57a1d1-d3f6-4919-8c79-44d2d697b784",
   "metadata": {},
   "outputs": [
    {
     "data": {
      "text/plain": [
       "24"
      ]
     },
     "execution_count": 109,
     "metadata": {},
     "output_type": "execute_result"
    }
   ],
   "source": [
    "chroms = [g for g in fa]\n",
    "len(chroms)"
   ]
  },
  {
   "cell_type": "code",
   "execution_count": 110,
   "id": "095d5ea1-80bb-4d2c-bbb0-6e02ace8227c",
   "metadata": {},
   "outputs": [
    {
     "name": "stdout",
     "output_type": "stream",
     "text": [
      "NC_060925.1\n",
      "Homo sapiens isolate CHM13 chromosome 1, alternate assembly T2T-CHM13v2.0\n",
      "NC_060926.1\n",
      "Homo sapiens isolate CHM13 chromosome 2, alternate assembly T2T-CHM13v2.0\n",
      "NC_060927.1\n",
      "Homo sapiens isolate CHM13 chromosome 3, alternate assembly T2T-CHM13v2.0\n",
      "NC_060928.1\n",
      "Homo sapiens isolate CHM13 chromosome 4, alternate assembly T2T-CHM13v2.0\n",
      "NC_060929.1\n",
      "Homo sapiens isolate CHM13 chromosome 5, alternate assembly T2T-CHM13v2.0\n",
      "NC_060930.1\n",
      "Homo sapiens isolate CHM13 chromosome 6, alternate assembly T2T-CHM13v2.0\n",
      "NC_060931.1\n",
      "Homo sapiens isolate CHM13 chromosome 7, alternate assembly T2T-CHM13v2.0\n",
      "NC_060932.1\n",
      "Homo sapiens isolate CHM13 chromosome 8, alternate assembly T2T-CHM13v2.0\n",
      "NC_060933.1\n",
      "Homo sapiens isolate CHM13 chromosome 9, alternate assembly T2T-CHM13v2.0\n",
      "NC_060934.1\n",
      "Homo sapiens isolate CHM13 chromosome 10, alternate assembly T2T-CHM13v2.0\n",
      "NC_060935.1\n",
      "Homo sapiens isolate CHM13 chromosome 11, alternate assembly T2T-CHM13v2.0\n",
      "NC_060936.1\n",
      "Homo sapiens isolate CHM13 chromosome 12, alternate assembly T2T-CHM13v2.0\n",
      "NC_060937.1\n",
      "Homo sapiens isolate CHM13 chromosome 13, alternate assembly T2T-CHM13v2.0\n",
      "NC_060938.1\n",
      "Homo sapiens isolate CHM13 chromosome 14, alternate assembly T2T-CHM13v2.0\n",
      "NC_060939.1\n",
      "Homo sapiens isolate CHM13 chromosome 15, alternate assembly T2T-CHM13v2.0\n",
      "NC_060940.1\n",
      "Homo sapiens isolate CHM13 chromosome 16, alternate assembly T2T-CHM13v2.0\n",
      "NC_060941.1\n",
      "Homo sapiens isolate CHM13 chromosome 17, alternate assembly T2T-CHM13v2.0\n",
      "NC_060942.1\n",
      "Homo sapiens isolate CHM13 chromosome 18, alternate assembly T2T-CHM13v2.0\n",
      "NC_060943.1\n",
      "Homo sapiens isolate CHM13 chromosome 19, alternate assembly T2T-CHM13v2.0\n",
      "NC_060944.1\n",
      "Homo sapiens isolate CHM13 chromosome 20, alternate assembly T2T-CHM13v2.0\n",
      "NC_060945.1\n",
      "Homo sapiens isolate CHM13 chromosome 21, alternate assembly T2T-CHM13v2.0\n",
      "NC_060946.1\n",
      "Homo sapiens isolate CHM13 chromosome 22, alternate assembly T2T-CHM13v2.0\n",
      "NC_060947.1\n",
      "Homo sapiens isolate CHM13 chromosome X, alternate assembly T2T-CHM13v2.0\n",
      "NC_060948.1\n",
      "Homo sapiens isolate NA24385 chromosome Y, alternate assembly T2T-CHM13v2.0\n"
     ]
    }
   ],
   "source": [
    "for c in chroms:\n",
    "    print(c.id)\n",
    "    print(c.description)"
   ]
  },
  {
   "cell_type": "code",
   "execution_count": null,
   "id": "0e4ab986-4f90-4615-b42e-f8228fd8e7b1",
   "metadata": {},
   "outputs": [],
   "source": []
  },
  {
   "cell_type": "code",
   "execution_count": null,
   "id": "4f83aa9f-9042-4912-96d7-a19ea5a53baf",
   "metadata": {},
   "outputs": [],
   "source": []
  },
  {
   "cell_type": "code",
   "execution_count": 111,
   "id": "23b3ced3-d779-4965-a33d-feb20a491943",
   "metadata": {},
   "outputs": [],
   "source": [
    "# add repeat masker stuff"
   ]
  },
  {
   "cell_type": "code",
   "execution_count": 112,
   "id": "9213fe56-3e55-46a1-a998-84803a6d94d5",
   "metadata": {},
   "outputs": [
    {
     "data": {
      "text/plain": [
       "Counter({'chr1': 488811,\n",
       "         'chr2': 428846,\n",
       "         'chr3': 357754,\n",
       "         'chr4': 323747,\n",
       "         'chr5': 314203,\n",
       "         'chr6': 295563,\n",
       "         'chr7': 286892,\n",
       "         'chrX': 271645,\n",
       "         'chr8': 260446,\n",
       "         'chr12': 256325,\n",
       "         'chr11': 248068,\n",
       "         'chr10': 242866,\n",
       "         'chr9': 227836,\n",
       "         'chr16': 202330,\n",
       "         'chr15': 193441,\n",
       "         'chr13': 179518,\n",
       "         'chr14': 175789,\n",
       "         'chr17': 173101,\n",
       "         'chr19': 136837,\n",
       "         'chr18': 130108,\n",
       "         'chr20': 129455,\n",
       "         'chrY': 103356,\n",
       "         'chr22': 90318,\n",
       "         'chr21': 73819,\n",
       "         'chrM': 5})"
      ]
     },
     "execution_count": 112,
     "metadata": {},
     "output_type": "execute_result"
    }
   ],
   "source": [
    "Counter(repeat_masker['seqid'])"
   ]
  },
  {
   "cell_type": "code",
   "execution_count": 113,
   "id": "ebcdcdb6-8120-4e8b-8cc5-dc31d9da6185",
   "metadata": {
    "scrolled": true
   },
   "outputs": [
    {
     "data": {
      "application/vnd.jupyter.widget-view+json": {
       "model_id": "7cfa40a04f634bb5ba5209fa1f490bab",
       "version_major": 2,
       "version_minor": 0
      },
      "text/plain": [
       "0it [00:00, ?it/s]"
      ]
     },
     "metadata": {},
     "output_type": "display_data"
    },
    {
     "data": {
      "application/vnd.jupyter.widget-view+json": {
       "model_id": "9684c8511b824d698447568b816b538e",
       "version_major": 2,
       "version_minor": 0
      },
      "text/plain": [
       "0it [00:00, ?it/s]"
      ]
     },
     "metadata": {},
     "output_type": "display_data"
    },
    {
     "data": {
      "application/vnd.jupyter.widget-view+json": {
       "model_id": "2d4970c552a348c4a5534674f75ff83f",
       "version_major": 2,
       "version_minor": 0
      },
      "text/plain": [
       "0it [00:00, ?it/s]"
      ]
     },
     "metadata": {},
     "output_type": "display_data"
    },
    {
     "data": {
      "application/vnd.jupyter.widget-view+json": {
       "model_id": "d7262bc45fff4838bdd8f5b9528f20a7",
       "version_major": 2,
       "version_minor": 0
      },
      "text/plain": [
       "0it [00:00, ?it/s]"
      ]
     },
     "metadata": {},
     "output_type": "display_data"
    },
    {
     "data": {
      "application/vnd.jupyter.widget-view+json": {
       "model_id": "920507e58ba9403b954e906e8d6da5dd",
       "version_major": 2,
       "version_minor": 0
      },
      "text/plain": [
       "0it [00:00, ?it/s]"
      ]
     },
     "metadata": {},
     "output_type": "display_data"
    },
    {
     "data": {
      "application/vnd.jupyter.widget-view+json": {
       "model_id": "881fcc7dfd7e4dd58cbb67cd86f5ab83",
       "version_major": 2,
       "version_minor": 0
      },
      "text/plain": [
       "0it [00:00, ?it/s]"
      ]
     },
     "metadata": {},
     "output_type": "display_data"
    },
    {
     "data": {
      "application/vnd.jupyter.widget-view+json": {
       "model_id": "fdfa3f168044401babe8d90975be7f4f",
       "version_major": 2,
       "version_minor": 0
      },
      "text/plain": [
       "0it [00:00, ?it/s]"
      ]
     },
     "metadata": {},
     "output_type": "display_data"
    },
    {
     "data": {
      "application/vnd.jupyter.widget-view+json": {
       "model_id": "6d7918fa1be146c2bba8feb3e35377ac",
       "version_major": 2,
       "version_minor": 0
      },
      "text/plain": [
       "0it [00:00, ?it/s]"
      ]
     },
     "metadata": {},
     "output_type": "display_data"
    },
    {
     "data": {
      "application/vnd.jupyter.widget-view+json": {
       "model_id": "edf68cb216744e81928e948e342d7f43",
       "version_major": 2,
       "version_minor": 0
      },
      "text/plain": [
       "0it [00:00, ?it/s]"
      ]
     },
     "metadata": {},
     "output_type": "display_data"
    },
    {
     "data": {
      "application/vnd.jupyter.widget-view+json": {
       "model_id": "4222d511aa4e4184bbb96eb03b3d9282",
       "version_major": 2,
       "version_minor": 0
      },
      "text/plain": [
       "0it [00:00, ?it/s]"
      ]
     },
     "metadata": {},
     "output_type": "display_data"
    },
    {
     "data": {
      "application/vnd.jupyter.widget-view+json": {
       "model_id": "2ba205150a4945bbb57fa9c12961bee7",
       "version_major": 2,
       "version_minor": 0
      },
      "text/plain": [
       "0it [00:00, ?it/s]"
      ]
     },
     "metadata": {},
     "output_type": "display_data"
    },
    {
     "data": {
      "application/vnd.jupyter.widget-view+json": {
       "model_id": "5209ea1cbe444c668ca88d4c3394a58e",
       "version_major": 2,
       "version_minor": 0
      },
      "text/plain": [
       "0it [00:00, ?it/s]"
      ]
     },
     "metadata": {},
     "output_type": "display_data"
    },
    {
     "data": {
      "application/vnd.jupyter.widget-view+json": {
       "model_id": "87dea6b0ad3e457fb4242c0759d7eaa7",
       "version_major": 2,
       "version_minor": 0
      },
      "text/plain": [
       "0it [00:00, ?it/s]"
      ]
     },
     "metadata": {},
     "output_type": "display_data"
    },
    {
     "data": {
      "application/vnd.jupyter.widget-view+json": {
       "model_id": "5510c6a13d3a4580aeb83bfb6c733314",
       "version_major": 2,
       "version_minor": 0
      },
      "text/plain": [
       "0it [00:00, ?it/s]"
      ]
     },
     "metadata": {},
     "output_type": "display_data"
    },
    {
     "data": {
      "application/vnd.jupyter.widget-view+json": {
       "model_id": "02e2673bcb264b51ad3c2304a7cdcadd",
       "version_major": 2,
       "version_minor": 0
      },
      "text/plain": [
       "0it [00:00, ?it/s]"
      ]
     },
     "metadata": {},
     "output_type": "display_data"
    },
    {
     "data": {
      "application/vnd.jupyter.widget-view+json": {
       "model_id": "205d0672f22b4ebb914bbcf2b6b2a50d",
       "version_major": 2,
       "version_minor": 0
      },
      "text/plain": [
       "0it [00:00, ?it/s]"
      ]
     },
     "metadata": {},
     "output_type": "display_data"
    },
    {
     "data": {
      "application/vnd.jupyter.widget-view+json": {
       "model_id": "1408f7e2c54b469db5d9dda17058734f",
       "version_major": 2,
       "version_minor": 0
      },
      "text/plain": [
       "0it [00:00, ?it/s]"
      ]
     },
     "metadata": {},
     "output_type": "display_data"
    },
    {
     "data": {
      "application/vnd.jupyter.widget-view+json": {
       "model_id": "9ab13f4dd63f41ed97c86f05f7d71ccf",
       "version_major": 2,
       "version_minor": 0
      },
      "text/plain": [
       "0it [00:00, ?it/s]"
      ]
     },
     "metadata": {},
     "output_type": "display_data"
    },
    {
     "data": {
      "application/vnd.jupyter.widget-view+json": {
       "model_id": "2c5f32c530034123aa305c5572aafeb6",
       "version_major": 2,
       "version_minor": 0
      },
      "text/plain": [
       "0it [00:00, ?it/s]"
      ]
     },
     "metadata": {},
     "output_type": "display_data"
    },
    {
     "data": {
      "application/vnd.jupyter.widget-view+json": {
       "model_id": "44473f36bcb148369c14da85f784f5a5",
       "version_major": 2,
       "version_minor": 0
      },
      "text/plain": [
       "0it [00:00, ?it/s]"
      ]
     },
     "metadata": {},
     "output_type": "display_data"
    },
    {
     "data": {
      "application/vnd.jupyter.widget-view+json": {
       "model_id": "36d60d39e7a24d5fa8092faefbcbc37e",
       "version_major": 2,
       "version_minor": 0
      },
      "text/plain": [
       "0it [00:00, ?it/s]"
      ]
     },
     "metadata": {},
     "output_type": "display_data"
    },
    {
     "data": {
      "application/vnd.jupyter.widget-view+json": {
       "model_id": "7c0b6fba30ed4bcebe19a8bd1e5c656b",
       "version_major": 2,
       "version_minor": 0
      },
      "text/plain": [
       "0it [00:00, ?it/s]"
      ]
     },
     "metadata": {},
     "output_type": "display_data"
    },
    {
     "data": {
      "application/vnd.jupyter.widget-view+json": {
       "model_id": "af988e0c90ee4f738758a967eb3ab0f8",
       "version_major": 2,
       "version_minor": 0
      },
      "text/plain": [
       "0it [00:00, ?it/s]"
      ]
     },
     "metadata": {},
     "output_type": "display_data"
    },
    {
     "data": {
      "application/vnd.jupyter.widget-view+json": {
       "model_id": "f6c8a37c9ca94433a439b16c6da93e71",
       "version_major": 2,
       "version_minor": 0
      },
      "text/plain": [
       "0it [00:00, ?it/s]"
      ]
     },
     "metadata": {},
     "output_type": "display_data"
    }
   ],
   "source": [
    "for c in chroms:\n",
    "    chrom_num = c.description.split()[5][:-1]\n",
    "    curr_repeat_masker = repeat_masker.filter(pl.col('seqid') == f\"chr{chrom_num}\")\n",
    "    to_add = []\n",
    "    for row in tqdm(curr_repeat_masker.iter_rows(named=True)):\n",
    "        # print(row)\n",
    "        strand = 1 if row['strand'] == \"+\" else -1\n",
    "        name = row['attributes'].split()[0].split(\"=\")[1]\n",
    "        type_ = row['attributes'].split()[1]\n",
    "\n",
    "        new_feature = SeqFeature(\n",
    "            location=FeatureLocation(\n",
    "                start=row['start'] - 1,  # Convert from 1-indexed to 0-indexed\n",
    "                end=row['end'],           # End is already correct (exclusive)\n",
    "                strand=strand\n",
    "            ),\n",
    "            type=\"repeat_region\",  # Use standard GenBank feature type\n",
    "            qualifiers={\n",
    "                \"rpt_type\": [name],      # Repeat name (e.g., LTR14A)\n",
    "                \"rpt_family\": [type_],   # Repeat family (e.g., LTR/ERVK)\n",
    "                \"note\": [f\"{name} ({type_})\"]  # Human-readable note\n",
    "            }\n",
    "        )\n",
    "        to_add.append(new_feature)\n",
    "    \n",
    "    # break\n",
    "    c.features.extend(to_add)"
   ]
  },
  {
   "cell_type": "code",
   "execution_count": 114,
   "id": "d48d847a-75bf-462c-b688-8e5e16b5a6f4",
   "metadata": {},
   "outputs": [
    {
     "data": {
      "text/plain": [
       "24"
      ]
     },
     "execution_count": 114,
     "metadata": {},
     "output_type": "execute_result"
    }
   ],
   "source": [
    "len(chroms)"
   ]
  },
  {
   "cell_type": "code",
   "execution_count": 118,
   "id": "974547ea-d4e1-4751-9cfd-d03d593a3011",
   "metadata": {},
   "outputs": [
    {
     "data": {
      "text/plain": [
       "24"
      ]
     },
     "execution_count": 118,
     "metadata": {},
     "output_type": "execute_result"
    }
   ],
   "source": [
    "SeqIO.write(chroms, \"/large_storage/hielab/changdan/euk_genomes/GCF_009914755.1_T2T-CHM13v2.0_genomic.repeat_masker.gbff\", 'genbank')"
   ]
  },
  {
   "cell_type": "code",
   "execution_count": null,
   "id": "578f4271-1cc4-4c91-8539-d00c6d84cdca",
   "metadata": {},
   "outputs": [],
   "source": []
  },
  {
   "cell_type": "code",
   "execution_count": null,
   "id": "1a20f235-8f11-4119-b59a-a31013e47600",
   "metadata": {},
   "outputs": [],
   "source": []
  },
  {
   "cell_type": "code",
   "execution_count": null,
   "id": "8c6a1c21-4df8-4825-870a-7988f056164b",
   "metadata": {},
   "outputs": [],
   "source": []
  },
  {
   "cell_type": "code",
   "execution_count": null,
   "id": "c7ed4697-c18a-4656-8fd7-aef01efba422",
   "metadata": {},
   "outputs": [],
   "source": []
  },
  {
   "cell_type": "code",
   "execution_count": null,
   "id": "7a8801f2-57af-45ee-83d5-e89869ae450b",
   "metadata": {},
   "outputs": [],
   "source": []
  },
  {
   "cell_type": "code",
   "execution_count": 115,
   "id": "55c85490-b176-4e45-9354-4873cce9ff2c",
   "metadata": {},
   "outputs": [
    {
     "data": {
      "text/plain": [
       "51324926"
      ]
     },
     "execution_count": 115,
     "metadata": {},
     "output_type": "execute_result"
    }
   ],
   "source": [
    "c = chroms[21]\n",
    "len(c)"
   ]
  },
  {
   "cell_type": "code",
   "execution_count": 116,
   "id": "43ad7904-01f7-476b-9fe4-da937fa7c50f",
   "metadata": {},
   "outputs": [
    {
     "data": {
      "text/plain": [
       "106117"
      ]
     },
     "execution_count": 116,
     "metadata": {},
     "output_type": "execute_result"
    }
   ],
   "source": [
    "len(c.features)"
   ]
  },
  {
   "cell_type": "code",
   "execution_count": 117,
   "id": "c2dc2707-ef5d-4978-a3a8-2675eb99b335",
   "metadata": {},
   "outputs": [
    {
     "data": {
      "text/plain": [
       "1"
      ]
     },
     "execution_count": 117,
     "metadata": {},
     "output_type": "execute_result"
    }
   ],
   "source": [
    "SeqIO.write(c, \"../output/chrom_22.repeat_masker.gb\", 'genbank')"
   ]
  },
  {
   "cell_type": "code",
   "execution_count": 95,
   "id": "58435a9f-0c07-48c6-b09d-19ebfa5e20df",
   "metadata": {},
   "outputs": [
    {
     "data": {
      "text/html": [
       "<div><style>\n",
       ".dataframe > thead > tr,\n",
       ".dataframe > tbody > tr {\n",
       "  text-align: right;\n",
       "  white-space: pre-wrap;\n",
       "}\n",
       "</style>\n",
       "<small>shape: (15, 9)</small><table border=\"1\" class=\"dataframe\"><thead><tr><th>seqid</th><th>source</th><th>type</th><th>start</th><th>end</th><th>score</th><th>strand</th><th>phase</th><th>attributes</th></tr><tr><td>str</td><td>str</td><td>str</td><td>i64</td><td>i64</td><td>i64</td><td>str</td><td>str</td><td>str</td></tr></thead><tbody><tr><td>&quot;chr22&quot;</td><td>&quot;RepeatMasker-4.0.1&quot;</td><td>&quot;similarity&quot;</td><td>31139004</td><td>31139342</td><td>2688</td><td>&quot;-&quot;</td><td>&quot;.&quot;</td><td>&quot;Target=LTR14A LTR/ERVK 1 344;D…</td></tr><tr><td>&quot;chr22&quot;</td><td>&quot;RepeatMasker-4.0.1&quot;</td><td>&quot;similarity&quot;</td><td>31139351</td><td>31139472</td><td>825</td><td>&quot;-&quot;</td><td>&quot;.&quot;</td><td>&quot;Target=HERVK14-int LTR/ERVK 59…</td></tr><tr><td>&quot;chr22&quot;</td><td>&quot;RepeatMasker-4.0.1&quot;</td><td>&quot;similarity&quot;</td><td>31139473</td><td>31139529</td><td>338</td><td>&quot;-&quot;</td><td>&quot;.&quot;</td><td>&quot;Target=MER41C LTR/ERV1 6 61;Di…</td></tr><tr><td>&quot;chr22&quot;</td><td>&quot;RepeatMasker-4.0.1&quot;</td><td>&quot;similarity&quot;</td><td>31139530</td><td>31139607</td><td>622</td><td>&quot;-&quot;</td><td>&quot;.&quot;</td><td>&quot;Target=HERVK14-int LTR/ERVK 58…</td></tr><tr><td>&quot;chr22&quot;</td><td>&quot;RepeatMasker-4.0.1&quot;</td><td>&quot;similarity&quot;</td><td>31139608</td><td>31139666</td><td>194</td><td>&quot;+&quot;</td><td>&quot;.&quot;</td><td>&quot;Target=MIRc SINE/MIR 126 188;D…</td></tr><tr><td>&hellip;</td><td>&hellip;</td><td>&hellip;</td><td>&hellip;</td><td>&hellip;</td><td>&hellip;</td><td>&hellip;</td><td>&hellip;</td><td>&hellip;</td></tr><tr><td>&quot;chr22&quot;</td><td>&quot;RepeatMasker-4.0.1&quot;</td><td>&quot;similarity&quot;</td><td>31143153</td><td>31143497</td><td>2821</td><td>&quot;-&quot;</td><td>&quot;.&quot;</td><td>&quot;Target=LTR14A LTR/ERVK 1 344;D…</td></tr><tr><td>&quot;chr22&quot;</td><td>&quot;RepeatMasker-4.0.1&quot;</td><td>&quot;similarity&quot;</td><td>31143700</td><td>31143984</td><td>2274</td><td>&quot;-&quot;</td><td>&quot;.&quot;</td><td>&quot;Target=AluSc SINE/Alu 1 296;Di…</td></tr><tr><td>&quot;chr22&quot;</td><td>&quot;RepeatMasker-4.0.1&quot;</td><td>&quot;similarity&quot;</td><td>31143985</td><td>31144095</td><td>801</td><td>&quot;-&quot;</td><td>&quot;.&quot;</td><td>&quot;Target=AluSx SINE/Alu 6 116;Di…</td></tr><tr><td>&quot;chr22&quot;</td><td>&quot;RepeatMasker-4.0.1&quot;</td><td>&quot;similarity&quot;</td><td>31144105</td><td>31144188</td><td>186</td><td>&quot;+&quot;</td><td>&quot;.&quot;</td><td>&quot;Target=L2c LINE/L2 3284 3369;D…</td></tr><tr><td>&quot;chr22&quot;</td><td>&quot;RepeatMasker-4.0.1&quot;</td><td>&quot;similarity&quot;</td><td>31144189</td><td>31144490</td><td>2163</td><td>&quot;-&quot;</td><td>&quot;.&quot;</td><td>&quot;Target=AluSx SINE/Alu 1 302;Di…</td></tr></tbody></table></div>"
      ],
      "text/plain": [
       "shape: (15, 9)\n",
       "┌───────┬──────────────────┬────────────┬──────────┬───┬───────┬────────┬───────┬──────────────────┐\n",
       "│ seqid ┆ source           ┆ type       ┆ start    ┆ … ┆ score ┆ strand ┆ phase ┆ attributes       │\n",
       "│ ---   ┆ ---              ┆ ---        ┆ ---      ┆   ┆ ---   ┆ ---    ┆ ---   ┆ ---              │\n",
       "│ str   ┆ str              ┆ str        ┆ i64      ┆   ┆ i64   ┆ str    ┆ str   ┆ str              │\n",
       "╞═══════╪══════════════════╪════════════╪══════════╪═══╪═══════╪════════╪═══════╪══════════════════╡\n",
       "│ chr22 ┆ RepeatMasker-4.0 ┆ similarity ┆ 31139004 ┆ … ┆ 2688  ┆ -      ┆ .     ┆ Target=LTR14A    │\n",
       "│       ┆ .1               ┆            ┆          ┆   ┆       ┆        ┆       ┆ LTR/ERVK 1       │\n",
       "│       ┆                  ┆            ┆          ┆   ┆       ┆        ┆       ┆ 344;D…           │\n",
       "│ chr22 ┆ RepeatMasker-4.0 ┆ similarity ┆ 31139351 ┆ … ┆ 825   ┆ -      ┆ .     ┆ Target=HERVK14-i │\n",
       "│       ┆ .1               ┆            ┆          ┆   ┆       ┆        ┆       ┆ nt LTR/ERVK 59…  │\n",
       "│ chr22 ┆ RepeatMasker-4.0 ┆ similarity ┆ 31139473 ┆ … ┆ 338   ┆ -      ┆ .     ┆ Target=MER41C    │\n",
       "│       ┆ .1               ┆            ┆          ┆   ┆       ┆        ┆       ┆ LTR/ERV1 6       │\n",
       "│       ┆                  ┆            ┆          ┆   ┆       ┆        ┆       ┆ 61;Di…           │\n",
       "│ chr22 ┆ RepeatMasker-4.0 ┆ similarity ┆ 31139530 ┆ … ┆ 622   ┆ -      ┆ .     ┆ Target=HERVK14-i │\n",
       "│       ┆ .1               ┆            ┆          ┆   ┆       ┆        ┆       ┆ nt LTR/ERVK 58…  │\n",
       "│ chr22 ┆ RepeatMasker-4.0 ┆ similarity ┆ 31139608 ┆ … ┆ 194   ┆ +      ┆ .     ┆ Target=MIRc      │\n",
       "│       ┆ .1               ┆            ┆          ┆   ┆       ┆        ┆       ┆ SINE/MIR 126     │\n",
       "│       ┆                  ┆            ┆          ┆   ┆       ┆        ┆       ┆ 188;D…           │\n",
       "│ …     ┆ …                ┆ …          ┆ …        ┆ … ┆ …     ┆ …      ┆ …     ┆ …                │\n",
       "│ chr22 ┆ RepeatMasker-4.0 ┆ similarity ┆ 31143153 ┆ … ┆ 2821  ┆ -      ┆ .     ┆ Target=LTR14A    │\n",
       "│       ┆ .1               ┆            ┆          ┆   ┆       ┆        ┆       ┆ LTR/ERVK 1       │\n",
       "│       ┆                  ┆            ┆          ┆   ┆       ┆        ┆       ┆ 344;D…           │\n",
       "│ chr22 ┆ RepeatMasker-4.0 ┆ similarity ┆ 31143700 ┆ … ┆ 2274  ┆ -      ┆ .     ┆ Target=AluSc     │\n",
       "│       ┆ .1               ┆            ┆          ┆   ┆       ┆        ┆       ┆ SINE/Alu 1       │\n",
       "│       ┆                  ┆            ┆          ┆   ┆       ┆        ┆       ┆ 296;Di…          │\n",
       "│ chr22 ┆ RepeatMasker-4.0 ┆ similarity ┆ 31143985 ┆ … ┆ 801   ┆ -      ┆ .     ┆ Target=AluSx     │\n",
       "│       ┆ .1               ┆            ┆          ┆   ┆       ┆        ┆       ┆ SINE/Alu 6       │\n",
       "│       ┆                  ┆            ┆          ┆   ┆       ┆        ┆       ┆ 116;Di…          │\n",
       "│ chr22 ┆ RepeatMasker-4.0 ┆ similarity ┆ 31144105 ┆ … ┆ 186   ┆ +      ┆ .     ┆ Target=L2c       │\n",
       "│       ┆ .1               ┆            ┆          ┆   ┆       ┆        ┆       ┆ LINE/L2 3284     │\n",
       "│       ┆                  ┆            ┆          ┆   ┆       ┆        ┆       ┆ 3369;D…          │\n",
       "│ chr22 ┆ RepeatMasker-4.0 ┆ similarity ┆ 31144189 ┆ … ┆ 2163  ┆ -      ┆ .     ┆ Target=AluSx     │\n",
       "│       ┆ .1               ┆            ┆          ┆   ┆       ┆        ┆       ┆ SINE/Alu 1       │\n",
       "│       ┆                  ┆            ┆          ┆   ┆       ┆        ┆       ┆ 302;Di…          │\n",
       "└───────┴──────────────────┴────────────┴──────────┴───┴───────┴────────┴───────┴──────────────────┘"
      ]
     },
     "execution_count": 95,
     "metadata": {},
     "output_type": "execute_result"
    }
   ],
   "source": [
    "repeat_masker.filter((pl.col('seqid') == 'chr22') & (pl.col('start') > 31139000) & (pl.col('end') < 31145000))"
   ]
  },
  {
   "cell_type": "code",
   "execution_count": 101,
   "id": "336c5932-6965-4666-acbe-7c60979277f7",
   "metadata": {
    "scrolled": true
   },
   "outputs": [
    {
     "data": {
      "text/plain": [
       "[SeqFeature(SimpleLocation(ExactPosition(5512), ExactPosition(5816), strand=1), type='SINE/Alu', qualifiers=...),\n",
       " SeqFeature(SimpleLocation(ExactPosition(9039), ExactPosition(9303), strand=1), type='SINE/Alu', qualifiers=...),\n",
       " SeqFeature(SimpleLocation(ExactPosition(12158), ExactPosition(12304), strand=-1), type='SINE/Alu', qualifiers=...),\n",
       " SeqFeature(SimpleLocation(ExactPosition(33001), ExactPosition(33304), strand=-1), type='SINE/Alu', qualifiers=...),\n",
       " SeqFeature(SimpleLocation(ExactPosition(42167), ExactPosition(42447), strand=-1), type='SINE/Alu', qualifiers=...),\n",
       " SeqFeature(SimpleLocation(ExactPosition(43485), ExactPosition(43766), strand=-1), type='SINE/Alu', qualifiers=...),\n",
       " SeqFeature(SimpleLocation(ExactPosition(44067), ExactPosition(44375), strand=1), type='SINE/Alu', qualifiers=...),\n",
       " SeqFeature(SimpleLocation(ExactPosition(45170), ExactPosition(45476), strand=1), type='SINE/Alu', qualifiers=...),\n",
       " SeqFeature(SimpleLocation(ExactPosition(48289), ExactPosition(48591), strand=1), type='SINE/Alu', qualifiers=...),\n",
       " SeqFeature(SimpleLocation(ExactPosition(52877), ExactPosition(53174), strand=-1), type='SINE/Alu', qualifiers=...),\n",
       " SeqFeature(SimpleLocation(ExactPosition(59129), ExactPosition(59422), strand=-1), type='SINE/Alu', qualifiers=...),\n",
       " SeqFeature(SimpleLocation(ExactPosition(61518), ExactPosition(61724), strand=-1), type='SINE/Alu', qualifiers=...),\n",
       " SeqFeature(SimpleLocation(ExactPosition(62200), ExactPosition(62339), strand=-1), type='SINE/Alu', qualifiers=...),\n",
       " SeqFeature(SimpleLocation(ExactPosition(62458), ExactPosition(62553), strand=1), type='SINE/Alu', qualifiers=...),\n",
       " SeqFeature(SimpleLocation(ExactPosition(65874), ExactPosition(66144), strand=-1), type='SINE/Alu', qualifiers=...),\n",
       " SeqFeature(SimpleLocation(ExactPosition(231899), ExactPosition(232070), strand=-1), type='SINE/Alu', qualifiers=...),\n",
       " SeqFeature(SimpleLocation(ExactPosition(238014), ExactPosition(238115), strand=-1), type='SINE/Alu', qualifiers=...),\n",
       " SeqFeature(SimpleLocation(ExactPosition(238631), ExactPosition(238939), strand=1), type='SINE/Alu', qualifiers=...),\n",
       " SeqFeature(SimpleLocation(ExactPosition(239095), ExactPosition(239385), strand=-1), type='SINE/Alu', qualifiers=...),\n",
       " SeqFeature(SimpleLocation(ExactPosition(240221), ExactPosition(240511), strand=-1), type='SINE/Alu', qualifiers=...),\n",
       " SeqFeature(SimpleLocation(ExactPosition(240559), ExactPosition(240646), strand=-1), type='SINE/Alu', qualifiers=...),\n",
       " SeqFeature(SimpleLocation(ExactPosition(240662), ExactPosition(240964), strand=-1), type='SINE/Alu', qualifiers=...),\n",
       " SeqFeature(SimpleLocation(ExactPosition(241048), ExactPosition(241353), strand=1), type='SINE/Alu', qualifiers=...),\n",
       " SeqFeature(SimpleLocation(ExactPosition(241787), ExactPosition(242076), strand=1), type='SINE/Alu', qualifiers=...),\n",
       " SeqFeature(SimpleLocation(ExactPosition(243738), ExactPosition(244045), strand=1), type='SINE/Alu', qualifiers=...),\n",
       " SeqFeature(SimpleLocation(ExactPosition(252886), ExactPosition(253180), strand=-1), type='SINE/Alu', qualifiers=...),\n",
       " SeqFeature(SimpleLocation(ExactPosition(254715), ExactPosition(254996), strand=-1), type='SINE/Alu', qualifiers=...),\n",
       " SeqFeature(SimpleLocation(ExactPosition(255031), ExactPosition(255326), strand=1), type='SINE/Alu', qualifiers=...),\n",
       " SeqFeature(SimpleLocation(ExactPosition(255522), ExactPosition(255818), strand=1), type='SINE/Alu', qualifiers=...),\n",
       " SeqFeature(SimpleLocation(ExactPosition(259916), ExactPosition(260218), strand=-1), type='SINE/Alu', qualifiers=...),\n",
       " SeqFeature(SimpleLocation(ExactPosition(261992), ExactPosition(262282), strand=1), type='SINE/Alu', qualifiers=...),\n",
       " SeqFeature(SimpleLocation(ExactPosition(262760), ExactPosition(263060), strand=1), type='SINE/Alu', qualifiers=...),\n",
       " SeqFeature(SimpleLocation(ExactPosition(263603), ExactPosition(263896), strand=-1), type='SINE/Alu', qualifiers=...),\n",
       " SeqFeature(SimpleLocation(ExactPosition(268689), ExactPosition(269010), strand=-1), type='SINE/Alu', qualifiers=...),\n",
       " SeqFeature(SimpleLocation(ExactPosition(276173), ExactPosition(276442), strand=1), type='SINE/Alu', qualifiers=...),\n",
       " SeqFeature(SimpleLocation(ExactPosition(276863), ExactPosition(277171), strand=1), type='SINE/Alu', qualifiers=...),\n",
       " SeqFeature(SimpleLocation(ExactPosition(277530), ExactPosition(277837), strand=1), type='SINE/Alu', qualifiers=...),\n",
       " SeqFeature(SimpleLocation(ExactPosition(350973), ExactPosition(351247), strand=-1), type='SINE/Alu', qualifiers=...),\n",
       " SeqFeature(SimpleLocation(ExactPosition(352190), ExactPosition(352489), strand=1), type='SINE/Alu', qualifiers=...),\n",
       " SeqFeature(SimpleLocation(ExactPosition(357849), ExactPosition(358164), strand=-1), type='SINE/Alu', qualifiers=...),\n",
       " SeqFeature(SimpleLocation(ExactPosition(359406), ExactPosition(359697), strand=-1), type='SINE/Alu', qualifiers=...),\n",
       " SeqFeature(SimpleLocation(ExactPosition(363158), ExactPosition(363460), strand=-1), type='SINE/Alu', qualifiers=...),\n",
       " SeqFeature(SimpleLocation(ExactPosition(363490), ExactPosition(363799), strand=1), type='SINE/Alu', qualifiers=...),\n",
       " SeqFeature(SimpleLocation(ExactPosition(364389), ExactPosition(364698), strand=1), type='SINE/Alu', qualifiers=...),\n",
       " SeqFeature(SimpleLocation(ExactPosition(367910), ExactPosition(368204), strand=1), type='SINE/Alu', qualifiers=...),\n",
       " SeqFeature(SimpleLocation(ExactPosition(374927), ExactPosition(375215), strand=-1), type='SINE/Alu', qualifiers=...),\n",
       " SeqFeature(SimpleLocation(ExactPosition(375529), ExactPosition(375823), strand=1), type='SINE/Alu', qualifiers=...),\n",
       " SeqFeature(SimpleLocation(ExactPosition(378751), ExactPosition(379042), strand=-1), type='SINE/Alu', qualifiers=...),\n",
       " SeqFeature(SimpleLocation(ExactPosition(383886), ExactPosition(384175), strand=-1), type='SINE/Alu', qualifiers=...),\n",
       " SeqFeature(SimpleLocation(ExactPosition(386095), ExactPosition(386403), strand=1), type='SINE/Alu', qualifiers=...),\n",
       " SeqFeature(SimpleLocation(ExactPosition(386832), ExactPosition(387126), strand=1), type='SINE/Alu', qualifiers=...),\n",
       " SeqFeature(SimpleLocation(ExactPosition(388506), ExactPosition(388779), strand=-1), type='SINE/Alu', qualifiers=...),\n",
       " SeqFeature(SimpleLocation(ExactPosition(389215), ExactPosition(389507), strand=1), type='SINE/Alu', qualifiers=...),\n",
       " SeqFeature(SimpleLocation(ExactPosition(397943), ExactPosition(398239), strand=-1), type='SINE/Alu', qualifiers=...),\n",
       " SeqFeature(SimpleLocation(ExactPosition(398636), ExactPosition(398934), strand=1), type='SINE/Alu', qualifiers=...),\n",
       " SeqFeature(SimpleLocation(ExactPosition(399057), ExactPosition(399352), strand=-1), type='SINE/Alu', qualifiers=...),\n",
       " SeqFeature(SimpleLocation(ExactPosition(400524), ExactPosition(400813), strand=-1), type='SINE/Alu', qualifiers=...),\n",
       " SeqFeature(SimpleLocation(ExactPosition(400902), ExactPosition(401175), strand=1), type='SINE/Alu', qualifiers=...),\n",
       " SeqFeature(SimpleLocation(ExactPosition(401653), ExactPosition(401969), strand=1), type='SINE/Alu', qualifiers=...),\n",
       " SeqFeature(SimpleLocation(ExactPosition(402207), ExactPosition(402502), strand=1), type='SINE/Alu', qualifiers=...),\n",
       " SeqFeature(SimpleLocation(ExactPosition(402521), ExactPosition(402807), strand=1), type='SINE/Alu', qualifiers=...),\n",
       " SeqFeature(SimpleLocation(ExactPosition(403573), ExactPosition(403873), strand=-1), type='SINE/Alu', qualifiers=...),\n",
       " SeqFeature(SimpleLocation(ExactPosition(403990), ExactPosition(404209), strand=-1), type='SINE/Alu', qualifiers=...),\n",
       " SeqFeature(SimpleLocation(ExactPosition(415209), ExactPosition(415505), strand=-1), type='SINE/Alu', qualifiers=...),\n",
       " SeqFeature(SimpleLocation(ExactPosition(419904), ExactPosition(420208), strand=-1), type='SINE/Alu', qualifiers=...),\n",
       " SeqFeature(SimpleLocation(ExactPosition(427578), ExactPosition(427753), strand=-1), type='SINE/Alu', qualifiers=...),\n",
       " SeqFeature(SimpleLocation(ExactPosition(434477), ExactPosition(434786), strand=-1), type='SINE/Alu', qualifiers=...),\n",
       " SeqFeature(SimpleLocation(ExactPosition(446046), ExactPosition(446358), strand=1), type='SINE/Alu', qualifiers=...),\n",
       " SeqFeature(SimpleLocation(ExactPosition(446505), ExactPosition(446775), strand=-1), type='SINE/Alu', qualifiers=...),\n",
       " SeqFeature(SimpleLocation(ExactPosition(452517), ExactPosition(452811), strand=1), type='SINE/Alu', qualifiers=...),\n",
       " SeqFeature(SimpleLocation(ExactPosition(459754), ExactPosition(459807), strand=-1), type='SINE/Alu', qualifiers=...),\n",
       " SeqFeature(SimpleLocation(ExactPosition(460017), ExactPosition(460083), strand=-1), type='SINE/Alu', qualifiers=...),\n",
       " SeqFeature(SimpleLocation(ExactPosition(460735), ExactPosition(460812), strand=-1), type='SINE/Alu', qualifiers=...),\n",
       " SeqFeature(SimpleLocation(ExactPosition(461139), ExactPosition(461193), strand=-1), type='SINE/Alu', qualifiers=...),\n",
       " SeqFeature(SimpleLocation(ExactPosition(461529), ExactPosition(461581), strand=-1), type='SINE/Alu', qualifiers=...),\n",
       " SeqFeature(SimpleLocation(ExactPosition(461805), ExactPosition(461872), strand=-1), type='SINE/Alu', qualifiers=...),\n",
       " SeqFeature(SimpleLocation(ExactPosition(462081), ExactPosition(462144), strand=-1), type='SINE/Alu', qualifiers=...),\n",
       " SeqFeature(SimpleLocation(ExactPosition(462371), ExactPosition(462420), strand=-1), type='SINE/Alu', qualifiers=...),\n",
       " SeqFeature(SimpleLocation(ExactPosition(462783), ExactPosition(462838), strand=-1), type='SINE/Alu', qualifiers=...),\n",
       " SeqFeature(SimpleLocation(ExactPosition(463191), ExactPosition(463245), strand=-1), type='SINE/Alu', qualifiers=...),\n",
       " SeqFeature(SimpleLocation(ExactPosition(464026), ExactPosition(464089), strand=-1), type='SINE/Alu', qualifiers=...),\n",
       " SeqFeature(SimpleLocation(ExactPosition(464379), ExactPosition(464469), strand=-1), type='SINE/Alu', qualifiers=...),\n",
       " SeqFeature(SimpleLocation(ExactPosition(464858), ExactPosition(464913), strand=-1), type='SINE/Alu', qualifiers=...),\n",
       " SeqFeature(SimpleLocation(ExactPosition(465132), ExactPosition(465195), strand=-1), type='SINE/Alu', qualifiers=...),\n",
       " SeqFeature(SimpleLocation(ExactPosition(465510), ExactPosition(465576), strand=-1), type='SINE/Alu', qualifiers=...),\n",
       " SeqFeature(SimpleLocation(ExactPosition(465807), ExactPosition(465874), strand=-1), type='SINE/Alu', qualifiers=...),\n",
       " SeqFeature(SimpleLocation(ExactPosition(466249), ExactPosition(466316), strand=-1), type='SINE/Alu', qualifiers=...),\n",
       " SeqFeature(SimpleLocation(ExactPosition(466516), ExactPosition(466609), strand=-1), type='SINE/Alu', qualifiers=...),\n",
       " SeqFeature(SimpleLocation(ExactPosition(466730), ExactPosition(466785), strand=-1), type='SINE/Alu', qualifiers=...),\n",
       " SeqFeature(SimpleLocation(ExactPosition(467008), ExactPosition(467072), strand=-1), type='SINE/Alu', qualifiers=...),\n",
       " SeqFeature(SimpleLocation(ExactPosition(467220), ExactPosition(467283), strand=-1), type='SINE/Alu', qualifiers=...),\n",
       " SeqFeature(SimpleLocation(ExactPosition(467762), ExactPosition(467825), strand=-1), type='SINE/Alu', qualifiers=...),\n",
       " SeqFeature(SimpleLocation(ExactPosition(468317), ExactPosition(468383), strand=-1), type='SINE/Alu', qualifiers=...),\n",
       " SeqFeature(SimpleLocation(ExactPosition(2247138), ExactPosition(2247449), strand=-1), type='SINE/Alu', qualifiers=...),\n",
       " SeqFeature(SimpleLocation(ExactPosition(2386128), ExactPosition(2386429), strand=1), type='SINE/Alu', qualifiers=...),\n",
       " SeqFeature(SimpleLocation(ExactPosition(3529615), ExactPosition(3529672), strand=1), type='SINE/Alu', qualifiers=...),\n",
       " SeqFeature(SimpleLocation(ExactPosition(3529790), ExactPosition(3529854), strand=1), type='SINE/Alu', qualifiers=...),\n",
       " SeqFeature(SimpleLocation(ExactPosition(3530073), ExactPosition(3530140), strand=1), type='SINE/Alu', qualifiers=...),\n",
       " SeqFeature(SimpleLocation(ExactPosition(3530275), ExactPosition(3530347), strand=1), type='SINE/Alu', qualifiers=...),\n",
       " SeqFeature(SimpleLocation(ExactPosition(3530532), ExactPosition(3530599), strand=1), type='SINE/Alu', qualifiers=...),\n",
       " SeqFeature(SimpleLocation(ExactPosition(3531331), ExactPosition(3531398), strand=1), type='SINE/Alu', qualifiers=...),\n",
       " SeqFeature(SimpleLocation(ExactPosition(3531571), ExactPosition(3531661), strand=1), type='SINE/Alu', qualifiers=...),\n",
       " SeqFeature(SimpleLocation(ExactPosition(3532842), ExactPosition(3532896), strand=1), type='SINE/Alu', qualifiers=...),\n",
       " SeqFeature(SimpleLocation(ExactPosition(3533324), ExactPosition(3533387), strand=1), type='SINE/Alu', qualifiers=...),\n",
       " SeqFeature(SimpleLocation(ExactPosition(3533512), ExactPosition(3533573), strand=1), type='SINE/Alu', qualifiers=...),\n",
       " SeqFeature(SimpleLocation(ExactPosition(3534275), ExactPosition(3534320), strand=1), type='SINE/Alu', qualifiers=...),\n",
       " SeqFeature(SimpleLocation(ExactPosition(3534521), ExactPosition(3534584), strand=1), type='SINE/Alu', qualifiers=...),\n",
       " SeqFeature(SimpleLocation(ExactPosition(3534898), ExactPosition(3534961), strand=1), type='SINE/Alu', qualifiers=...),\n",
       " SeqFeature(SimpleLocation(ExactPosition(3535084), ExactPosition(3535152), strand=1), type='SINE/Alu', qualifiers=...),\n",
       " SeqFeature(SimpleLocation(ExactPosition(3535367), ExactPosition(3535434), strand=1), type='SINE/Alu', qualifiers=...),\n",
       " SeqFeature(SimpleLocation(ExactPosition(3535853), ExactPosition(3535926), strand=1), type='SINE/Alu', qualifiers=...),\n",
       " SeqFeature(SimpleLocation(ExactPosition(3536632), ExactPosition(3536698), strand=1), type='SINE/Alu', qualifiers=...),\n",
       " SeqFeature(SimpleLocation(ExactPosition(3536913), ExactPosition(3536985), strand=1), type='SINE/Alu', qualifiers=...),\n",
       " SeqFeature(SimpleLocation(ExactPosition(3598025), ExactPosition(3598084), strand=1), type='SINE/Alu', qualifiers=...),\n",
       " SeqFeature(SimpleLocation(ExactPosition(3598301), ExactPosition(3598360), strand=1), type='SINE/Alu', qualifiers=...),\n",
       " SeqFeature(SimpleLocation(ExactPosition(3607874), ExactPosition(3607925), strand=1), type='SINE/Alu', qualifiers=...),\n",
       " SeqFeature(SimpleLocation(ExactPosition(3609784), ExactPosition(3609846), strand=1), type='SINE/Alu', qualifiers=...),\n",
       " SeqFeature(SimpleLocation(ExactPosition(3610657), ExactPosition(3610720), strand=1), type='SINE/Alu', qualifiers=...),\n",
       " SeqFeature(SimpleLocation(ExactPosition(3611254), ExactPosition(3611312), strand=1), type='SINE/Alu', qualifiers=...),\n",
       " SeqFeature(SimpleLocation(ExactPosition(3611509), ExactPosition(3611560), strand=1), type='SINE/Alu', qualifiers=...),\n",
       " SeqFeature(SimpleLocation(ExactPosition(3613326), ExactPosition(3613385), strand=1), type='SINE/Alu', qualifiers=...),\n",
       " SeqFeature(SimpleLocation(ExactPosition(3613750), ExactPosition(3613807), strand=1), type='SINE/Alu', qualifiers=...),\n",
       " SeqFeature(SimpleLocation(ExactPosition(3614203), ExactPosition(3614270), strand=1), type='SINE/Alu', qualifiers=...),\n",
       " SeqFeature(SimpleLocation(ExactPosition(3614540), ExactPosition(3614595), strand=1), type='SINE/Alu', qualifiers=...),\n",
       " SeqFeature(SimpleLocation(ExactPosition(3615013), ExactPosition(3615075), strand=1), type='SINE/Alu', qualifiers=...),\n",
       " SeqFeature(SimpleLocation(ExactPosition(3615389), ExactPosition(3615448), strand=1), type='SINE/Alu', qualifiers=...),\n",
       " SeqFeature(SimpleLocation(ExactPosition(3616081), ExactPosition(3616141), strand=1), type='SINE/Alu', qualifiers=...),\n",
       " SeqFeature(SimpleLocation(ExactPosition(3616283), ExactPosition(3616347), strand=1), type='SINE/Alu', qualifiers=...),\n",
       " SeqFeature(SimpleLocation(ExactPosition(3616495), ExactPosition(3616559), strand=1), type='SINE/Alu', qualifiers=...),\n",
       " SeqFeature(SimpleLocation(ExactPosition(3616748), ExactPosition(3616799), strand=1), type='SINE/Alu', qualifiers=...),\n",
       " SeqFeature(SimpleLocation(ExactPosition(3617386), ExactPosition(3617445), strand=1), type='SINE/Alu', qualifiers=...),\n",
       " SeqFeature(SimpleLocation(ExactPosition(3618015), ExactPosition(3618096), strand=1), type='SINE/Alu', qualifiers=...),\n",
       " SeqFeature(SimpleLocation(ExactPosition(3618265), ExactPosition(3618328), strand=1), type='SINE/Alu', qualifiers=...),\n",
       " SeqFeature(SimpleLocation(ExactPosition(3618692), ExactPosition(3618758), strand=1), type='SINE/Alu', qualifiers=...),\n",
       " SeqFeature(SimpleLocation(ExactPosition(3619489), ExactPosition(3619543), strand=1), type='SINE/Alu', qualifiers=...),\n",
       " SeqFeature(SimpleLocation(ExactPosition(3619920), ExactPosition(3619979), strand=1), type='SINE/Alu', qualifiers=...),\n",
       " SeqFeature(SimpleLocation(ExactPosition(3620555), ExactPosition(3620619), strand=1), type='SINE/Alu', qualifiers=...),\n",
       " SeqFeature(SimpleLocation(ExactPosition(3620757), ExactPosition(3620821), strand=1), type='SINE/Alu', qualifiers=...),\n",
       " SeqFeature(SimpleLocation(ExactPosition(3620959), ExactPosition(3621023), strand=1), type='SINE/Alu', qualifiers=...),\n",
       " SeqFeature(SimpleLocation(ExactPosition(3621232), ExactPosition(3621294), strand=1), type='SINE/Alu', qualifiers=...),\n",
       " SeqFeature(SimpleLocation(ExactPosition(3621393), ExactPosition(3621447), strand=1), type='SINE/Alu', qualifiers=...),\n",
       " SeqFeature(SimpleLocation(ExactPosition(3621877), ExactPosition(3621939), strand=1), type='SINE/Alu', qualifiers=...),\n",
       " SeqFeature(SimpleLocation(ExactPosition(3622233), ExactPosition(3622297), strand=1), type='SINE/Alu', qualifiers=...),\n",
       " SeqFeature(SimpleLocation(ExactPosition(3622565), ExactPosition(3622619), strand=1), type='SINE/Alu', qualifiers=...),\n",
       " SeqFeature(SimpleLocation(ExactPosition(3622820), ExactPosition(3622875), strand=1), type='SINE/Alu', qualifiers=...),\n",
       " SeqFeature(SimpleLocation(ExactPosition(3623218), ExactPosition(3623281), strand=1), type='SINE/Alu', qualifiers=...),\n",
       " SeqFeature(SimpleLocation(ExactPosition(3623599), ExactPosition(3623654), strand=1), type='SINE/Alu', qualifiers=...),\n",
       " SeqFeature(SimpleLocation(ExactPosition(3624047), ExactPosition(3624109), strand=1), type='SINE/Alu', qualifiers=...),\n",
       " SeqFeature(SimpleLocation(ExactPosition(3624759), ExactPosition(3624819), strand=1), type='SINE/Alu', qualifiers=...),\n",
       " SeqFeature(SimpleLocation(ExactPosition(3625888), ExactPosition(3625951), strand=1), type='SINE/Alu', qualifiers=...),\n",
       " SeqFeature(SimpleLocation(ExactPosition(3626275), ExactPosition(3626330), strand=1), type='SINE/Alu', qualifiers=...),\n",
       " SeqFeature(SimpleLocation(ExactPosition(3626708), ExactPosition(3626770), strand=1), type='SINE/Alu', qualifiers=...),\n",
       " SeqFeature(SimpleLocation(ExactPosition(3627136), ExactPosition(3627196), strand=1), type='SINE/Alu', qualifiers=...),\n",
       " SeqFeature(SimpleLocation(ExactPosition(3627988), ExactPosition(3628050), strand=1), type='SINE/Alu', qualifiers=...),\n",
       " SeqFeature(SimpleLocation(ExactPosition(3629030), ExactPosition(3629098), strand=1), type='SINE/Alu', qualifiers=...),\n",
       " SeqFeature(SimpleLocation(ExactPosition(3629310), ExactPosition(3629363), strand=1), type='SINE/Alu', qualifiers=...),\n",
       " SeqFeature(SimpleLocation(ExactPosition(3630086), ExactPosition(3630141), strand=1), type='SINE/Alu', qualifiers=...),\n",
       " SeqFeature(SimpleLocation(ExactPosition(3630544), ExactPosition(3630605), strand=1), type='SINE/Alu', qualifiers=...),\n",
       " SeqFeature(SimpleLocation(ExactPosition(3630884), ExactPosition(3630947), strand=1), type='SINE/Alu', qualifiers=...),\n",
       " SeqFeature(SimpleLocation(ExactPosition(3631246), ExactPosition(3631310), strand=1), type='SINE/Alu', qualifiers=...),\n",
       " SeqFeature(SimpleLocation(ExactPosition(3631739), ExactPosition(3631794), strand=1), type='SINE/Alu', qualifiers=...),\n",
       " SeqFeature(SimpleLocation(ExactPosition(3632105), ExactPosition(3632160), strand=1), type='SINE/Alu', qualifiers=...),\n",
       " SeqFeature(SimpleLocation(ExactPosition(3632479), ExactPosition(3632533), strand=1), type='SINE/Alu', qualifiers=...),\n",
       " SeqFeature(SimpleLocation(ExactPosition(3632854), ExactPosition(3632917), strand=1), type='SINE/Alu', qualifiers=...),\n",
       " SeqFeature(SimpleLocation(ExactPosition(3633635), ExactPosition(3633698), strand=1), type='SINE/Alu', qualifiers=...),\n",
       " SeqFeature(SimpleLocation(ExactPosition(3634315), ExactPosition(3634377), strand=1), type='SINE/Alu', qualifiers=...),\n",
       " SeqFeature(SimpleLocation(ExactPosition(3634611), ExactPosition(3634675), strand=1), type='SINE/Alu', qualifiers=...),\n",
       " SeqFeature(SimpleLocation(ExactPosition(3641544), ExactPosition(3641840), strand=-1), type='SINE/Alu', qualifiers=...),\n",
       " SeqFeature(SimpleLocation(ExactPosition(3647436), ExactPosition(3647704), strand=1), type='SINE/Alu', qualifiers=...),\n",
       " SeqFeature(SimpleLocation(ExactPosition(3647892), ExactPosition(3648205), strand=-1), type='SINE/Alu', qualifiers=...),\n",
       " SeqFeature(SimpleLocation(ExactPosition(3659466), ExactPosition(3659773), strand=1), type='SINE/Alu', qualifiers=...),\n",
       " SeqFeature(SimpleLocation(ExactPosition(3666480), ExactPosition(3666647), strand=1), type='SINE/Alu', qualifiers=...),\n",
       " SeqFeature(SimpleLocation(ExactPosition(3674028), ExactPosition(3674329), strand=1), type='SINE/Alu', qualifiers=...),\n",
       " SeqFeature(SimpleLocation(ExactPosition(3678736), ExactPosition(3679006), strand=1), type='SINE/Alu', qualifiers=...),\n",
       " SeqFeature(SimpleLocation(ExactPosition(3690087), ExactPosition(3690306), strand=1), type='SINE/Alu', qualifiers=...),\n",
       " SeqFeature(SimpleLocation(ExactPosition(3690423), ExactPosition(3690723), strand=1), type='SINE/Alu', qualifiers=...),\n",
       " SeqFeature(SimpleLocation(ExactPosition(3691478), ExactPosition(3691765), strand=-1), type='SINE/Alu', qualifiers=...),\n",
       " SeqFeature(SimpleLocation(ExactPosition(3691824), ExactPosition(3692125), strand=-1), type='SINE/Alu', qualifiers=...),\n",
       " SeqFeature(SimpleLocation(ExactPosition(3692365), ExactPosition(3692681), strand=-1), type='SINE/Alu', qualifiers=...),\n",
       " SeqFeature(SimpleLocation(ExactPosition(3693162), ExactPosition(3693434), strand=-1), type='SINE/Alu', qualifiers=...),\n",
       " SeqFeature(SimpleLocation(ExactPosition(3693523), ExactPosition(3693811), strand=1), type='SINE/Alu', qualifiers=...),\n",
       " SeqFeature(SimpleLocation(ExactPosition(3694993), ExactPosition(3695302), strand=1), type='SINE/Alu', qualifiers=...),\n",
       " SeqFeature(SimpleLocation(ExactPosition(3695411), ExactPosition(3695707), strand=-1), type='SINE/Alu', qualifiers=...),\n",
       " SeqFeature(SimpleLocation(ExactPosition(3696129), ExactPosition(3696420), strand=1), type='SINE/Alu', qualifiers=...),\n",
       " SeqFeature(SimpleLocation(ExactPosition(3704834), ExactPosition(3705126), strand=-1), type='SINE/Alu', qualifiers=...),\n",
       " SeqFeature(SimpleLocation(ExactPosition(3705552), ExactPosition(3705815), strand=1), type='SINE/Alu', qualifiers=...),\n",
       " SeqFeature(SimpleLocation(ExactPosition(3707188), ExactPosition(3707482), strand=-1), type='SINE/Alu', qualifiers=...),\n",
       " SeqFeature(SimpleLocation(ExactPosition(3707910), ExactPosition(3708123), strand=-1), type='SINE/Alu', qualifiers=...),\n",
       " SeqFeature(SimpleLocation(ExactPosition(3710055), ExactPosition(3710363), strand=1), type='SINE/Alu', qualifiers=...),\n",
       " SeqFeature(SimpleLocation(ExactPosition(3715216), ExactPosition(3715507), strand=1), type='SINE/Alu', qualifiers=...),\n",
       " SeqFeature(SimpleLocation(ExactPosition(3718308), ExactPosition(3718602), strand=-1), type='SINE/Alu', qualifiers=...),\n",
       " SeqFeature(SimpleLocation(ExactPosition(3718911), ExactPosition(3719201), strand=1), type='SINE/Alu', qualifiers=...),\n",
       " SeqFeature(SimpleLocation(ExactPosition(3725790), ExactPosition(3726087), strand=-1), type='SINE/Alu', qualifiers=...),\n",
       " SeqFeature(SimpleLocation(ExactPosition(3729301), ExactPosition(3729609), strand=-1), type='SINE/Alu', qualifiers=...),\n",
       " SeqFeature(SimpleLocation(ExactPosition(3733201), ExactPosition(3733508), strand=-1), type='SINE/Alu', qualifiers=...),\n",
       " SeqFeature(SimpleLocation(ExactPosition(3733620), ExactPosition(3733909), strand=1), type='SINE/Alu', qualifiers=...),\n",
       " SeqFeature(SimpleLocation(ExactPosition(3736828), ExactPosition(3737126), strand=-1), type='SINE/Alu', qualifiers=...),\n",
       " SeqFeature(SimpleLocation(ExactPosition(3737198), ExactPosition(3737520), strand=-1), type='SINE/Alu', qualifiers=...),\n",
       " SeqFeature(SimpleLocation(ExactPosition(3738873), ExactPosition(3739189), strand=1), type='SINE/Alu', qualifiers=...),\n",
       " SeqFeature(SimpleLocation(ExactPosition(3739351), ExactPosition(3739644), strand=1), type='SINE/Alu', qualifiers=...),\n",
       " SeqFeature(SimpleLocation(ExactPosition(3739649), ExactPosition(3739947), strand=1), type='SINE/Alu', qualifiers=...),\n",
       " SeqFeature(SimpleLocation(ExactPosition(3740037), ExactPosition(3740310), strand=-1), type='SINE/Alu', qualifiers=...),\n",
       " SeqFeature(SimpleLocation(ExactPosition(3740435), ExactPosition(3740727), strand=1), type='SINE/Alu', qualifiers=...),\n",
       " SeqFeature(SimpleLocation(ExactPosition(3741028), ExactPosition(3741284), strand=-1), type='SINE/Alu', qualifiers=...),\n",
       " SeqFeature(SimpleLocation(ExactPosition(3741878), ExactPosition(3742169), strand=-1), type='SINE/Alu', qualifiers=...),\n",
       " SeqFeature(SimpleLocation(ExactPosition(3743027), ExactPosition(3743341), strand=1), type='SINE/Alu', qualifiers=...),\n",
       " SeqFeature(SimpleLocation(ExactPosition(3756736), ExactPosition(3757033), strand=1), type='SINE/Alu', qualifiers=...),\n",
       " SeqFeature(SimpleLocation(ExactPosition(3758361), ExactPosition(3758655), strand=-1), type='SINE/Alu', qualifiers=...),\n",
       " SeqFeature(SimpleLocation(ExactPosition(3758830), ExactPosition(3759134), strand=-1), type='SINE/Alu', qualifiers=...),\n",
       " SeqFeature(SimpleLocation(ExactPosition(3759164), ExactPosition(3759461), strand=1), type='SINE/Alu', qualifiers=...),\n",
       " SeqFeature(SimpleLocation(ExactPosition(3762986), ExactPosition(3763277), strand=1), type='SINE/Alu', qualifiers=...),\n",
       " SeqFeature(SimpleLocation(ExactPosition(3764513), ExactPosition(3764829), strand=1), type='SINE/Alu', qualifiers=...),\n",
       " SeqFeature(SimpleLocation(ExactPosition(3769789), ExactPosition(3769882), strand=-1), type='SINE/Alu', qualifiers=...),\n",
       " SeqFeature(SimpleLocation(ExactPosition(3770234), ExactPosition(3770543), strand=-1), type='SINE/Alu', qualifiers=...),\n",
       " SeqFeature(SimpleLocation(ExactPosition(3770963), ExactPosition(3771230), strand=-1), type='SINE/Alu', qualifiers=...),\n",
       " SeqFeature(SimpleLocation(ExactPosition(3778487), ExactPosition(3778787), strand=1), type='SINE/Alu', qualifiers=...),\n",
       " SeqFeature(SimpleLocation(ExactPosition(3783606), ExactPosition(3783899), strand=1), type='SINE/Alu', qualifiers=...),\n",
       " SeqFeature(SimpleLocation(ExactPosition(3784442), ExactPosition(3784738), strand=-1), type='SINE/Alu', qualifiers=...),\n",
       " SeqFeature(SimpleLocation(ExactPosition(3785214), ExactPosition(3785504), strand=-1), type='SINE/Alu', qualifiers=...),\n",
       " SeqFeature(SimpleLocation(ExactPosition(3787277), ExactPosition(3787579), strand=1), type='SINE/Alu', qualifiers=...),\n",
       " SeqFeature(SimpleLocation(ExactPosition(3791677), ExactPosition(3791971), strand=-1), type='SINE/Alu', qualifiers=...),\n",
       " SeqFeature(SimpleLocation(ExactPosition(3792167), ExactPosition(3792462), strand=-1), type='SINE/Alu', qualifiers=...),\n",
       " SeqFeature(SimpleLocation(ExactPosition(3792497), ExactPosition(3792779), strand=1), type='SINE/Alu', qualifiers=...),\n",
       " SeqFeature(SimpleLocation(ExactPosition(3794314), ExactPosition(3794608), strand=1), type='SINE/Alu', qualifiers=...),\n",
       " SeqFeature(SimpleLocation(ExactPosition(3794783), ExactPosition(3794961), strand=-1), type='SINE/Alu', qualifiers=...),\n",
       " SeqFeature(SimpleLocation(ExactPosition(3794987), ExactPosition(3795103), strand=-1), type='SINE/Alu', qualifiers=...),\n",
       " SeqFeature(SimpleLocation(ExactPosition(3795374), ExactPosition(3795462), strand=-1), type='SINE/Alu', qualifiers=...),\n",
       " SeqFeature(SimpleLocation(ExactPosition(3798879), ExactPosition(3799018), strand=1), type='SINE/Alu', qualifiers=...),\n",
       " SeqFeature(SimpleLocation(ExactPosition(3801235), ExactPosition(3801528), strand=1), type='SINE/Alu', qualifiers=...),\n",
       " SeqFeature(SimpleLocation(ExactPosition(3801595), ExactPosition(3801905), strand=1), type='SINE/Alu', qualifiers=...),\n",
       " SeqFeature(SimpleLocation(ExactPosition(3805328), ExactPosition(3805405), strand=1), type='SINE/Alu', qualifiers=...),\n",
       " SeqFeature(SimpleLocation(ExactPosition(3805527), ExactPosition(3805827), strand=-1), type='SINE/Alu', qualifiers=...),\n",
       " SeqFeature(SimpleLocation(ExactPosition(3808880), ExactPosition(3809177), strand=1), type='SINE/Alu', qualifiers=...),\n",
       " SeqFeature(SimpleLocation(ExactPosition(3819862), ExactPosition(3820175), strand=-1), type='SINE/Alu', qualifiers=...),\n",
       " SeqFeature(SimpleLocation(ExactPosition(3821834), ExactPosition(3822127), strand=-1), type='SINE/Alu', qualifiers=...),\n",
       " SeqFeature(SimpleLocation(ExactPosition(3823462), ExactPosition(3823742), strand=1), type='SINE/Alu', qualifiers=...),\n",
       " SeqFeature(SimpleLocation(ExactPosition(3824466), ExactPosition(3824758), strand=1), type='SINE/Alu', qualifiers=...),\n",
       " SeqFeature(SimpleLocation(ExactPosition(3824867), ExactPosition(3824981), strand=-1), type='SINE/Alu', qualifiers=...),\n",
       " SeqFeature(SimpleLocation(ExactPosition(3825539), ExactPosition(3825843), strand=-1), type='SINE/Alu', qualifiers=...),\n",
       " SeqFeature(SimpleLocation(ExactPosition(3825928), ExactPosition(3826230), strand=1), type='SINE/Alu', qualifiers=...),\n",
       " SeqFeature(SimpleLocation(ExactPosition(3826246), ExactPosition(3826544), strand=1), type='SINE/Alu', qualifiers=...),\n",
       " SeqFeature(SimpleLocation(ExactPosition(3826849), ExactPosition(3827151), strand=1), type='SINE/Alu', qualifiers=...),\n",
       " SeqFeature(SimpleLocation(ExactPosition(3827596), ExactPosition(3827849), strand=-1), type='SINE/Alu', qualifiers=...),\n",
       " SeqFeature(SimpleLocation(ExactPosition(3827914), ExactPosition(3828043), strand=-1), type='SINE/Alu', qualifiers=...),\n",
       " SeqFeature(SimpleLocation(ExactPosition(3828664), ExactPosition(3828952), strand=-1), type='SINE/Alu', qualifiers=...),\n",
       " SeqFeature(SimpleLocation(ExactPosition(3829337), ExactPosition(3829462), strand=1), type='SINE/Alu', qualifiers=...),\n",
       " SeqFeature(SimpleLocation(ExactPosition(3829476), ExactPosition(3829777), strand=1), type='SINE/Alu', qualifiers=...),\n",
       " SeqFeature(SimpleLocation(ExactPosition(3830290), ExactPosition(3830629), strand=-1), type='SINE/Alu', qualifiers=...),\n",
       " SeqFeature(SimpleLocation(ExactPosition(3830708), ExactPosition(3830999), strand=1), type='SINE/Alu', qualifiers=...),\n",
       " SeqFeature(SimpleLocation(ExactPosition(3831835), ExactPosition(3832125), strand=1), type='SINE/Alu', qualifiers=...),\n",
       " SeqFeature(SimpleLocation(ExactPosition(3832281), ExactPosition(3832590), strand=-1), type='SINE/Alu', qualifiers=...),\n",
       " SeqFeature(SimpleLocation(ExactPosition(3833098), ExactPosition(3833199), strand=1), type='SINE/Alu', qualifiers=...),\n",
       " SeqFeature(SimpleLocation(ExactPosition(3839160), ExactPosition(3839334), strand=1), type='SINE/Alu', qualifiers=...),\n",
       " SeqFeature(SimpleLocation(ExactPosition(4132070), ExactPosition(4132378), strand=-1), type='SINE/Alu', qualifiers=...),\n",
       " SeqFeature(SimpleLocation(ExactPosition(4132490), ExactPosition(4132779), strand=1), type='SINE/Alu', qualifiers=...),\n",
       " SeqFeature(SimpleLocation(ExactPosition(4135760), ExactPosition(4136061), strand=-1), type='SINE/Alu', qualifiers=...),\n",
       " SeqFeature(SimpleLocation(ExactPosition(4136128), ExactPosition(4136450), strand=-1), type='SINE/Alu', qualifiers=...),\n",
       " SeqFeature(SimpleLocation(ExactPosition(4137924), ExactPosition(4138243), strand=1), type='SINE/Alu', qualifiers=...),\n",
       " SeqFeature(SimpleLocation(ExactPosition(4138406), ExactPosition(4138699), strand=1), type='SINE/Alu', qualifiers=...),\n",
       " SeqFeature(SimpleLocation(ExactPosition(4138704), ExactPosition(4139003), strand=1), type='SINE/Alu', qualifiers=...),\n",
       " SeqFeature(SimpleLocation(ExactPosition(4139092), ExactPosition(4139359), strand=-1), type='SINE/Alu', qualifiers=...),\n",
       " SeqFeature(SimpleLocation(ExactPosition(4139484), ExactPosition(4139778), strand=1), type='SINE/Alu', qualifiers=...),\n",
       " SeqFeature(SimpleLocation(ExactPosition(4140062), ExactPosition(4140329), strand=-1), type='SINE/Alu', qualifiers=...),\n",
       " SeqFeature(SimpleLocation(ExactPosition(4140912), ExactPosition(4141215), strand=-1), type='SINE/Alu', qualifiers=...),\n",
       " SeqFeature(SimpleLocation(ExactPosition(4142073), ExactPosition(4142382), strand=1), type='SINE/Alu', qualifiers=...),\n",
       " SeqFeature(SimpleLocation(ExactPosition(4160486), ExactPosition(4160683), strand=-1), type='SINE/Alu', qualifiers=...),\n",
       " SeqFeature(SimpleLocation(ExactPosition(4161833), ExactPosition(4162086), strand=-1), type='SINE/Alu', qualifiers=...),\n",
       " SeqFeature(SimpleLocation(ExactPosition(4162123), ExactPosition(4162282), strand=1), type='SINE/Alu', qualifiers=...),\n",
       " SeqFeature(SimpleLocation(ExactPosition(4166537), ExactPosition(4166669), strand=-1), type='SINE/Alu', qualifiers=...),\n",
       " SeqFeature(SimpleLocation(ExactPosition(4166798), ExactPosition(4166919), strand=-1), type='SINE/Alu', qualifiers=...),\n",
       " SeqFeature(SimpleLocation(ExactPosition(4167185), ExactPosition(4167482), strand=1), type='SINE/Alu', qualifiers=...),\n",
       " SeqFeature(SimpleLocation(ExactPosition(4167559), ExactPosition(4167866), strand=1), type='SINE/Alu', qualifiers=...),\n",
       " SeqFeature(SimpleLocation(ExactPosition(4167924), ExactPosition(4168226), strand=1), type='SINE/Alu', qualifiers=...),\n",
       " SeqFeature(SimpleLocation(ExactPosition(4168482), ExactPosition(4168781), strand=-1), type='SINE/Alu', qualifiers=...),\n",
       " SeqFeature(SimpleLocation(ExactPosition(4170559), ExactPosition(4170683), strand=-1), type='SINE/Alu', qualifiers=...),\n",
       " SeqFeature(SimpleLocation(ExactPosition(4170728), ExactPosition(4170916), strand=-1), type='SINE/Alu', qualifiers=...),\n",
       " SeqFeature(SimpleLocation(ExactPosition(4170917), ExactPosition(4171216), strand=-1), type='SINE/Alu', qualifiers=...),\n",
       " SeqFeature(SimpleLocation(ExactPosition(4171217), ExactPosition(4171352), strand=-1), type='SINE/Alu', qualifiers=...),\n",
       " SeqFeature(SimpleLocation(ExactPosition(4172672), ExactPosition(4172970), strand=-1), type='SINE/Alu', qualifiers=...),\n",
       " SeqFeature(SimpleLocation(ExactPosition(4175444), ExactPosition(4175592), strand=-1), type='SINE/Alu', qualifiers=...),\n",
       " SeqFeature(SimpleLocation(ExactPosition(4177273), ExactPosition(4177406), strand=1), type='SINE/Alu', qualifiers=...),\n",
       " SeqFeature(SimpleLocation(ExactPosition(4178346), ExactPosition(4178479), strand=1), type='SINE/Alu', qualifiers=...),\n",
       " SeqFeature(SimpleLocation(ExactPosition(4178903), ExactPosition(4179186), strand=-1), type='SINE/Alu', qualifiers=...),\n",
       " SeqFeature(SimpleLocation(ExactPosition(4179458), ExactPosition(4179761), strand=-1), type='SINE/Alu', qualifiers=...),\n",
       " SeqFeature(SimpleLocation(ExactPosition(4180131), ExactPosition(4180438), strand=1), type='SINE/Alu', qualifiers=...),\n",
       " SeqFeature(SimpleLocation(ExactPosition(4180878), ExactPosition(4180999), strand=-1), type='SINE/Alu', qualifiers=...),\n",
       " SeqFeature(SimpleLocation(ExactPosition(4181724), ExactPosition(4182011), strand=-1), type='SINE/Alu', qualifiers=...),\n",
       " SeqFeature(SimpleLocation(ExactPosition(4182382), ExactPosition(4182663), strand=-1), type='SINE/Alu', qualifiers=...),\n",
       " SeqFeature(SimpleLocation(ExactPosition(4185647), ExactPosition(4185948), strand=1), type='SINE/Alu', qualifiers=...),\n",
       " SeqFeature(SimpleLocation(ExactPosition(4188496), ExactPosition(4188797), strand=1), type='SINE/Alu', qualifiers=...),\n",
       " SeqFeature(SimpleLocation(ExactPosition(4188838), ExactPosition(4188980), strand=-1), type='SINE/Alu', qualifiers=...),\n",
       " SeqFeature(SimpleLocation(ExactPosition(4190137), ExactPosition(4190379), strand=-1), type='SINE/Alu', qualifiers=...),\n",
       " SeqFeature(SimpleLocation(ExactPosition(4192615), ExactPosition(4192912), strand=1), type='SINE/Alu', qualifiers=...),\n",
       " SeqFeature(SimpleLocation(ExactPosition(4195213), ExactPosition(4195505), strand=-1), type='SINE/Alu', qualifiers=...),\n",
       " SeqFeature(SimpleLocation(ExactPosition(4196205), ExactPosition(4196487), strand=-1), type='SINE/Alu', qualifiers=...),\n",
       " SeqFeature(SimpleLocation(ExactPosition(4197127), ExactPosition(4197410), strand=-1), type='SINE/Alu', qualifiers=...),\n",
       " SeqFeature(SimpleLocation(ExactPosition(4199023), ExactPosition(4199320), strand=1), type='SINE/Alu', qualifiers=...),\n",
       " SeqFeature(SimpleLocation(ExactPosition(4201945), ExactPosition(4202253), strand=1), type='SINE/Alu', qualifiers=...),\n",
       " SeqFeature(SimpleLocation(ExactPosition(4202599), ExactPosition(4202897), strand=1), type='SINE/Alu', qualifiers=...),\n",
       " SeqFeature(SimpleLocation(ExactPosition(4204774), ExactPosition(4205087), strand=1), type='SINE/Alu', qualifiers=...),\n",
       " SeqFeature(SimpleLocation(ExactPosition(4205521), ExactPosition(4205821), strand=1), type='SINE/Alu', qualifiers=...),\n",
       " SeqFeature(SimpleLocation(ExactPosition(4208106), ExactPosition(4208414), strand=1), type='SINE/Alu', qualifiers=...),\n",
       " SeqFeature(SimpleLocation(ExactPosition(4211849), ExactPosition(4212115), strand=1), type='SINE/Alu', qualifiers=...),\n",
       " SeqFeature(SimpleLocation(ExactPosition(4213575), ExactPosition(4213850), strand=1), type='SINE/Alu', qualifiers=...),\n",
       " SeqFeature(SimpleLocation(ExactPosition(4214246), ExactPosition(4214536), strand=1), type='SINE/Alu', qualifiers=...),\n",
       " SeqFeature(SimpleLocation(ExactPosition(4295691), ExactPosition(4295980), strand=1), type='SINE/Alu', qualifiers=...),\n",
       " SeqFeature(SimpleLocation(ExactPosition(4296835), ExactPosition(4297132), strand=-1), type='SINE/Alu', qualifiers=...),\n",
       " SeqFeature(SimpleLocation(ExactPosition(4298357), ExactPosition(4298661), strand=1), type='SINE/Alu', qualifiers=...),\n",
       " SeqFeature(SimpleLocation(ExactPosition(4300820), ExactPosition(4301121), strand=1), type='SINE/Alu', qualifiers=...),\n",
       " SeqFeature(SimpleLocation(ExactPosition(4314702), ExactPosition(4315001), strand=1), type='SINE/Alu', qualifiers=...),\n",
       " SeqFeature(SimpleLocation(ExactPosition(4316199), ExactPosition(4316366), strand=-1), type='SINE/Alu', qualifiers=...),\n",
       " SeqFeature(SimpleLocation(ExactPosition(4316367), ExactPosition(4316673), strand=-1), type='SINE/Alu', qualifiers=...),\n",
       " SeqFeature(SimpleLocation(ExactPosition(4316674), ExactPosition(4316816), strand=-1), type='SINE/Alu', qualifiers=...),\n",
       " SeqFeature(SimpleLocation(ExactPosition(4316844), ExactPosition(4317128), strand=1), type='SINE/Alu', qualifiers=...),\n",
       " SeqFeature(SimpleLocation(ExactPosition(4322116), ExactPosition(4322394), strand=-1), type='SINE/Alu', qualifiers=...),\n",
       " SeqFeature(SimpleLocation(ExactPosition(4326543), ExactPosition(4326838), strand=1), type='SINE/Alu', qualifiers=...),\n",
       " SeqFeature(SimpleLocation(ExactPosition(4330575), ExactPosition(4330878), strand=1), type='SINE/Alu', qualifiers=...),\n",
       " SeqFeature(SimpleLocation(ExactPosition(4340211), ExactPosition(4340509), strand=-1), type='SINE/Alu', qualifiers=...),\n",
       " SeqFeature(SimpleLocation(ExactPosition(4342839), ExactPosition(4343122), strand=-1), type='SINE/Alu', qualifiers=...),\n",
       " SeqFeature(SimpleLocation(ExactPosition(4343217), ExactPosition(4343340), strand=-1), type='SINE/Alu', qualifiers=...),\n",
       " SeqFeature(SimpleLocation(ExactPosition(4347398), ExactPosition(4347694), strand=1), type='SINE/Alu', qualifiers=...),\n",
       " SeqFeature(SimpleLocation(ExactPosition(4348031), ExactPosition(4348191), strand=-1), type='SINE/Alu', qualifiers=...),\n",
       " SeqFeature(SimpleLocation(ExactPosition(4354158), ExactPosition(4354447), strand=1), type='SINE/Alu', qualifiers=...),\n",
       " SeqFeature(SimpleLocation(ExactPosition(4357093), ExactPosition(4357262), strand=1), type='SINE/Alu', qualifiers=...),\n",
       " SeqFeature(SimpleLocation(ExactPosition(4357414), ExactPosition(4357711), strand=-1), type='SINE/Alu', qualifiers=...),\n",
       " SeqFeature(SimpleLocation(ExactPosition(4359934), ExactPosition(4360216), strand=1), type='SINE/Alu', qualifiers=...),\n",
       " SeqFeature(SimpleLocation(ExactPosition(4361762), ExactPosition(4362073), strand=1), type='SINE/Alu', qualifiers=...),\n",
       " SeqFeature(SimpleLocation(ExactPosition(4364499), ExactPosition(4364724), strand=1), type='SINE/Alu', qualifiers=...),\n",
       " SeqFeature(SimpleLocation(ExactPosition(4374265), ExactPosition(4374509), strand=1), type='SINE/Alu', qualifiers=...),\n",
       " SeqFeature(SimpleLocation(ExactPosition(4378906), ExactPosition(4379195), strand=-1), type='SINE/Alu', qualifiers=...),\n",
       " SeqFeature(SimpleLocation(ExactPosition(4386564), ExactPosition(4386688), strand=-1), type='SINE/Alu', qualifiers=...),\n",
       " SeqFeature(SimpleLocation(ExactPosition(4395855), ExactPosition(4396143), strand=1), type='SINE/Alu', qualifiers=...),\n",
       " SeqFeature(SimpleLocation(ExactPosition(4397868), ExactPosition(4398164), strand=-1), type='SINE/Alu', qualifiers=...),\n",
       " SeqFeature(SimpleLocation(ExactPosition(4398233), ExactPosition(4398515), strand=-1), type='SINE/Alu', qualifiers=...),\n",
       " SeqFeature(SimpleLocation(ExactPosition(4408269), ExactPosition(4408384), strand=1), type='SINE/Alu', qualifiers=...),\n",
       " SeqFeature(SimpleLocation(ExactPosition(4461360), ExactPosition(4461472), strand=-1), type='SINE/Alu', qualifiers=...),\n",
       " SeqFeature(SimpleLocation(ExactPosition(4462129), ExactPosition(4462445), strand=-1), type='SINE/Alu', qualifiers=...),\n",
       " SeqFeature(SimpleLocation(ExactPosition(4462846), ExactPosition(4462958), strand=1), type='SINE/Alu', qualifiers=...),\n",
       " SeqFeature(SimpleLocation(ExactPosition(4468478), ExactPosition(4468755), strand=1), type='SINE/Alu', qualifiers=...),\n",
       " SeqFeature(SimpleLocation(ExactPosition(4476978), ExactPosition(4477100), strand=1), type='SINE/Alu', qualifiers=...),\n",
       " SeqFeature(SimpleLocation(ExactPosition(4486412), ExactPosition(4486612), strand=-1), type='SINE/Alu', qualifiers=...),\n",
       " SeqFeature(SimpleLocation(ExactPosition(4486613), ExactPosition(4486914), strand=1), type='SINE/Alu', qualifiers=...),\n",
       " SeqFeature(SimpleLocation(ExactPosition(4486915), ExactPosition(4487035), strand=-1), type='SINE/Alu', qualifiers=...),\n",
       " SeqFeature(SimpleLocation(ExactPosition(4492214), ExactPosition(4492493), strand=-1), type='SINE/Alu', qualifiers=...),\n",
       " SeqFeature(SimpleLocation(ExactPosition(4510161), ExactPosition(4510277), strand=1), type='SINE/Alu', qualifiers=...),\n",
       " SeqFeature(SimpleLocation(ExactPosition(4511517), ExactPosition(4511680), strand=-1), type='SINE/Alu', qualifiers=...),\n",
       " SeqFeature(SimpleLocation(ExactPosition(4511714), ExactPosition(4511829), strand=-1), type='SINE/Alu', qualifiers=...),\n",
       " SeqFeature(SimpleLocation(ExactPosition(4514063), ExactPosition(4514372), strand=-1), type='SINE/Alu', qualifiers=...),\n",
       " SeqFeature(SimpleLocation(ExactPosition(4516506), ExactPosition(4516661), strand=-1), type='SINE/Alu', qualifiers=...),\n",
       " SeqFeature(SimpleLocation(ExactPosition(4516662), ExactPosition(4516978), strand=-1), type='SINE/Alu', qualifiers=...),\n",
       " SeqFeature(SimpleLocation(ExactPosition(4516979), ExactPosition(4517116), strand=-1), type='SINE/Alu', qualifiers=...),\n",
       " SeqFeature(SimpleLocation(ExactPosition(4517321), ExactPosition(4517605), strand=1), type='SINE/Alu', qualifiers=...),\n",
       " SeqFeature(SimpleLocation(ExactPosition(4518584), ExactPosition(4518639), strand=1), type='SINE/Alu', qualifiers=...),\n",
       " SeqFeature(SimpleLocation(ExactPosition(4521352), ExactPosition(4521655), strand=-1), type='SINE/Alu', qualifiers=...),\n",
       " SeqFeature(SimpleLocation(ExactPosition(4528645), ExactPosition(4528941), strand=-1), type='SINE/Alu', qualifiers=...),\n",
       " SeqFeature(SimpleLocation(ExactPosition(4530250), ExactPosition(4530542), strand=-1), type='SINE/Alu', qualifiers=...),\n",
       " SeqFeature(SimpleLocation(ExactPosition(4530953), ExactPosition(4531171), strand=-1), type='SINE/Alu', qualifiers=...),\n",
       " SeqFeature(SimpleLocation(ExactPosition(4531492), ExactPosition(4531554), strand=-1), type='SINE/Alu', qualifiers=...),\n",
       " SeqFeature(SimpleLocation(ExactPosition(4532685), ExactPosition(4532922), strand=1), type='SINE/Alu', qualifiers=...),\n",
       " SeqFeature(SimpleLocation(ExactPosition(4533061), ExactPosition(4533365), strand=1), type='SINE/Alu', qualifiers=...),\n",
       " SeqFeature(SimpleLocation(ExactPosition(4534256), ExactPosition(4534556), strand=-1), type='SINE/Alu', qualifiers=...),\n",
       " SeqFeature(SimpleLocation(ExactPosition(4534964), ExactPosition(4535260), strand=1), type='SINE/Alu', qualifiers=...),\n",
       " SeqFeature(SimpleLocation(ExactPosition(4537854), ExactPosition(4538129), strand=1), type='SINE/Alu', qualifiers=...),\n",
       " SeqFeature(SimpleLocation(ExactPosition(4539381), ExactPosition(4539686), strand=-1), type='SINE/Alu', qualifiers=...),\n",
       " SeqFeature(SimpleLocation(ExactPosition(4540333), ExactPosition(4540635), strand=1), type='SINE/Alu', qualifiers=...),\n",
       " SeqFeature(SimpleLocation(ExactPosition(4546035), ExactPosition(4546332), strand=-1), type='SINE/Alu', qualifiers=...),\n",
       " SeqFeature(SimpleLocation(ExactPosition(4547585), ExactPosition(4547804), strand=1), type='SINE/Alu', qualifiers=...),\n",
       " SeqFeature(SimpleLocation(ExactPosition(4550905), ExactPosition(4551191), strand=-1), type='SINE/Alu', qualifiers=...),\n",
       " SeqFeature(SimpleLocation(ExactPosition(4552637), ExactPosition(4552699), strand=-1), type='SINE/Alu', qualifiers=...),\n",
       " SeqFeature(SimpleLocation(ExactPosition(4552736), ExactPosition(4552997), strand=1), type='SINE/Alu', qualifiers=...),\n",
       " SeqFeature(SimpleLocation(ExactPosition(4554778), ExactPosition(4554875), strand=-1), type='SINE/Alu', qualifiers=...),\n",
       " SeqFeature(SimpleLocation(ExactPosition(4561050), ExactPosition(4561337), strand=-1), type='SINE/Alu', qualifiers=...),\n",
       " SeqFeature(SimpleLocation(ExactPosition(4563987), ExactPosition(4564273), strand=1), type='SINE/Alu', qualifiers=...),\n",
       " SeqFeature(SimpleLocation(ExactPosition(4568163), ExactPosition(4568461), strand=1), type='SINE/Alu', qualifiers=...),\n",
       " SeqFeature(SimpleLocation(ExactPosition(4571621), ExactPosition(4571916), strand=1), type='SINE/Alu', qualifiers=...),\n",
       " SeqFeature(SimpleLocation(ExactPosition(4577935), ExactPosition(4578222), strand=1), type='SINE/Alu', qualifiers=...),\n",
       " SeqFeature(SimpleLocation(ExactPosition(4578903), ExactPosition(4579199), strand=-1), type='SINE/Alu', qualifiers=...),\n",
       " SeqFeature(SimpleLocation(ExactPosition(4582373), ExactPosition(4582666), strand=-1), type='SINE/Alu', qualifiers=...),\n",
       " SeqFeature(SimpleLocation(ExactPosition(4586623), ExactPosition(4586910), strand=-1), type='SINE/Alu', qualifiers=...),\n",
       " SeqFeature(SimpleLocation(ExactPosition(4589534), ExactPosition(4589827), strand=1), type='SINE/Alu', qualifiers=...),\n",
       " SeqFeature(SimpleLocation(ExactPosition(4595956), ExactPosition(4596053), strand=1), type='SINE/Alu', qualifiers=...),\n",
       " SeqFeature(SimpleLocation(ExactPosition(4597837), ExactPosition(4598086), strand=-1), type='SINE/Alu', qualifiers=...),\n",
       " SeqFeature(SimpleLocation(ExactPosition(4598123), ExactPosition(4598185), strand=1), type='SINE/Alu', qualifiers=...),\n",
       " SeqFeature(SimpleLocation(ExactPosition(4599628), ExactPosition(4599938), strand=1), type='SINE/Alu', qualifiers=...),\n",
       " SeqFeature(SimpleLocation(ExactPosition(4603067), ExactPosition(4603216), strand=-1), type='SINE/Alu', qualifiers=...),\n",
       " SeqFeature(SimpleLocation(ExactPosition(4604541), ExactPosition(4604848), strand=1), type='SINE/Alu', qualifiers=...),\n",
       " SeqFeature(SimpleLocation(ExactPosition(4611575), ExactPosition(4611870), strand=-1), type='SINE/Alu', qualifiers=...),\n",
       " SeqFeature(SimpleLocation(ExactPosition(4612527), ExactPosition(4612802), strand=1), type='SINE/Alu', qualifiers=...),\n",
       " SeqFeature(SimpleLocation(ExactPosition(4614089), ExactPosition(4614364), strand=-1), type='SINE/Alu', qualifiers=...),\n",
       " SeqFeature(SimpleLocation(ExactPosition(4616951), ExactPosition(4617248), strand=-1), type='SINE/Alu', qualifiers=...),\n",
       " SeqFeature(SimpleLocation(ExactPosition(4617660), ExactPosition(4617956), strand=1), type='SINE/Alu', qualifiers=...),\n",
       " SeqFeature(SimpleLocation(ExactPosition(4618848), ExactPosition(4619011), strand=-1), type='SINE/Alu', qualifiers=...),\n",
       " SeqFeature(SimpleLocation(ExactPosition(4619038), ExactPosition(4619156), strand=-1), type='SINE/Alu', qualifiers=...),\n",
       " SeqFeature(SimpleLocation(ExactPosition(4619296), ExactPosition(4619524), strand=-1), type='SINE/Alu', qualifiers=...),\n",
       " SeqFeature(SimpleLocation(ExactPosition(4620661), ExactPosition(4620723), strand=1), type='SINE/Alu', qualifiers=...),\n",
       " SeqFeature(SimpleLocation(ExactPosition(4621044), ExactPosition(4621263), strand=1), type='SINE/Alu', qualifiers=...),\n",
       " SeqFeature(SimpleLocation(ExactPosition(4621667), ExactPosition(4621960), strand=1), type='SINE/Alu', qualifiers=...),\n",
       " SeqFeature(SimpleLocation(ExactPosition(4623190), ExactPosition(4623486), strand=1), type='SINE/Alu', qualifiers=...),\n",
       " SeqFeature(SimpleLocation(ExactPosition(4630491), ExactPosition(4630797), strand=1), type='SINE/Alu', qualifiers=...),\n",
       " SeqFeature(SimpleLocation(ExactPosition(4632359), ExactPosition(4632670), strand=-1), type='SINE/Alu', qualifiers=...),\n",
       " SeqFeature(SimpleLocation(ExactPosition(4633748), ExactPosition(4633800), strand=-1), type='SINE/Alu', qualifiers=...),\n",
       " SeqFeature(SimpleLocation(ExactPosition(4634786), ExactPosition(4635071), strand=-1), type='SINE/Alu', qualifiers=...),\n",
       " SeqFeature(SimpleLocation(ExactPosition(4635275), ExactPosition(4635416), strand=1), type='SINE/Alu', qualifiers=...),\n",
       " SeqFeature(SimpleLocation(ExactPosition(4635417), ExactPosition(4635703), strand=1), type='SINE/Alu', qualifiers=...),\n",
       " SeqFeature(SimpleLocation(ExactPosition(4635748), ExactPosition(4635903), strand=1), type='SINE/Alu', qualifiers=...),\n",
       " SeqFeature(SimpleLocation(ExactPosition(4638032), ExactPosition(4638341), strand=1), type='SINE/Alu', qualifiers=...),\n",
       " SeqFeature(SimpleLocation(ExactPosition(4640580), ExactPosition(4640876), strand=1), type='SINE/Alu', qualifiers=...),\n",
       " SeqFeature(SimpleLocation(ExactPosition(4642119), ExactPosition(4642235), strand=-1), type='SINE/Alu', qualifiers=...),\n",
       " SeqFeature(SimpleLocation(ExactPosition(4660926), ExactPosition(4661221), strand=1), type='SINE/Alu', qualifiers=...),\n",
       " SeqFeature(SimpleLocation(ExactPosition(4666358), ExactPosition(4666474), strand=1), type='SINE/Alu', qualifiers=...),\n",
       " SeqFeature(SimpleLocation(ExactPosition(4666517), ExactPosition(4666802), strand=-1), type='SINE/Alu', qualifiers=...),\n",
       " SeqFeature(SimpleLocation(ExactPosition(4666803), ExactPosition(4667012), strand=1), type='SINE/Alu', qualifiers=...),\n",
       " SeqFeature(SimpleLocation(ExactPosition(4678045), ExactPosition(4678152), strand=-1), type='SINE/Alu', qualifiers=...),\n",
       " SeqFeature(SimpleLocation(ExactPosition(4683669), ExactPosition(4683974), strand=-1), type='SINE/Alu', qualifiers=...),\n",
       " SeqFeature(SimpleLocation(ExactPosition(4683983), ExactPosition(4684112), strand=-1), type='SINE/Alu', qualifiers=...),\n",
       " SeqFeature(SimpleLocation(ExactPosition(4690495), ExactPosition(4690795), strand=-1), type='SINE/Alu', qualifiers=...),\n",
       " SeqFeature(SimpleLocation(ExactPosition(4690963), ExactPosition(4691078), strand=-1), type='SINE/Alu', qualifiers=...),\n",
       " SeqFeature(SimpleLocation(ExactPosition(4691490), ExactPosition(4691776), strand=1), type='SINE/Alu', qualifiers=...),\n",
       " SeqFeature(SimpleLocation(ExactPosition(4692437), ExactPosition(4692550), strand=1), type='SINE/Alu', qualifiers=...),\n",
       " SeqFeature(SimpleLocation(ExactPosition(4694738), ExactPosition(4694894), strand=-1), type='SINE/Alu', qualifiers=...),\n",
       " SeqFeature(SimpleLocation(ExactPosition(4695173), ExactPosition(4695469), strand=1), type='SINE/Alu', qualifiers=...),\n",
       " SeqFeature(SimpleLocation(ExactPosition(4695470), ExactPosition(4695616), strand=1), type='SINE/Alu', qualifiers=...),\n",
       " SeqFeature(SimpleLocation(ExactPosition(4695753), ExactPosition(4696054), strand=1), type='SINE/Alu', qualifiers=...),\n",
       " SeqFeature(SimpleLocation(ExactPosition(4696163), ExactPosition(4696429), strand=-1), type='SINE/Alu', qualifiers=...),\n",
       " SeqFeature(SimpleLocation(ExactPosition(4696450), ExactPosition(4696750), strand=-1), type='SINE/Alu', qualifiers=...),\n",
       " SeqFeature(SimpleLocation(ExactPosition(4701723), ExactPosition(4701895), strand=-1), type='SINE/Alu', qualifiers=...),\n",
       " SeqFeature(SimpleLocation(ExactPosition(4706894), ExactPosition(4707208), strand=-1), type='SINE/Alu', qualifiers=...),\n",
       " SeqFeature(SimpleLocation(ExactPosition(4718968), ExactPosition(4719262), strand=-1), type='SINE/Alu', qualifiers=...),\n",
       " SeqFeature(SimpleLocation(ExactPosition(4725383), ExactPosition(4725673), strand=1), type='SINE/Alu', qualifiers=...),\n",
       " SeqFeature(SimpleLocation(ExactPosition(4726802), ExactPosition(4727088), strand=-1), type='SINE/Alu', qualifiers=...),\n",
       " SeqFeature(SimpleLocation(ExactPosition(4748915), ExactPosition(4749212), strand=-1), type='SINE/Alu', qualifiers=...),\n",
       " SeqFeature(SimpleLocation(ExactPosition(4750109), ExactPosition(4750358), strand=1), type='SINE/Alu', qualifiers=...),\n",
       " SeqFeature(SimpleLocation(ExactPosition(4752103), ExactPosition(4752387), strand=1), type='SINE/Alu', qualifiers=...),\n",
       " SeqFeature(SimpleLocation(ExactPosition(4755084), ExactPosition(4755227), strand=-1), type='SINE/Alu', qualifiers=...),\n",
       " SeqFeature(SimpleLocation(ExactPosition(4762612), ExactPosition(4762651), strand=1), type='SINE/Alu', qualifiers=...),\n",
       " SeqFeature(SimpleLocation(ExactPosition(4762652), ExactPosition(4762795), strand=1), type='SINE/Alu', qualifiers=...),\n",
       " SeqFeature(SimpleLocation(ExactPosition(4771197), ExactPosition(4771498), strand=-1), type='SINE/Alu', qualifiers=...),\n",
       " SeqFeature(SimpleLocation(ExactPosition(4773308), ExactPosition(4773653), strand=-1), type='SINE/Alu', qualifiers=...),\n",
       " SeqFeature(SimpleLocation(ExactPosition(4773933), ExactPosition(4774238), strand=-1), type='SINE/Alu', qualifiers=...),\n",
       " SeqFeature(SimpleLocation(ExactPosition(4774421), ExactPosition(4774711), strand=1), type='SINE/Alu', qualifiers=...),\n",
       " SeqFeature(SimpleLocation(ExactPosition(4779475), ExactPosition(4779676), strand=-1), type='SINE/Alu', qualifiers=...),\n",
       " SeqFeature(SimpleLocation(ExactPosition(4780573), ExactPosition(4780763), strand=-1), type='SINE/Alu', qualifiers=...),\n",
       " SeqFeature(SimpleLocation(ExactPosition(4782073), ExactPosition(4782277), strand=1), type='SINE/Alu', qualifiers=...),\n",
       " SeqFeature(SimpleLocation(ExactPosition(4784293), ExactPosition(4784506), strand=-1), type='SINE/Alu', qualifiers=...),\n",
       " SeqFeature(SimpleLocation(ExactPosition(4785363), ExactPosition(4785582), strand=-1), type='SINE/Alu', qualifiers=...),\n",
       " SeqFeature(SimpleLocation(ExactPosition(4786116), ExactPosition(4786416), strand=-1), type='SINE/Alu', qualifiers=...),\n",
       " SeqFeature(SimpleLocation(ExactPosition(4786622), ExactPosition(4786736), strand=-1), type='SINE/Alu', qualifiers=...),\n",
       " SeqFeature(SimpleLocation(ExactPosition(4787465), ExactPosition(4787773), strand=-1), type='SINE/Alu', qualifiers=...),\n",
       " SeqFeature(SimpleLocation(ExactPosition(4789496), ExactPosition(4789602), strand=-1), type='SINE/Alu', qualifiers=...),\n",
       " SeqFeature(SimpleLocation(ExactPosition(4789604), ExactPosition(4789670), strand=1), type='SINE/Alu', qualifiers=...),\n",
       " SeqFeature(SimpleLocation(ExactPosition(4789832), ExactPosition(4789942), strand=-1), type='SINE/Alu', qualifiers=...),\n",
       " SeqFeature(SimpleLocation(ExactPosition(4790018), ExactPosition(4790074), strand=1), type='SINE/Alu', qualifiers=...),\n",
       " SeqFeature(SimpleLocation(ExactPosition(4790081), ExactPosition(4790349), strand=-1), type='SINE/Alu', qualifiers=...),\n",
       " SeqFeature(SimpleLocation(ExactPosition(4791149), ExactPosition(4791400), strand=-1), type='SINE/Alu', qualifiers=...),\n",
       " SeqFeature(SimpleLocation(ExactPosition(4791501), ExactPosition(4791806), strand=1), type='SINE/Alu', qualifiers=...),\n",
       " SeqFeature(SimpleLocation(ExactPosition(4791961), ExactPosition(4792063), strand=-1), type='SINE/Alu', qualifiers=...),\n",
       " SeqFeature(SimpleLocation(ExactPosition(4792456), ExactPosition(4792767), strand=-1), type='SINE/Alu', qualifiers=...),\n",
       " SeqFeature(SimpleLocation(ExactPosition(4793562), ExactPosition(4793792), strand=-1), type='SINE/Alu', qualifiers=...),\n",
       " SeqFeature(SimpleLocation(ExactPosition(4794317), ExactPosition(4794618), strand=-1), type='SINE/Alu', qualifiers=...),\n",
       " SeqFeature(SimpleLocation(ExactPosition(4795346), ExactPosition(4795665), strand=-1), type='SINE/Alu', qualifiers=...),\n",
       " SeqFeature(SimpleLocation(ExactPosition(4811743), ExactPosition(4811877), strand=-1), type='SINE/Alu', qualifiers=...),\n",
       " SeqFeature(SimpleLocation(ExactPosition(4812211), ExactPosition(4812317), strand=1), type='SINE/Alu', qualifiers=...),\n",
       " SeqFeature(SimpleLocation(ExactPosition(4812616), ExactPosition(4812737), strand=-1), type='SINE/Alu', qualifiers=...),\n",
       " SeqFeature(SimpleLocation(ExactPosition(4812865), ExactPosition(4812979), strand=-1), type='SINE/Alu', qualifiers=...),\n",
       " SeqFeature(SimpleLocation(ExactPosition(4813117), ExactPosition(4813224), strand=-1), type='SINE/Alu', qualifiers=...),\n",
       " SeqFeature(SimpleLocation(ExactPosition(4813326), ExactPosition(4813566), strand=-1), type='SINE/Alu', qualifiers=...),\n",
       " SeqFeature(SimpleLocation(ExactPosition(4814876), ExactPosition(4815164), strand=1), type='SINE/Alu', qualifiers=...),\n",
       " SeqFeature(SimpleLocation(ExactPosition(4815180), ExactPosition(4815306), strand=1), type='SINE/Alu', qualifiers=...),\n",
       " SeqFeature(SimpleLocation(ExactPosition(4815520), ExactPosition(4815576), strand=-1), type='SINE/Alu', qualifiers=...),\n",
       " SeqFeature(SimpleLocation(ExactPosition(4815645), ExactPosition(4815799), strand=-1), type='SINE/Alu', qualifiers=...),\n",
       " SeqFeature(SimpleLocation(ExactPosition(4815800), ExactPosition(4816105), strand=-1), type='SINE/Alu', qualifiers=...),\n",
       " SeqFeature(SimpleLocation(ExactPosition(4816106), ExactPosition(4816212), strand=-1), type='SINE/Alu', qualifiers=...),\n",
       " SeqFeature(SimpleLocation(ExactPosition(4817303), ExactPosition(4817597), strand=-1), type='SINE/Alu', qualifiers=...),\n",
       " SeqFeature(SimpleLocation(ExactPosition(4817911), ExactPosition(4818139), strand=1), type='SINE/Alu', qualifiers=...),\n",
       " SeqFeature(SimpleLocation(ExactPosition(4818221), ExactPosition(4818250), strand=1), type='SINE/Alu', qualifiers=...),\n",
       " SeqFeature(SimpleLocation(ExactPosition(4821768), ExactPosition(4822062), strand=-1), type='SINE/Alu', qualifiers=...),\n",
       " SeqFeature(SimpleLocation(ExactPosition(4822355), ExactPosition(4822583), strand=1), type='SINE/Alu', qualifiers=...),\n",
       " SeqFeature(SimpleLocation(ExactPosition(4822645), ExactPosition(4822674), strand=1), type='SINE/Alu', qualifiers=...),\n",
       " SeqFeature(SimpleLocation(ExactPosition(4825795), ExactPosition(4825996), strand=1), type='SINE/Alu', qualifiers=...),\n",
       " SeqFeature(SimpleLocation(ExactPosition(4829910), ExactPosition(4830090), strand=-1), type='SINE/Alu', qualifiers=...),\n",
       " SeqFeature(SimpleLocation(ExactPosition(4830906), ExactPosition(4831212), strand=-1), type='SINE/Alu', qualifiers=...),\n",
       " SeqFeature(SimpleLocation(ExactPosition(4834487), ExactPosition(4834652), strand=1), type='SINE/Alu', qualifiers=...),\n",
       " SeqFeature(SimpleLocation(ExactPosition(4834751), ExactPosition(4835048), strand=-1), type='SINE/Alu', qualifiers=...),\n",
       " SeqFeature(SimpleLocation(ExactPosition(4835056), ExactPosition(4835110), strand=-1), type='SINE/Alu', qualifiers=...),\n",
       " SeqFeature(SimpleLocation(ExactPosition(4835166), ExactPosition(4835448), strand=-1), type='SINE/Alu', qualifiers=...),\n",
       " SeqFeature(SimpleLocation(ExactPosition(4835512), ExactPosition(4835631), strand=-1), type='SINE/Alu', qualifiers=...),\n",
       " SeqFeature(SimpleLocation(ExactPosition(4836581), ExactPosition(4836869), strand=1), type='SINE/Alu', qualifiers=...),\n",
       " SeqFeature(SimpleLocation(ExactPosition(4836925), ExactPosition(4836950), strand=1), type='SINE/Alu', qualifiers=...),\n",
       " SeqFeature(SimpleLocation(ExactPosition(4836961), ExactPosition(4837270), strand=1), type='SINE/Alu', qualifiers=...),\n",
       " SeqFeature(SimpleLocation(ExactPosition(4837733), ExactPosition(4837755), strand=-1), type='SINE/Alu', qualifiers=...),\n",
       " SeqFeature(SimpleLocation(ExactPosition(4837832), ExactPosition(4838121), strand=-1), type='SINE/Alu', qualifiers=...),\n",
       " SeqFeature(SimpleLocation(ExactPosition(4838718), ExactPosition(4839037), strand=-1), type='SINE/Alu', qualifiers=...),\n",
       " SeqFeature(SimpleLocation(ExactPosition(4855119), ExactPosition(4855253), strand=-1), type='SINE/Alu', qualifiers=...),\n",
       " SeqFeature(SimpleLocation(ExactPosition(4855587), ExactPosition(4855693), strand=1), type='SINE/Alu', qualifiers=...),\n",
       " SeqFeature(SimpleLocation(ExactPosition(4855992), ExactPosition(4856113), strand=-1), type='SINE/Alu', qualifiers=...),\n",
       " SeqFeature(SimpleLocation(ExactPosition(4856241), ExactPosition(4856355), strand=-1), type='SINE/Alu', qualifiers=...),\n",
       " SeqFeature(SimpleLocation(ExactPosition(4856493), ExactPosition(4856600), strand=-1), type='SINE/Alu', qualifiers=...),\n",
       " SeqFeature(SimpleLocation(ExactPosition(4856702), ExactPosition(4856942), strand=-1), type='SINE/Alu', qualifiers=...),\n",
       " SeqFeature(SimpleLocation(ExactPosition(4858252), ExactPosition(4858540), strand=1), type='SINE/Alu', qualifiers=...),\n",
       " SeqFeature(SimpleLocation(ExactPosition(4858556), ExactPosition(4858682), strand=1), type='SINE/Alu', qualifiers=...),\n",
       " SeqFeature(SimpleLocation(ExactPosition(4858896), ExactPosition(4858952), strand=-1), type='SINE/Alu', qualifiers=...),\n",
       " SeqFeature(SimpleLocation(ExactPosition(4859021), ExactPosition(4859175), strand=-1), type='SINE/Alu', qualifiers=...),\n",
       " SeqFeature(SimpleLocation(ExactPosition(4859176), ExactPosition(4859481), strand=-1), type='SINE/Alu', qualifiers=...),\n",
       " SeqFeature(SimpleLocation(ExactPosition(4859482), ExactPosition(4859588), strand=-1), type='SINE/Alu', qualifiers=...),\n",
       " SeqFeature(SimpleLocation(ExactPosition(4860679), ExactPosition(4860973), strand=-1), type='SINE/Alu', qualifiers=...),\n",
       " SeqFeature(SimpleLocation(ExactPosition(4861287), ExactPosition(4861515), strand=1), type='SINE/Alu', qualifiers=...),\n",
       " SeqFeature(SimpleLocation(ExactPosition(4861597), ExactPosition(4861626), strand=1), type='SINE/Alu', qualifiers=...),\n",
       " SeqFeature(SimpleLocation(ExactPosition(4865144), ExactPosition(4865438), strand=-1), type='SINE/Alu', qualifiers=...),\n",
       " SeqFeature(SimpleLocation(ExactPosition(4865731), ExactPosition(4865959), strand=1), type='SINE/Alu', qualifiers=...),\n",
       " SeqFeature(SimpleLocation(ExactPosition(4866021), ExactPosition(4866050), strand=1), type='SINE/Alu', qualifiers=...),\n",
       " SeqFeature(SimpleLocation(ExactPosition(4869171), ExactPosition(4869372), strand=1), type='SINE/Alu', qualifiers=...),\n",
       " SeqFeature(SimpleLocation(ExactPosition(4873286), ExactPosition(4873466), strand=-1), type='SINE/Alu', qualifiers=...),\n",
       " SeqFeature(SimpleLocation(ExactPosition(4874282), ExactPosition(4874588), strand=-1), type='SINE/Alu', qualifiers=...),\n",
       " SeqFeature(SimpleLocation(ExactPosition(4877863), ExactPosition(4878028), strand=1), type='SINE/Alu', qualifiers=...),\n",
       " SeqFeature(SimpleLocation(ExactPosition(4878127), ExactPosition(4878424), strand=-1), type='SINE/Alu', qualifiers=...),\n",
       " SeqFeature(SimpleLocation(ExactPosition(4878432), ExactPosition(4878486), strand=-1), type='SINE/Alu', qualifiers=...),\n",
       " SeqFeature(SimpleLocation(ExactPosition(4878542), ExactPosition(4878824), strand=-1), type='SINE/Alu', qualifiers=...),\n",
       " SeqFeature(SimpleLocation(ExactPosition(4878888), ExactPosition(4879007), strand=-1), type='SINE/Alu', qualifiers=...),\n",
       " SeqFeature(SimpleLocation(ExactPosition(4879957), ExactPosition(4880245), strand=1), type='SINE/Alu', qualifiers=...),\n",
       " SeqFeature(SimpleLocation(ExactPosition(4880301), ExactPosition(4880326), strand=1), type='SINE/Alu', qualifiers=...),\n",
       " SeqFeature(SimpleLocation(ExactPosition(4880337), ExactPosition(4880646), strand=1), type='SINE/Alu', qualifiers=...),\n",
       " SeqFeature(SimpleLocation(ExactPosition(4881109), ExactPosition(4881131), strand=-1), type='SINE/Alu', qualifiers=...),\n",
       " SeqFeature(SimpleLocation(ExactPosition(4881208), ExactPosition(4881497), strand=-1), type='SINE/Alu', qualifiers=...),\n",
       " SeqFeature(SimpleLocation(ExactPosition(4882094), ExactPosition(4882413), strand=-1), type='SINE/Alu', qualifiers=...),\n",
       " SeqFeature(SimpleLocation(ExactPosition(4898495), ExactPosition(4898629), strand=-1), type='SINE/Alu', qualifiers=...),\n",
       " SeqFeature(SimpleLocation(ExactPosition(4898963), ExactPosition(4899069), strand=1), type='SINE/Alu', qualifiers=...),\n",
       " SeqFeature(SimpleLocation(ExactPosition(4899368), ExactPosition(4899489), strand=-1), type='SINE/Alu', qualifiers=...),\n",
       " SeqFeature(SimpleLocation(ExactPosition(4899617), ExactPosition(4899731), strand=-1), type='SINE/Alu', qualifiers=...),\n",
       " SeqFeature(SimpleLocation(ExactPosition(4899869), ExactPosition(4899976), strand=-1), type='SINE/Alu', qualifiers=...),\n",
       " SeqFeature(SimpleLocation(ExactPosition(4900078), ExactPosition(4900318), strand=-1), type='SINE/Alu', qualifiers=...),\n",
       " SeqFeature(SimpleLocation(ExactPosition(4901628), ExactPosition(4901916), strand=1), type='SINE/Alu', qualifiers=...),\n",
       " SeqFeature(SimpleLocation(ExactPosition(4901932), ExactPosition(4902058), strand=1), type='SINE/Alu', qualifiers=...),\n",
       " SeqFeature(SimpleLocation(ExactPosition(4902272), ExactPosition(4902328), strand=-1), type='SINE/Alu', qualifiers=...),\n",
       " SeqFeature(SimpleLocation(ExactPosition(4902397), ExactPosition(4902551), strand=-1), type='SINE/Alu', qualifiers=...),\n",
       " SeqFeature(SimpleLocation(ExactPosition(4902552), ExactPosition(4902857), strand=-1), type='SINE/Alu', qualifiers=...),\n",
       " SeqFeature(SimpleLocation(ExactPosition(4902858), ExactPosition(4902964), strand=-1), type='SINE/Alu', qualifiers=...),\n",
       " SeqFeature(SimpleLocation(ExactPosition(4904055), ExactPosition(4904349), strand=-1), type='SINE/Alu', qualifiers=...),\n",
       " SeqFeature(SimpleLocation(ExactPosition(4904663), ExactPosition(4904891), strand=1), type='SINE/Alu', qualifiers=...),\n",
       " SeqFeature(SimpleLocation(ExactPosition(4904973), ExactPosition(4905002), strand=1), type='SINE/Alu', qualifiers=...),\n",
       " SeqFeature(SimpleLocation(ExactPosition(4908520), ExactPosition(4908814), strand=-1), type='SINE/Alu', qualifiers=...),\n",
       " SeqFeature(SimpleLocation(ExactPosition(4909107), ExactPosition(4909335), strand=1), type='SINE/Alu', qualifiers=...),\n",
       " SeqFeature(SimpleLocation(ExactPosition(4909397), ExactPosition(4909426), strand=1), type='SINE/Alu', qualifiers=...),\n",
       " SeqFeature(SimpleLocation(ExactPosition(4912547), ExactPosition(4912748), strand=1), type='SINE/Alu', qualifiers=...),\n",
       " SeqFeature(SimpleLocation(ExactPosition(4916662), ExactPosition(4916842), strand=-1), type='SINE/Alu', qualifiers=...),\n",
       " SeqFeature(SimpleLocation(ExactPosition(4917658), ExactPosition(4917964), strand=-1), type='SINE/Alu', qualifiers=...),\n",
       " SeqFeature(SimpleLocation(ExactPosition(4921239), ExactPosition(4921404), strand=1), type='SINE/Alu', qualifiers=...),\n",
       " SeqFeature(SimpleLocation(ExactPosition(4921503), ExactPosition(4921800), strand=-1), type='SINE/Alu', qualifiers=...),\n",
       " SeqFeature(SimpleLocation(ExactPosition(4921808), ExactPosition(4921862), strand=-1), type='SINE/Alu', qualifiers=...),\n",
       " SeqFeature(SimpleLocation(ExactPosition(4921918), ExactPosition(4922200), strand=-1), type='SINE/Alu', qualifiers=...),\n",
       " SeqFeature(SimpleLocation(ExactPosition(4922264), ExactPosition(4922383), strand=-1), type='SINE/Alu', qualifiers=...),\n",
       " SeqFeature(SimpleLocation(ExactPosition(4923333), ExactPosition(4923621), strand=1), type='SINE/Alu', qualifiers=...),\n",
       " SeqFeature(SimpleLocation(ExactPosition(4923677), ExactPosition(4923702), strand=1), type='SINE/Alu', qualifiers=...),\n",
       " SeqFeature(SimpleLocation(ExactPosition(4923713), ExactPosition(4924022), strand=1), type='SINE/Alu', qualifiers=...),\n",
       " SeqFeature(SimpleLocation(ExactPosition(4924485), ExactPosition(4924507), strand=-1), type='SINE/Alu', qualifiers=...),\n",
       " SeqFeature(SimpleLocation(ExactPosition(4924584), ExactPosition(4924873), strand=-1), type='SINE/Alu', qualifiers=...),\n",
       " SeqFeature(SimpleLocation(ExactPosition(4925470), ExactPosition(4925789), strand=-1), type='SINE/Alu', qualifiers=...),\n",
       " SeqFeature(SimpleLocation(ExactPosition(4941871), ExactPosition(4942005), strand=-1), type='SINE/Alu', qualifiers=...),\n",
       " SeqFeature(SimpleLocation(ExactPosition(4942339), ExactPosition(4942445), strand=1), type='SINE/Alu', qualifiers=...),\n",
       " SeqFeature(SimpleLocation(ExactPosition(4942744), ExactPosition(4942865), strand=-1), type='SINE/Alu', qualifiers=...),\n",
       " SeqFeature(SimpleLocation(ExactPosition(4942993), ExactPosition(4943107), strand=-1), type='SINE/Alu', qualifiers=...),\n",
       " SeqFeature(SimpleLocation(ExactPosition(4943245), ExactPosition(4943352), strand=-1), type='SINE/Alu', qualifiers=...),\n",
       " SeqFeature(SimpleLocation(ExactPosition(4943454), ExactPosition(4943694), strand=-1), type='SINE/Alu', qualifiers=...),\n",
       " SeqFeature(SimpleLocation(ExactPosition(4945004), ExactPosition(4945292), strand=1), type='SINE/Alu', qualifiers=...),\n",
       " SeqFeature(SimpleLocation(ExactPosition(4945308), ExactPosition(4945434), strand=1), type='SINE/Alu', qualifiers=...),\n",
       " SeqFeature(SimpleLocation(ExactPosition(4945648), ExactPosition(4945704), strand=-1), type='SINE/Alu', qualifiers=...),\n",
       " SeqFeature(SimpleLocation(ExactPosition(4945773), ExactPosition(4945927), strand=-1), type='SINE/Alu', qualifiers=...),\n",
       " SeqFeature(SimpleLocation(ExactPosition(4945928), ExactPosition(4946233), strand=-1), type='SINE/Alu', qualifiers=...),\n",
       " SeqFeature(SimpleLocation(ExactPosition(4946234), ExactPosition(4946340), strand=-1), type='SINE/Alu', qualifiers=...),\n",
       " SeqFeature(SimpleLocation(ExactPosition(4947431), ExactPosition(4947725), strand=-1), type='SINE/Alu', qualifiers=...),\n",
       " SeqFeature(SimpleLocation(ExactPosition(4948039), ExactPosition(4948267), strand=1), type='SINE/Alu', qualifiers=...),\n",
       " SeqFeature(SimpleLocation(ExactPosition(4948349), ExactPosition(4948378), strand=1), type='SINE/Alu', qualifiers=...),\n",
       " SeqFeature(SimpleLocation(ExactPosition(4951896), ExactPosition(4952190), strand=-1), type='SINE/Alu', qualifiers=...),\n",
       " SeqFeature(SimpleLocation(ExactPosition(4952483), ExactPosition(4952711), strand=1), type='SINE/Alu', qualifiers=...),\n",
       " SeqFeature(SimpleLocation(ExactPosition(4952773), ExactPosition(4952802), strand=1), type='SINE/Alu', qualifiers=...),\n",
       " SeqFeature(SimpleLocation(ExactPosition(4955923), ExactPosition(4956124), strand=1), type='SINE/Alu', qualifiers=...),\n",
       " SeqFeature(SimpleLocation(ExactPosition(4960038), ExactPosition(4960218), strand=-1), type='SINE/Alu', qualifiers=...),\n",
       " SeqFeature(SimpleLocation(ExactPosition(4961034), ExactPosition(4961340), strand=-1), type='SINE/Alu', qualifiers=...),\n",
       " SeqFeature(SimpleLocation(ExactPosition(4964615), ExactPosition(4964780), strand=1), type='SINE/Alu', qualifiers=...),\n",
       " SeqFeature(SimpleLocation(ExactPosition(4964879), ExactPosition(4965176), strand=-1), type='SINE/Alu', qualifiers=...),\n",
       " SeqFeature(SimpleLocation(ExactPosition(4965184), ExactPosition(4965238), strand=-1), type='SINE/Alu', qualifiers=...),\n",
       " SeqFeature(SimpleLocation(ExactPosition(4965294), ExactPosition(4965576), strand=-1), type='SINE/Alu', qualifiers=...),\n",
       " SeqFeature(SimpleLocation(ExactPosition(4965640), ExactPosition(4965759), strand=-1), type='SINE/Alu', qualifiers=...),\n",
       " SeqFeature(SimpleLocation(ExactPosition(4966709), ExactPosition(4966997), strand=1), type='SINE/Alu', qualifiers=...),\n",
       " SeqFeature(SimpleLocation(ExactPosition(4967053), ExactPosition(4967078), strand=1), type='SINE/Alu', qualifiers=...),\n",
       " SeqFeature(SimpleLocation(ExactPosition(4967089), ExactPosition(4967398), strand=1), type='SINE/Alu', qualifiers=...),\n",
       " SeqFeature(SimpleLocation(ExactPosition(4967861), ExactPosition(4967883), strand=-1), type='SINE/Alu', qualifiers=...),\n",
       " SeqFeature(SimpleLocation(ExactPosition(4967960), ExactPosition(4968249), strand=-1), type='SINE/Alu', qualifiers=...),\n",
       " SeqFeature(SimpleLocation(ExactPosition(4968846), ExactPosition(4969165), strand=-1), type='SINE/Alu', qualifiers=...),\n",
       " SeqFeature(SimpleLocation(ExactPosition(4985247), ExactPosition(4985381), strand=-1), type='SINE/Alu', qualifiers=...),\n",
       " SeqFeature(SimpleLocation(ExactPosition(4985715), ExactPosition(4985821), strand=1), type='SINE/Alu', qualifiers=...),\n",
       " SeqFeature(SimpleLocation(ExactPosition(4986120), ExactPosition(4986241), strand=-1), type='SINE/Alu', qualifiers=...),\n",
       " SeqFeature(SimpleLocation(ExactPosition(4986369), ExactPosition(4986483), strand=-1), type='SINE/Alu', qualifiers=...),\n",
       " SeqFeature(SimpleLocation(ExactPosition(4986621), ExactPosition(4986728), strand=-1), type='SINE/Alu', qualifiers=...),\n",
       " SeqFeature(SimpleLocation(ExactPosition(4986830), ExactPosition(4987070), strand=-1), type='SINE/Alu', qualifiers=...),\n",
       " SeqFeature(SimpleLocation(ExactPosition(4988380), ExactPosition(4988668), strand=1), type='SINE/Alu', qualifiers=...),\n",
       " SeqFeature(SimpleLocation(ExactPosition(4988684), ExactPosition(4988810), strand=1), type='SINE/Alu', qualifiers=...),\n",
       " SeqFeature(SimpleLocation(ExactPosition(4989024), ExactPosition(4989080), strand=-1), type='SINE/Alu', qualifiers=...),\n",
       " SeqFeature(SimpleLocation(ExactPosition(4989149), ExactPosition(4989303), strand=-1), type='SINE/Alu', qualifiers=...),\n",
       " SeqFeature(SimpleLocation(ExactPosition(4989304), ExactPosition(4989609), strand=-1), type='SINE/Alu', qualifiers=...),\n",
       " SeqFeature(SimpleLocation(ExactPosition(4989610), ExactPosition(4989716), strand=-1), type='SINE/Alu', qualifiers=...),\n",
       " SeqFeature(SimpleLocation(ExactPosition(4990807), ExactPosition(4991101), strand=-1), type='SINE/Alu', qualifiers=...),\n",
       " SeqFeature(SimpleLocation(ExactPosition(4991415), ExactPosition(4991643), strand=1), type='SINE/Alu', qualifiers=...),\n",
       " SeqFeature(SimpleLocation(ExactPosition(4991725), ExactPosition(4991754), strand=1), type='SINE/Alu', qualifiers=...),\n",
       " SeqFeature(SimpleLocation(ExactPosition(4995272), ExactPosition(4995566), strand=-1), type='SINE/Alu', qualifiers=...),\n",
       " SeqFeature(SimpleLocation(ExactPosition(4995859), ExactPosition(4996087), strand=1), type='SINE/Alu', qualifiers=...),\n",
       " SeqFeature(SimpleLocation(ExactPosition(4996149), ExactPosition(4996178), strand=1), type='SINE/Alu', qualifiers=...),\n",
       " SeqFeature(SimpleLocation(ExactPosition(4999299), ExactPosition(4999500), strand=1), type='SINE/Alu', qualifiers=...),\n",
       " SeqFeature(SimpleLocation(ExactPosition(5003414), ExactPosition(5003594), strand=-1), type='SINE/Alu', qualifiers=...),\n",
       " SeqFeature(SimpleLocation(ExactPosition(5004410), ExactPosition(5004716), strand=-1), type='SINE/Alu', qualifiers=...),\n",
       " SeqFeature(SimpleLocation(ExactPosition(5007991), ExactPosition(5008156), strand=1), type='SINE/Alu', qualifiers=...),\n",
       " SeqFeature(SimpleLocation(ExactPosition(5008255), ExactPosition(5008552), strand=-1), type='SINE/Alu', qualifiers=...),\n",
       " SeqFeature(SimpleLocation(ExactPosition(5008560), ExactPosition(5008614), strand=-1), type='SINE/Alu', qualifiers=...),\n",
       " SeqFeature(SimpleLocation(ExactPosition(5008670), ExactPosition(5008952), strand=-1), type='SINE/Alu', qualifiers=...),\n",
       " SeqFeature(SimpleLocation(ExactPosition(5009016), ExactPosition(5009135), strand=-1), type='SINE/Alu', qualifiers=...),\n",
       " SeqFeature(SimpleLocation(ExactPosition(5010085), ExactPosition(5010373), strand=1), type='SINE/Alu', qualifiers=...),\n",
       " SeqFeature(SimpleLocation(ExactPosition(5010429), ExactPosition(5010454), strand=1), type='SINE/Alu', qualifiers=...),\n",
       " SeqFeature(SimpleLocation(ExactPosition(5010465), ExactPosition(5010774), strand=1), type='SINE/Alu', qualifiers=...),\n",
       " SeqFeature(SimpleLocation(ExactPosition(5011237), ExactPosition(5011259), strand=-1), type='SINE/Alu', qualifiers=...),\n",
       " SeqFeature(SimpleLocation(ExactPosition(5011336), ExactPosition(5011625), strand=-1), type='SINE/Alu', qualifiers=...),\n",
       " SeqFeature(SimpleLocation(ExactPosition(5012222), ExactPosition(5012541), strand=-1), type='SINE/Alu', qualifiers=...),\n",
       " SeqFeature(SimpleLocation(ExactPosition(5028623), ExactPosition(5028757), strand=-1), type='SINE/Alu', qualifiers=...),\n",
       " SeqFeature(SimpleLocation(ExactPosition(5029091), ExactPosition(5029197), strand=1), type='SINE/Alu', qualifiers=...),\n",
       " SeqFeature(SimpleLocation(ExactPosition(5029496), ExactPosition(5029617), strand=-1), type='SINE/Alu', qualifiers=...),\n",
       " SeqFeature(SimpleLocation(ExactPosition(5029745), ExactPosition(5029859), strand=-1), type='SINE/Alu', qualifiers=...),\n",
       " SeqFeature(SimpleLocation(ExactPosition(5029997), ExactPosition(5030104), strand=-1), type='SINE/Alu', qualifiers=...),\n",
       " SeqFeature(SimpleLocation(ExactPosition(5030206), ExactPosition(5030446), strand=-1), type='SINE/Alu', qualifiers=...),\n",
       " SeqFeature(SimpleLocation(ExactPosition(5031756), ExactPosition(5032044), strand=1), type='SINE/Alu', qualifiers=...),\n",
       " SeqFeature(SimpleLocation(ExactPosition(5032060), ExactPosition(5032186), strand=1), type='SINE/Alu', qualifiers=...),\n",
       " SeqFeature(SimpleLocation(ExactPosition(5032400), ExactPosition(5032456), strand=-1), type='SINE/Alu', qualifiers=...),\n",
       " SeqFeature(SimpleLocation(ExactPosition(5032525), ExactPosition(5032679), strand=-1), type='SINE/Alu', qualifiers=...),\n",
       " SeqFeature(SimpleLocation(ExactPosition(5032680), ExactPosition(5032985), strand=-1), type='SINE/Alu', qualifiers=...),\n",
       " SeqFeature(SimpleLocation(ExactPosition(5032986), ExactPosition(5033092), strand=-1), type='SINE/Alu', qualifiers=...),\n",
       " SeqFeature(SimpleLocation(ExactPosition(5034183), ExactPosition(5034477), strand=-1), type='SINE/Alu', qualifiers=...),\n",
       " SeqFeature(SimpleLocation(ExactPosition(5034791), ExactPosition(5035019), strand=1), type='SINE/Alu', qualifiers=...),\n",
       " SeqFeature(SimpleLocation(ExactPosition(5035101), ExactPosition(5035130), strand=1), type='SINE/Alu', qualifiers=...),\n",
       " SeqFeature(SimpleLocation(ExactPosition(5038648), ExactPosition(5038942), strand=-1), type='SINE/Alu', qualifiers=...),\n",
       " SeqFeature(SimpleLocation(ExactPosition(5039235), ExactPosition(5039463), strand=1), type='SINE/Alu', qualifiers=...),\n",
       " SeqFeature(SimpleLocation(ExactPosition(5039525), ExactPosition(5039554), strand=1), type='SINE/Alu', qualifiers=...),\n",
       " SeqFeature(SimpleLocation(ExactPosition(5042675), ExactPosition(5042876), strand=1), type='SINE/Alu', qualifiers=...),\n",
       " SeqFeature(SimpleLocation(ExactPosition(5046790), ExactPosition(5046970), strand=-1), type='SINE/Alu', qualifiers=...),\n",
       " SeqFeature(SimpleLocation(ExactPosition(5047786), ExactPosition(5048092), strand=-1), type='SINE/Alu', qualifiers=...),\n",
       " SeqFeature(SimpleLocation(ExactPosition(5051367), ExactPosition(5051532), strand=1), type='SINE/Alu', qualifiers=...),\n",
       " SeqFeature(SimpleLocation(ExactPosition(5051631), ExactPosition(5051928), strand=-1), type='SINE/Alu', qualifiers=...),\n",
       " SeqFeature(SimpleLocation(ExactPosition(5051936), ExactPosition(5051990), strand=-1), type='SINE/Alu', qualifiers=...),\n",
       " SeqFeature(SimpleLocation(ExactPosition(5052046), ExactPosition(5052328), strand=-1), type='SINE/Alu', qualifiers=...),\n",
       " SeqFeature(SimpleLocation(ExactPosition(5052392), ExactPosition(5052511), strand=-1), type='SINE/Alu', qualifiers=...),\n",
       " SeqFeature(SimpleLocation(ExactPosition(5053461), ExactPosition(5053749), strand=1), type='SINE/Alu', qualifiers=...),\n",
       " SeqFeature(SimpleLocation(ExactPosition(5053805), ExactPosition(5053830), strand=1), type='SINE/Alu', qualifiers=...),\n",
       " SeqFeature(SimpleLocation(ExactPosition(5053841), ExactPosition(5054150), strand=1), type='SINE/Alu', qualifiers=...),\n",
       " SeqFeature(SimpleLocation(ExactPosition(5054613), ExactPosition(5054635), strand=-1), type='SINE/Alu', qualifiers=...),\n",
       " SeqFeature(SimpleLocation(ExactPosition(5054712), ExactPosition(5055001), strand=-1), type='SINE/Alu', qualifiers=...),\n",
       " SeqFeature(SimpleLocation(ExactPosition(5055598), ExactPosition(5055917), strand=-1), type='SINE/Alu', qualifiers=...),\n",
       " SeqFeature(SimpleLocation(ExactPosition(5071999), ExactPosition(5072133), strand=-1), type='SINE/Alu', qualifiers=...),\n",
       " SeqFeature(SimpleLocation(ExactPosition(5072467), ExactPosition(5072573), strand=1), type='SINE/Alu', qualifiers=...),\n",
       " SeqFeature(SimpleLocation(ExactPosition(5072872), ExactPosition(5072993), strand=-1), type='SINE/Alu', qualifiers=...),\n",
       " SeqFeature(SimpleLocation(ExactPosition(5073121), ExactPosition(5073235), strand=-1), type='SINE/Alu', qualifiers=...),\n",
       " SeqFeature(SimpleLocation(ExactPosition(5073373), ExactPosition(5073480), strand=-1), type='SINE/Alu', qualifiers=...),\n",
       " SeqFeature(SimpleLocation(ExactPosition(5073582), ExactPosition(5073822), strand=-1), type='SINE/Alu', qualifiers=...),\n",
       " SeqFeature(SimpleLocation(ExactPosition(5075132), ExactPosition(5075420), strand=1), type='SINE/Alu', qualifiers=...),\n",
       " SeqFeature(SimpleLocation(ExactPosition(5075436), ExactPosition(5075562), strand=1), type='SINE/Alu', qualifiers=...),\n",
       " SeqFeature(SimpleLocation(ExactPosition(5075776), ExactPosition(5075832), strand=-1), type='SINE/Alu', qualifiers=...),\n",
       " SeqFeature(SimpleLocation(ExactPosition(5075901), ExactPosition(5076055), strand=-1), type='SINE/Alu', qualifiers=...),\n",
       " SeqFeature(SimpleLocation(ExactPosition(5076056), ExactPosition(5076361), strand=-1), type='SINE/Alu', qualifiers=...),\n",
       " SeqFeature(SimpleLocation(ExactPosition(5076362), ExactPosition(5076468), strand=-1), type='SINE/Alu', qualifiers=...),\n",
       " SeqFeature(SimpleLocation(ExactPosition(5077559), ExactPosition(5077853), strand=-1), type='SINE/Alu', qualifiers=...),\n",
       " SeqFeature(SimpleLocation(ExactPosition(5078167), ExactPosition(5078395), strand=1), type='SINE/Alu', qualifiers=...),\n",
       " SeqFeature(SimpleLocation(ExactPosition(5078477), ExactPosition(5078506), strand=1), type='SINE/Alu', qualifiers=...),\n",
       " SeqFeature(SimpleLocation(ExactPosition(5082024), ExactPosition(5082318), strand=-1), type='SINE/Alu', qualifiers=...),\n",
       " SeqFeature(SimpleLocation(ExactPosition(5082611), ExactPosition(5082839), strand=1), type='SINE/Alu', qualifiers=...),\n",
       " SeqFeature(SimpleLocation(ExactPosition(5082901), ExactPosition(5082930), strand=1), type='SINE/Alu', qualifiers=...),\n",
       " SeqFeature(SimpleLocation(ExactPosition(5086051), ExactPosition(5086252), strand=1), type='SINE/Alu', qualifiers=...),\n",
       " SeqFeature(SimpleLocation(ExactPosition(5090166), ExactPosition(5090346), strand=-1), type='SINE/Alu', qualifiers=...),\n",
       " SeqFeature(SimpleLocation(ExactPosition(5091162), ExactPosition(5091468), strand=-1), type='SINE/Alu', qualifiers=...),\n",
       " SeqFeature(SimpleLocation(ExactPosition(5094743), ExactPosition(5094908), strand=1), type='SINE/Alu', qualifiers=...),\n",
       " SeqFeature(SimpleLocation(ExactPosition(5095007), ExactPosition(5095304), strand=-1), type='SINE/Alu', qualifiers=...),\n",
       " SeqFeature(SimpleLocation(ExactPosition(5095312), ExactPosition(5095366), strand=-1), type='SINE/Alu', qualifiers=...),\n",
       " SeqFeature(SimpleLocation(ExactPosition(5095422), ExactPosition(5095704), strand=-1), type='SINE/Alu', qualifiers=...),\n",
       " SeqFeature(SimpleLocation(ExactPosition(5095768), ExactPosition(5095887), strand=-1), type='SINE/Alu', qualifiers=...),\n",
       " SeqFeature(SimpleLocation(ExactPosition(5096837), ExactPosition(5097125), strand=1), type='SINE/Alu', qualifiers=...),\n",
       " SeqFeature(SimpleLocation(ExactPosition(5097181), ExactPosition(5097206), strand=1), type='SINE/Alu', qualifiers=...),\n",
       " SeqFeature(SimpleLocation(ExactPosition(5097217), ExactPosition(5097526), strand=1), type='SINE/Alu', qualifiers=...),\n",
       " SeqFeature(SimpleLocation(ExactPosition(5097989), ExactPosition(5098011), strand=-1), type='SINE/Alu', qualifiers=...),\n",
       " SeqFeature(SimpleLocation(ExactPosition(5098088), ExactPosition(5098377), strand=-1), type='SINE/Alu', qualifiers=...),\n",
       " SeqFeature(SimpleLocation(ExactPosition(5098974), ExactPosition(5099293), strand=-1), type='SINE/Alu', qualifiers=...),\n",
       " SeqFeature(SimpleLocation(ExactPosition(5115375), ExactPosition(5115509), strand=-1), type='SINE/Alu', qualifiers=...),\n",
       " SeqFeature(SimpleLocation(ExactPosition(5115843), ExactPosition(5115949), strand=1), type='SINE/Alu', qualifiers=...),\n",
       " SeqFeature(SimpleLocation(ExactPosition(5116248), ExactPosition(5116369), strand=-1), type='SINE/Alu', qualifiers=...),\n",
       " SeqFeature(SimpleLocation(ExactPosition(5116497), ExactPosition(5116611), strand=-1), type='SINE/Alu', qualifiers=...),\n",
       " SeqFeature(SimpleLocation(ExactPosition(5116749), ExactPosition(5116856), strand=-1), type='SINE/Alu', qualifiers=...),\n",
       " SeqFeature(SimpleLocation(ExactPosition(5116958), ExactPosition(5117198), strand=-1), type='SINE/Alu', qualifiers=...),\n",
       " SeqFeature(SimpleLocation(ExactPosition(5118508), ExactPosition(5118796), strand=1), type='SINE/Alu', qualifiers=...),\n",
       " SeqFeature(SimpleLocation(ExactPosition(5118812), ExactPosition(5118938), strand=1), type='SINE/Alu', qualifiers=...),\n",
       " SeqFeature(SimpleLocation(ExactPosition(5119152), ExactPosition(5119208), strand=-1), type='SINE/Alu', qualifiers=...),\n",
       " SeqFeature(SimpleLocation(ExactPosition(5119277), ExactPosition(5119431), strand=-1), type='SINE/Alu', qualifiers=...),\n",
       " SeqFeature(SimpleLocation(ExactPosition(5119432), ExactPosition(5119737), strand=-1), type='SINE/Alu', qualifiers=...),\n",
       " SeqFeature(SimpleLocation(ExactPosition(5119738), ExactPosition(5119844), strand=-1), type='SINE/Alu', qualifiers=...),\n",
       " SeqFeature(SimpleLocation(ExactPosition(5120935), ExactPosition(5121229), strand=-1), type='SINE/Alu', qualifiers=...),\n",
       " SeqFeature(SimpleLocation(ExactPosition(5121543), ExactPosition(5121771), strand=1), type='SINE/Alu', qualifiers=...),\n",
       " SeqFeature(SimpleLocation(ExactPosition(5121853), ExactPosition(5121882), strand=1), type='SINE/Alu', qualifiers=...),\n",
       " SeqFeature(SimpleLocation(ExactPosition(5125400), ExactPosition(5125694), strand=-1), type='SINE/Alu', qualifiers=...),\n",
       " SeqFeature(SimpleLocation(ExactPosition(5125987), ExactPosition(5126215), strand=1), type='SINE/Alu', qualifiers=...),\n",
       " SeqFeature(SimpleLocation(ExactPosition(5126277), ExactPosition(5126306), strand=1), type='SINE/Alu', qualifiers=...),\n",
       " SeqFeature(SimpleLocation(ExactPosition(5129427), ExactPosition(5129628), strand=1), type='SINE/Alu', qualifiers=...),\n",
       " SeqFeature(SimpleLocation(ExactPosition(5133542), ExactPosition(5133722), strand=-1), type='SINE/Alu', qualifiers=...),\n",
       " SeqFeature(SimpleLocation(ExactPosition(5134538), ExactPosition(5134844), strand=-1), type='SINE/Alu', qualifiers=...),\n",
       " SeqFeature(SimpleLocation(ExactPosition(5138119), ExactPosition(5138284), strand=1), type='SINE/Alu', qualifiers=...),\n",
       " SeqFeature(SimpleLocation(ExactPosition(5138383), ExactPosition(5138680), strand=-1), type='SINE/Alu', qualifiers=...),\n",
       " SeqFeature(SimpleLocation(ExactPosition(5138688), ExactPosition(5138742), strand=-1), type='SINE/Alu', qualifiers=...),\n",
       " SeqFeature(SimpleLocation(ExactPosition(5138798), ExactPosition(5139080), strand=-1), type='SINE/Alu', qualifiers=...),\n",
       " SeqFeature(SimpleLocation(ExactPosition(5139144), ExactPosition(5139263), strand=-1), type='SINE/Alu', qualifiers=...),\n",
       " SeqFeature(SimpleLocation(ExactPosition(5140213), ExactPosition(5140501), strand=1), type='SINE/Alu', qualifiers=...),\n",
       " SeqFeature(SimpleLocation(ExactPosition(5140557), ExactPosition(5140582), strand=1), type='SINE/Alu', qualifiers=...),\n",
       " SeqFeature(SimpleLocation(ExactPosition(5140593), ExactPosition(5140902), strand=1), type='SINE/Alu', qualifiers=...),\n",
       " SeqFeature(SimpleLocation(ExactPosition(5141365), ExactPosition(5141387), strand=-1), type='SINE/Alu', qualifiers=...),\n",
       " SeqFeature(SimpleLocation(ExactPosition(5141464), ExactPosition(5141753), strand=-1), type='SINE/Alu', qualifiers=...),\n",
       " SeqFeature(SimpleLocation(ExactPosition(5142350), ExactPosition(5142669), strand=-1), type='SINE/Alu', qualifiers=...),\n",
       " SeqFeature(SimpleLocation(ExactPosition(5158751), ExactPosition(5158885), strand=-1), type='SINE/Alu', qualifiers=...),\n",
       " SeqFeature(SimpleLocation(ExactPosition(5159219), ExactPosition(5159325), strand=1), type='SINE/Alu', qualifiers=...),\n",
       " SeqFeature(SimpleLocation(ExactPosition(5159624), ExactPosition(5159745), strand=-1), type='SINE/Alu', qualifiers=...),\n",
       " SeqFeature(SimpleLocation(ExactPosition(5159873), ExactPosition(5159987), strand=-1), type='SINE/Alu', qualifiers=...),\n",
       " SeqFeature(SimpleLocation(ExactPosition(5160125), ExactPosition(5160232), strand=-1), type='SINE/Alu', qualifiers=...),\n",
       " SeqFeature(SimpleLocation(ExactPosition(5160334), ExactPosition(5160574), strand=-1), type='SINE/Alu', qualifiers=...),\n",
       " SeqFeature(SimpleLocation(ExactPosition(5161884), ExactPosition(5162172), strand=1), type='SINE/Alu', qualifiers=...),\n",
       " SeqFeature(SimpleLocation(ExactPosition(5162188), ExactPosition(5162314), strand=1), type='SINE/Alu', qualifiers=...),\n",
       " SeqFeature(SimpleLocation(ExactPosition(5162528), ExactPosition(5162584), strand=-1), type='SINE/Alu', qualifiers=...),\n",
       " SeqFeature(SimpleLocation(ExactPosition(5162653), ExactPosition(5162807), strand=-1), type='SINE/Alu', qualifiers=...),\n",
       " SeqFeature(SimpleLocation(ExactPosition(5162808), ExactPosition(5163113), strand=-1), type='SINE/Alu', qualifiers=...),\n",
       " SeqFeature(SimpleLocation(ExactPosition(5163114), ExactPosition(5163220), strand=-1), type='SINE/Alu', qualifiers=...),\n",
       " SeqFeature(SimpleLocation(ExactPosition(5164311), ExactPosition(5164605), strand=-1), type='SINE/Alu', qualifiers=...),\n",
       " SeqFeature(SimpleLocation(ExactPosition(5164919), ExactPosition(5165147), strand=1), type='SINE/Alu', qualifiers=...),\n",
       " SeqFeature(SimpleLocation(ExactPosition(5165229), ExactPosition(5165258), strand=1), type='SINE/Alu', qualifiers=...),\n",
       " SeqFeature(SimpleLocation(ExactPosition(5168776), ExactPosition(5169070), strand=-1), type='SINE/Alu', qualifiers=...),\n",
       " SeqFeature(SimpleLocation(ExactPosition(5169363), ExactPosition(5169591), strand=1), type='SINE/Alu', qualifiers=...),\n",
       " SeqFeature(SimpleLocation(ExactPosition(5169653), ExactPosition(5169682), strand=1), type='SINE/Alu', qualifiers=...),\n",
       " SeqFeature(SimpleLocation(ExactPosition(5172803), ExactPosition(5173004), strand=1), type='SINE/Alu', qualifiers=...),\n",
       " SeqFeature(SimpleLocation(ExactPosition(5176918), ExactPosition(5177098), strand=-1), type='SINE/Alu', qualifiers=...),\n",
       " SeqFeature(SimpleLocation(ExactPosition(5177914), ExactPosition(5178220), strand=-1), type='SINE/Alu', qualifiers=...),\n",
       " SeqFeature(SimpleLocation(ExactPosition(5181495), ExactPosition(5181660), strand=1), type='SINE/Alu', qualifiers=...),\n",
       " SeqFeature(SimpleLocation(ExactPosition(5181759), ExactPosition(5182056), strand=-1), type='SINE/Alu', qualifiers=...),\n",
       " SeqFeature(SimpleLocation(ExactPosition(5182064), ExactPosition(5182118), strand=-1), type='SINE/Alu', qualifiers=...),\n",
       " SeqFeature(SimpleLocation(ExactPosition(5182174), ExactPosition(5182456), strand=-1), type='SINE/Alu', qualifiers=...),\n",
       " SeqFeature(SimpleLocation(ExactPosition(5182520), ExactPosition(5182639), strand=-1), type='SINE/Alu', qualifiers=...),\n",
       " SeqFeature(SimpleLocation(ExactPosition(5183589), ExactPosition(5183877), strand=1), type='SINE/Alu', qualifiers=...),\n",
       " SeqFeature(SimpleLocation(ExactPosition(5183933), ExactPosition(5183958), strand=1), type='SINE/Alu', qualifiers=...),\n",
       " SeqFeature(SimpleLocation(ExactPosition(5183969), ExactPosition(5184278), strand=1), type='SINE/Alu', qualifiers=...),\n",
       " SeqFeature(SimpleLocation(ExactPosition(5184741), ExactPosition(5184763), strand=-1), type='SINE/Alu', qualifiers=...),\n",
       " SeqFeature(SimpleLocation(ExactPosition(5184840), ExactPosition(5185129), strand=-1), type='SINE/Alu', qualifiers=...),\n",
       " SeqFeature(SimpleLocation(ExactPosition(5185726), ExactPosition(5186045), strand=-1), type='SINE/Alu', qualifiers=...),\n",
       " SeqFeature(SimpleLocation(ExactPosition(5202127), ExactPosition(5202261), strand=-1), type='SINE/Alu', qualifiers=...),\n",
       " SeqFeature(SimpleLocation(ExactPosition(5202595), ExactPosition(5202701), strand=1), type='SINE/Alu', qualifiers=...),\n",
       " SeqFeature(SimpleLocation(ExactPosition(5203000), ExactPosition(5203121), strand=-1), type='SINE/Alu', qualifiers=...),\n",
       " SeqFeature(SimpleLocation(ExactPosition(5203249), ExactPosition(5203363), strand=-1), type='SINE/Alu', qualifiers=...),\n",
       " SeqFeature(SimpleLocation(ExactPosition(5203501), ExactPosition(5203608), strand=-1), type='SINE/Alu', qualifiers=...),\n",
       " SeqFeature(SimpleLocation(ExactPosition(5203710), ExactPosition(5203950), strand=-1), type='SINE/Alu', qualifiers=...),\n",
       " SeqFeature(SimpleLocation(ExactPosition(5205260), ExactPosition(5205548), strand=1), type='SINE/Alu', qualifiers=...),\n",
       " SeqFeature(SimpleLocation(ExactPosition(5205564), ExactPosition(5205690), strand=1), type='SINE/Alu', qualifiers=...),\n",
       " SeqFeature(SimpleLocation(ExactPosition(5205904), ExactPosition(5205960), strand=-1), type='SINE/Alu', qualifiers=...),\n",
       " SeqFeature(SimpleLocation(ExactPosition(5206029), ExactPosition(5206183), strand=-1), type='SINE/Alu', qualifiers=...),\n",
       " SeqFeature(SimpleLocation(ExactPosition(5206184), ExactPosition(5206489), strand=-1), type='SINE/Alu', qualifiers=...),\n",
       " SeqFeature(SimpleLocation(ExactPosition(5206490), ExactPosition(5206596), strand=-1), type='SINE/Alu', qualifiers=...),\n",
       " SeqFeature(SimpleLocation(ExactPosition(5207687), ExactPosition(5207981), strand=-1), type='SINE/Alu', qualifiers=...),\n",
       " SeqFeature(SimpleLocation(ExactPosition(5208295), ExactPosition(5208523), strand=1), type='SINE/Alu', qualifiers=...),\n",
       " SeqFeature(SimpleLocation(ExactPosition(5208605), ExactPosition(5208634), strand=1), type='SINE/Alu', qualifiers=...),\n",
       " SeqFeature(SimpleLocation(ExactPosition(5212152), ExactPosition(5212446), strand=-1), type='SINE/Alu', qualifiers=...),\n",
       " SeqFeature(SimpleLocation(ExactPosition(5212739), ExactPosition(5212967), strand=1), type='SINE/Alu', qualifiers=...),\n",
       " SeqFeature(SimpleLocation(ExactPosition(5213029), ExactPosition(5213058), strand=1), type='SINE/Alu', qualifiers=...),\n",
       " SeqFeature(SimpleLocation(ExactPosition(5216179), ExactPosition(5216380), strand=1), type='SINE/Alu', qualifiers=...),\n",
       " SeqFeature(SimpleLocation(ExactPosition(5220294), ExactPosition(5220474), strand=-1), type='SINE/Alu', qualifiers=...),\n",
       " SeqFeature(SimpleLocation(ExactPosition(5221290), ExactPosition(5221596), strand=-1), type='SINE/Alu', qualifiers=...),\n",
       " SeqFeature(SimpleLocation(ExactPosition(5224871), ExactPosition(5225036), strand=1), type='SINE/Alu', qualifiers=...),\n",
       " SeqFeature(SimpleLocation(ExactPosition(5225135), ExactPosition(5225432), strand=-1), type='SINE/Alu', qualifiers=...),\n",
       " SeqFeature(SimpleLocation(ExactPosition(5225440), ExactPosition(5225494), strand=-1), type='SINE/Alu', qualifiers=...),\n",
       " SeqFeature(SimpleLocation(ExactPosition(5225550), ExactPosition(5225832), strand=-1), type='SINE/Alu', qualifiers=...),\n",
       " SeqFeature(SimpleLocation(ExactPosition(5225896), ExactPosition(5226015), strand=-1), type='SINE/Alu', qualifiers=...),\n",
       " SeqFeature(SimpleLocation(ExactPosition(5226965), ExactPosition(5227253), strand=1), type='SINE/Alu', qualifiers=...),\n",
       " SeqFeature(SimpleLocation(ExactPosition(5227309), ExactPosition(5227334), strand=1), type='SINE/Alu', qualifiers=...),\n",
       " SeqFeature(SimpleLocation(ExactPosition(5227345), ExactPosition(5227654), strand=1), type='SINE/Alu', qualifiers=...),\n",
       " SeqFeature(SimpleLocation(ExactPosition(5228117), ExactPosition(5228139), strand=-1), type='SINE/Alu', qualifiers=...),\n",
       " SeqFeature(SimpleLocation(ExactPosition(5228216), ExactPosition(5228505), strand=-1), type='SINE/Alu', qualifiers=...),\n",
       " SeqFeature(SimpleLocation(ExactPosition(5229102), ExactPosition(5229421), strand=-1), type='SINE/Alu', qualifiers=...),\n",
       " SeqFeature(SimpleLocation(ExactPosition(5245503), ExactPosition(5245637), strand=-1), type='SINE/Alu', qualifiers=...),\n",
       " SeqFeature(SimpleLocation(ExactPosition(5245971), ExactPosition(5246077), strand=1), type='SINE/Alu', qualifiers=...),\n",
       " SeqFeature(SimpleLocation(ExactPosition(5246376), ExactPosition(5246497), strand=-1), type='SINE/Alu', qualifiers=...),\n",
       " SeqFeature(SimpleLocation(ExactPosition(5246625), ExactPosition(5246739), strand=-1), type='SINE/Alu', qualifiers=...),\n",
       " SeqFeature(SimpleLocation(ExactPosition(5246877), ExactPosition(5246984), strand=-1), type='SINE/Alu', qualifiers=...),\n",
       " SeqFeature(SimpleLocation(ExactPosition(5247086), ExactPosition(5247326), strand=-1), type='SINE/Alu', qualifiers=...),\n",
       " SeqFeature(SimpleLocation(ExactPosition(5248636), ExactPosition(5248924), strand=1), type='SINE/Alu', qualifiers=...),\n",
       " SeqFeature(SimpleLocation(ExactPosition(5248940), ExactPosition(5249066), strand=1), type='SINE/Alu', qualifiers=...),\n",
       " SeqFeature(SimpleLocation(ExactPosition(5249280), ExactPosition(5249336), strand=-1), type='SINE/Alu', qualifiers=...),\n",
       " SeqFeature(SimpleLocation(ExactPosition(5249405), ExactPosition(5249559), strand=-1), type='SINE/Alu', qualifiers=...),\n",
       " SeqFeature(SimpleLocation(ExactPosition(5249560), ExactPosition(5249865), strand=-1), type='SINE/Alu', qualifiers=...),\n",
       " SeqFeature(SimpleLocation(ExactPosition(5249866), ExactPosition(5249972), strand=-1), type='SINE/Alu', qualifiers=...),\n",
       " SeqFeature(SimpleLocation(ExactPosition(5251063), ExactPosition(5251357), strand=-1), type='SINE/Alu', qualifiers=...),\n",
       " SeqFeature(SimpleLocation(ExactPosition(5251671), ExactPosition(5251899), strand=1), type='SINE/Alu', qualifiers=...),\n",
       " SeqFeature(SimpleLocation(ExactPosition(5251981), ExactPosition(5252010), strand=1), type='SINE/Alu', qualifiers=...),\n",
       " SeqFeature(SimpleLocation(ExactPosition(5255528), ExactPosition(5255822), strand=-1), type='SINE/Alu', qualifiers=...),\n",
       " SeqFeature(SimpleLocation(ExactPosition(5256115), ExactPosition(5256343), strand=1), type='SINE/Alu', qualifiers=...),\n",
       " SeqFeature(SimpleLocation(ExactPosition(5256405), ExactPosition(5256434), strand=1), type='SINE/Alu', qualifiers=...),\n",
       " SeqFeature(SimpleLocation(ExactPosition(5259555), ExactPosition(5259756), strand=1), type='SINE/Alu', qualifiers=...),\n",
       " SeqFeature(SimpleLocation(ExactPosition(5263670), ExactPosition(5263850), strand=-1), type='SINE/Alu', qualifiers=...),\n",
       " SeqFeature(SimpleLocation(ExactPosition(5264666), ExactPosition(5264972), strand=-1), type='SINE/Alu', qualifiers=...),\n",
       " SeqFeature(SimpleLocation(ExactPosition(5268247), ExactPosition(5268412), strand=1), type='SINE/Alu', qualifiers=...),\n",
       " SeqFeature(SimpleLocation(ExactPosition(5268511), ExactPosition(5268808), strand=-1), type='SINE/Alu', qualifiers=...),\n",
       " SeqFeature(SimpleLocation(ExactPosition(5268816), ExactPosition(5268870), strand=-1), type='SINE/Alu', qualifiers=...),\n",
       " SeqFeature(SimpleLocation(ExactPosition(5268926), ExactPosition(5269208), strand=-1), type='SINE/Alu', qualifiers=...),\n",
       " SeqFeature(SimpleLocation(ExactPosition(5269272), ExactPosition(5269391), strand=-1), type='SINE/Alu', qualifiers=...),\n",
       " SeqFeature(SimpleLocation(ExactPosition(5270341), ExactPosition(5270629), strand=1), type='SINE/Alu', qualifiers=...),\n",
       " SeqFeature(SimpleLocation(ExactPosition(5270685), ExactPosition(5270710), strand=1), type='SINE/Alu', qualifiers=...),\n",
       " SeqFeature(SimpleLocation(ExactPosition(5270721), ExactPosition(5271030), strand=1), type='SINE/Alu', qualifiers=...),\n",
       " SeqFeature(SimpleLocation(ExactPosition(5271493), ExactPosition(5271515), strand=-1), type='SINE/Alu', qualifiers=...),\n",
       " SeqFeature(SimpleLocation(ExactPosition(5271592), ExactPosition(5271881), strand=-1), type='SINE/Alu', qualifiers=...),\n",
       " SeqFeature(SimpleLocation(ExactPosition(5272478), ExactPosition(5272797), strand=-1), type='SINE/Alu', qualifiers=...),\n",
       " SeqFeature(SimpleLocation(ExactPosition(5288879), ExactPosition(5289013), strand=-1), type='SINE/Alu', qualifiers=...),\n",
       " SeqFeature(SimpleLocation(ExactPosition(5289347), ExactPosition(5289453), strand=1), type='SINE/Alu', qualifiers=...),\n",
       " SeqFeature(SimpleLocation(ExactPosition(5289752), ExactPosition(5289873), strand=-1), type='SINE/Alu', qualifiers=...),\n",
       " SeqFeature(SimpleLocation(ExactPosition(5290001), ExactPosition(5290115), strand=-1), type='SINE/Alu', qualifiers=...),\n",
       " SeqFeature(SimpleLocation(ExactPosition(5290253), ExactPosition(5290360), strand=-1), type='SINE/Alu', qualifiers=...),\n",
       " SeqFeature(SimpleLocation(ExactPosition(5290462), ExactPosition(5290702), strand=-1), type='SINE/Alu', qualifiers=...),\n",
       " SeqFeature(SimpleLocation(ExactPosition(5292012), ExactPosition(5292300), strand=1), type='SINE/Alu', qualifiers=...),\n",
       " SeqFeature(SimpleLocation(ExactPosition(5292316), ExactPosition(5292442), strand=1), type='SINE/Alu', qualifiers=...),\n",
       " SeqFeature(SimpleLocation(ExactPosition(5292656), ExactPosition(5292712), strand=-1), type='SINE/Alu', qualifiers=...),\n",
       " SeqFeature(SimpleLocation(ExactPosition(5292781), ExactPosition(5292935), strand=-1), type='SINE/Alu', qualifiers=...),\n",
       " SeqFeature(SimpleLocation(ExactPosition(5292936), ExactPosition(5293241), strand=-1), type='SINE/Alu', qualifiers=...),\n",
       " SeqFeature(SimpleLocation(ExactPosition(5293242), ExactPosition(5293348), strand=-1), type='SINE/Alu', qualifiers=...),\n",
       " SeqFeature(SimpleLocation(ExactPosition(5294439), ExactPosition(5294733), strand=-1), type='SINE/Alu', qualifiers=...),\n",
       " SeqFeature(SimpleLocation(ExactPosition(5295047), ExactPosition(5295275), strand=1), type='SINE/Alu', qualifiers=...),\n",
       " SeqFeature(SimpleLocation(ExactPosition(5295357), ExactPosition(5295386), strand=1), type='SINE/Alu', qualifiers=...),\n",
       " SeqFeature(SimpleLocation(ExactPosition(5298904), ExactPosition(5299198), strand=-1), type='SINE/Alu', qualifiers=...),\n",
       " SeqFeature(SimpleLocation(ExactPosition(5299491), ExactPosition(5299719), strand=1), type='SINE/Alu', qualifiers=...),\n",
       " SeqFeature(SimpleLocation(ExactPosition(5299781), ExactPosition(5299810), strand=1), type='SINE/Alu', qualifiers=...),\n",
       " SeqFeature(SimpleLocation(ExactPosition(5302931), ExactPosition(5303132), strand=1), type='SINE/Alu', qualifiers=...),\n",
       " SeqFeature(SimpleLocation(ExactPosition(5307046), ExactPosition(5307226), strand=-1), type='SINE/Alu', qualifiers=...),\n",
       " SeqFeature(SimpleLocation(ExactPosition(5308042), ExactPosition(5308348), strand=-1), type='SINE/Alu', qualifiers=...),\n",
       " SeqFeature(SimpleLocation(ExactPosition(5311623), ExactPosition(5311788), strand=1), type='SINE/Alu', qualifiers=...),\n",
       " SeqFeature(SimpleLocation(ExactPosition(5311887), ExactPosition(5312184), strand=-1), type='SINE/Alu', qualifiers=...),\n",
       " SeqFeature(SimpleLocation(ExactPosition(5312192), ExactPosition(5312246), strand=-1), type='SINE/Alu', qualifiers=...),\n",
       " SeqFeature(SimpleLocation(ExactPosition(5312302), ExactPosition(5312584), strand=-1), type='SINE/Alu', qualifiers=...),\n",
       " SeqFeature(SimpleLocation(ExactPosition(5312648), ExactPosition(5312767), strand=-1), type='SINE/Alu', qualifiers=...),\n",
       " SeqFeature(SimpleLocation(ExactPosition(5313717), ExactPosition(5314005), strand=1), type='SINE/Alu', qualifiers=...),\n",
       " SeqFeature(SimpleLocation(ExactPosition(5314061), ExactPosition(5314086), strand=1), type='SINE/Alu', qualifiers=...),\n",
       " SeqFeature(SimpleLocation(ExactPosition(5314097), ExactPosition(5314406), strand=1), type='SINE/Alu', qualifiers=...),\n",
       " SeqFeature(SimpleLocation(ExactPosition(5314869), ExactPosition(5314891), strand=-1), type='SINE/Alu', qualifiers=...),\n",
       " SeqFeature(SimpleLocation(ExactPosition(5314968), ExactPosition(5315257), strand=-1), type='SINE/Alu', qualifiers=...),\n",
       " SeqFeature(SimpleLocation(ExactPosition(5315854), ExactPosition(5316173), strand=-1), type='SINE/Alu', qualifiers=...),\n",
       " SeqFeature(SimpleLocation(ExactPosition(5332255), ExactPosition(5332389), strand=-1), type='SINE/Alu', qualifiers=...),\n",
       " SeqFeature(SimpleLocation(ExactPosition(5332723), ExactPosition(5332829), strand=1), type='SINE/Alu', qualifiers=...),\n",
       " SeqFeature(SimpleLocation(ExactPosition(5333128), ExactPosition(5333249), strand=-1), type='SINE/Alu', qualifiers=...),\n",
       " SeqFeature(SimpleLocation(ExactPosition(5333377), ExactPosition(5333491), strand=-1), type='SINE/Alu', qualifiers=...),\n",
       " SeqFeature(SimpleLocation(ExactPosition(5333629), ExactPosition(5333736), strand=-1), type='SINE/Alu', qualifiers=...),\n",
       " SeqFeature(SimpleLocation(ExactPosition(5333838), ExactPosition(5334078), strand=-1), type='SINE/Alu', qualifiers=...),\n",
       " SeqFeature(SimpleLocation(ExactPosition(5335388), ExactPosition(5335676), strand=1), type='SINE/Alu', qualifiers=...),\n",
       " SeqFeature(SimpleLocation(ExactPosition(5335692), ExactPosition(5335818), strand=1), type='SINE/Alu', qualifiers=...),\n",
       " SeqFeature(SimpleLocation(ExactPosition(5336032), ExactPosition(5336088), strand=-1), type='SINE/Alu', qualifiers=...),\n",
       " SeqFeature(SimpleLocation(ExactPosition(5336157), ExactPosition(5336311), strand=-1), type='SINE/Alu', qualifiers=...),\n",
       " SeqFeature(SimpleLocation(ExactPosition(5336312), ExactPosition(5336617), strand=-1), type='SINE/Alu', qualifiers=...),\n",
       " SeqFeature(SimpleLocation(ExactPosition(5336618), ExactPosition(5336724), strand=-1), type='SINE/Alu', qualifiers=...),\n",
       " SeqFeature(SimpleLocation(ExactPosition(5337815), ExactPosition(5338109), strand=-1), type='SINE/Alu', qualifiers=...),\n",
       " SeqFeature(SimpleLocation(ExactPosition(5338423), ExactPosition(5338651), strand=1), type='SINE/Alu', qualifiers=...),\n",
       " SeqFeature(SimpleLocation(ExactPosition(5338733), ExactPosition(5338762), strand=1), type='SINE/Alu', qualifiers=...),\n",
       " SeqFeature(SimpleLocation(ExactPosition(5342280), ExactPosition(5342574), strand=-1), type='SINE/Alu', qualifiers=...),\n",
       " SeqFeature(SimpleLocation(ExactPosition(5342867), ExactPosition(5343095), strand=1), type='SINE/Alu', qualifiers=...),\n",
       " SeqFeature(SimpleLocation(ExactPosition(5343157), ExactPosition(5343186), strand=1), type='SINE/Alu', qualifiers=...),\n",
       " SeqFeature(SimpleLocation(ExactPosition(5346307), ExactPosition(5346508), strand=1), type='SINE/Alu', qualifiers=...),\n",
       " SeqFeature(SimpleLocation(ExactPosition(5350422), ExactPosition(5350602), strand=-1), type='SINE/Alu', qualifiers=...),\n",
       " SeqFeature(SimpleLocation(ExactPosition(5351418), ExactPosition(5351724), strand=-1), type='SINE/Alu', qualifiers=...),\n",
       " SeqFeature(SimpleLocation(ExactPosition(5354999), ExactPosition(5355164), strand=1), type='SINE/Alu', qualifiers=...),\n",
       " SeqFeature(SimpleLocation(ExactPosition(5355263), ExactPosition(5355560), strand=-1), type='SINE/Alu', qualifiers=...),\n",
       " SeqFeature(SimpleLocation(ExactPosition(5355568), ExactPosition(5355622), strand=-1), type='SINE/Alu', qualifiers=...),\n",
       " SeqFeature(SimpleLocation(ExactPosition(5355678), ExactPosition(5355960), strand=-1), type='SINE/Alu', qualifiers=...),\n",
       " SeqFeature(SimpleLocation(ExactPosition(5356024), ExactPosition(5356143), strand=-1), type='SINE/Alu', qualifiers=...),\n",
       " SeqFeature(SimpleLocation(ExactPosition(5357093), ExactPosition(5357381), strand=1), type='SINE/Alu', qualifiers=...),\n",
       " SeqFeature(SimpleLocation(ExactPosition(5357437), ExactPosition(5357462), strand=1), type='SINE/Alu', qualifiers=...),\n",
       " SeqFeature(SimpleLocation(ExactPosition(5357473), ExactPosition(5357782), strand=1), type='SINE/Alu', qualifiers=...),\n",
       " SeqFeature(SimpleLocation(ExactPosition(5358245), ExactPosition(5358267), strand=-1), type='SINE/Alu', qualifiers=...),\n",
       " SeqFeature(SimpleLocation(ExactPosition(5358344), ExactPosition(5358633), strand=-1), type='SINE/Alu', qualifiers=...),\n",
       " SeqFeature(SimpleLocation(ExactPosition(5359230), ExactPosition(5359549), strand=-1), type='SINE/Alu', qualifiers=...),\n",
       " SeqFeature(SimpleLocation(ExactPosition(5375631), ExactPosition(5375765), strand=-1), type='SINE/Alu', qualifiers=...),\n",
       " SeqFeature(SimpleLocation(ExactPosition(5376099), ExactPosition(5376205), strand=1), type='SINE/Alu', qualifiers=...),\n",
       " SeqFeature(SimpleLocation(ExactPosition(5376504), ExactPosition(5376625), strand=-1), type='SINE/Alu', qualifiers=...),\n",
       " SeqFeature(SimpleLocation(ExactPosition(5376753), ExactPosition(5376867), strand=-1), type='SINE/Alu', qualifiers=...),\n",
       " SeqFeature(SimpleLocation(ExactPosition(5377005), ExactPosition(5377112), strand=-1), type='SINE/Alu', qualifiers=...),\n",
       " SeqFeature(SimpleLocation(ExactPosition(5377214), ExactPosition(5377454), strand=-1), type='SINE/Alu', qualifiers=...),\n",
       " SeqFeature(SimpleLocation(ExactPosition(5378764), ExactPosition(5379052), strand=1), type='SINE/Alu', qualifiers=...),\n",
       " SeqFeature(SimpleLocation(ExactPosition(5379068), ExactPosition(5379194), strand=1), type='SINE/Alu', qualifiers=...),\n",
       " SeqFeature(SimpleLocation(ExactPosition(5379408), ExactPosition(5379464), strand=-1), type='SINE/Alu', qualifiers=...),\n",
       " SeqFeature(SimpleLocation(ExactPosition(5379533), ExactPosition(5379687), strand=-1), type='SINE/Alu', qualifiers=...),\n",
       " SeqFeature(SimpleLocation(ExactPosition(5379688), ExactPosition(5379993), strand=-1), type='SINE/Alu', qualifiers=...),\n",
       " SeqFeature(SimpleLocation(ExactPosition(5379994), ExactPosition(5380100), strand=-1), type='SINE/Alu', qualifiers=...),\n",
       " SeqFeature(SimpleLocation(ExactPosition(5381191), ExactPosition(5381485), strand=-1), type='SINE/Alu', qualifiers=...),\n",
       " SeqFeature(SimpleLocation(ExactPosition(5381799), ExactPosition(5382027), strand=1), type='SINE/Alu', qualifiers=...),\n",
       " SeqFeature(SimpleLocation(ExactPosition(5382109), ExactPosition(5382138), strand=1), type='SINE/Alu', qualifiers=...),\n",
       " SeqFeature(SimpleLocation(ExactPosition(5385656), ExactPosition(5385950), strand=-1), type='SINE/Alu', qualifiers=...),\n",
       " SeqFeature(SimpleLocation(ExactPosition(5386243), ExactPosition(5386471), strand=1), type='SINE/Alu', qualifiers=...),\n",
       " SeqFeature(SimpleLocation(ExactPosition(5386533), ExactPosition(5386562), strand=1), type='SINE/Alu', qualifiers=...),\n",
       " SeqFeature(SimpleLocation(ExactPosition(5389683), ExactPosition(5389884), strand=1), type='SINE/Alu', qualifiers=...),\n",
       " SeqFeature(SimpleLocation(ExactPosition(5393798), ExactPosition(5393978), strand=-1), type='SINE/Alu', qualifiers=...),\n",
       " SeqFeature(SimpleLocation(ExactPosition(5394794), ExactPosition(5395100), strand=-1), type='SINE/Alu', qualifiers=...),\n",
       " SeqFeature(SimpleLocation(ExactPosition(5398375), ExactPosition(5398540), strand=1), type='SINE/Alu', qualifiers=...),\n",
       " SeqFeature(SimpleLocation(ExactPosition(5398639), ExactPosition(5398936), strand=-1), type='SINE/Alu', qualifiers=...),\n",
       " SeqFeature(SimpleLocation(ExactPosition(5398944), ExactPosition(5398998), strand=-1), type='SINE/Alu', qualifiers=...),\n",
       " SeqFeature(SimpleLocation(ExactPosition(5399054), ExactPosition(5399336), strand=-1), type='SINE/Alu', qualifiers=...),\n",
       " SeqFeature(SimpleLocation(ExactPosition(5399400), ExactPosition(5399519), strand=-1), type='SINE/Alu', qualifiers=...),\n",
       " SeqFeature(SimpleLocation(ExactPosition(5400469), ExactPosition(5400757), strand=1), type='SINE/Alu', qualifiers=...),\n",
       " SeqFeature(SimpleLocation(ExactPosition(5400813), ExactPosition(5400838), strand=1), type='SINE/Alu', qualifiers=...),\n",
       " SeqFeature(SimpleLocation(ExactPosition(5400849), ExactPosition(5401158), strand=1), type='SINE/Alu', qualifiers=...),\n",
       " SeqFeature(SimpleLocation(ExactPosition(5401621), ExactPosition(5401643), strand=-1), type='SINE/Alu', qualifiers=...),\n",
       " SeqFeature(SimpleLocation(ExactPosition(5401720), ExactPosition(5402009), strand=-1), type='SINE/Alu', qualifiers=...),\n",
       " SeqFeature(SimpleLocation(ExactPosition(5402606), ExactPosition(5402925), strand=-1), type='SINE/Alu', qualifiers=...),\n",
       " SeqFeature(SimpleLocation(ExactPosition(5419007), ExactPosition(5419141), strand=-1), type='SINE/Alu', qualifiers=...),\n",
       " SeqFeature(SimpleLocation(ExactPosition(5419475), ExactPosition(5419581), strand=1), type='SINE/Alu', qualifiers=...),\n",
       " SeqFeature(SimpleLocation(ExactPosition(5419880), ExactPosition(5420001), strand=-1), type='SINE/Alu', qualifiers=...),\n",
       " SeqFeature(SimpleLocation(ExactPosition(5420129), ExactPosition(5420243), strand=-1), type='SINE/Alu', qualifiers=...),\n",
       " SeqFeature(SimpleLocation(ExactPosition(5420381), ExactPosition(5420488), strand=-1), type='SINE/Alu', qualifiers=...),\n",
       " SeqFeature(SimpleLocation(ExactPosition(5420590), ExactPosition(5420830), strand=-1), type='SINE/Alu', qualifiers=...),\n",
       " SeqFeature(SimpleLocation(ExactPosition(5422140), ExactPosition(5422428), strand=1), type='SINE/Alu', qualifiers=...),\n",
       " SeqFeature(SimpleLocation(ExactPosition(5422444), ExactPosition(5422570), strand=1), type='SINE/Alu', qualifiers=...),\n",
       " SeqFeature(SimpleLocation(ExactPosition(5422784), ExactPosition(5422840), strand=-1), type='SINE/Alu', qualifiers=...),\n",
       " SeqFeature(SimpleLocation(ExactPosition(5422909), ExactPosition(5423063), strand=-1), type='SINE/Alu', qualifiers=...),\n",
       " SeqFeature(SimpleLocation(ExactPosition(5423064), ExactPosition(5423369), strand=-1), type='SINE/Alu', qualifiers=...),\n",
       " SeqFeature(SimpleLocation(ExactPosition(5423370), ExactPosition(5423476), strand=-1), type='SINE/Alu', qualifiers=...),\n",
       " SeqFeature(SimpleLocation(ExactPosition(5424567), ExactPosition(5424861), strand=-1), type='SINE/Alu', qualifiers=...),\n",
       " SeqFeature(SimpleLocation(ExactPosition(5425175), ExactPosition(5425403), strand=1), type='SINE/Alu', qualifiers=...),\n",
       " SeqFeature(SimpleLocation(ExactPosition(5425485), ExactPosition(5425514), strand=1), type='SINE/Alu', qualifiers=...),\n",
       " SeqFeature(SimpleLocation(ExactPosition(5429032), ExactPosition(5429326), strand=-1), type='SINE/Alu', qualifiers=...),\n",
       " SeqFeature(SimpleLocation(ExactPosition(5429619), ExactPosition(5429847), strand=1), type='SINE/Alu', qualifiers=...),\n",
       " SeqFeature(SimpleLocation(ExactPosition(5429909), ExactPosition(5429938), strand=1), type='SINE/Alu', qualifiers=...),\n",
       " SeqFeature(SimpleLocation(ExactPosition(5433059), ExactPosition(5433260), strand=1), type='SINE/Alu', qualifiers=...),\n",
       " SeqFeature(SimpleLocation(ExactPosition(5437174), ExactPosition(5437354), strand=-1), type='SINE/Alu', qualifiers=...),\n",
       " SeqFeature(SimpleLocation(ExactPosition(5438170), ExactPosition(5438476), strand=-1), type='SINE/Alu', qualifiers=...),\n",
       " SeqFeature(SimpleLocation(ExactPosition(5441751), ExactPosition(5441916), strand=1), type='SINE/Alu', qualifiers=...),\n",
       " SeqFeature(SimpleLocation(ExactPosition(5442015), ExactPosition(5442312), strand=-1), type='SINE/Alu', qualifiers=...),\n",
       " SeqFeature(SimpleLocation(ExactPosition(5442320), ExactPosition(5442374), strand=-1), type='SINE/Alu', qualifiers=...),\n",
       " SeqFeature(SimpleLocation(ExactPosition(5442430), ExactPosition(5442712), strand=-1), type='SINE/Alu', qualifiers=...),\n",
       " SeqFeature(SimpleLocation(ExactPosition(5442776), ExactPosition(5442895), strand=-1), type='SINE/Alu', qualifiers=...),\n",
       " SeqFeature(SimpleLocation(ExactPosition(5443845), ExactPosition(5444133), strand=1), type='SINE/Alu', qualifiers=...),\n",
       " SeqFeature(SimpleLocation(ExactPosition(5444189), ExactPosition(5444214), strand=1), type='SINE/Alu', qualifiers=...),\n",
       " SeqFeature(SimpleLocation(ExactPosition(5444225), ExactPosition(5444534), strand=1), type='SINE/Alu', qualifiers=...),\n",
       " SeqFeature(SimpleLocation(ExactPosition(5444997), ExactPosition(5445019), strand=-1), type='SINE/Alu', qualifiers=...),\n",
       " SeqFeature(SimpleLocation(ExactPosition(5445096), ExactPosition(5445385), strand=-1), type='SINE/Alu', qualifiers=...),\n",
       " SeqFeature(SimpleLocation(ExactPosition(5445982), ExactPosition(5446301), strand=-1), type='SINE/Alu', qualifiers=...),\n",
       " SeqFeature(SimpleLocation(ExactPosition(5462383), ExactPosition(5462517), strand=-1), type='SINE/Alu', qualifiers=...),\n",
       " SeqFeature(SimpleLocation(ExactPosition(5462851), ExactPosition(5462957), strand=1), type='SINE/Alu', qualifiers=...),\n",
       " SeqFeature(SimpleLocation(ExactPosition(5463256), ExactPosition(5463377), strand=-1), type='SINE/Alu', qualifiers=...),\n",
       " SeqFeature(SimpleLocation(ExactPosition(5463505), ExactPosition(5463619), strand=-1), type='SINE/Alu', qualifiers=...),\n",
       " SeqFeature(SimpleLocation(ExactPosition(5463757), ExactPosition(5463864), strand=-1), type='SINE/Alu', qualifiers=...),\n",
       " SeqFeature(SimpleLocation(ExactPosition(5463966), ExactPosition(5464206), strand=-1), type='SINE/Alu', qualifiers=...),\n",
       " SeqFeature(SimpleLocation(ExactPosition(5465516), ExactPosition(5465804), strand=1), type='SINE/Alu', qualifiers=...),\n",
       " SeqFeature(SimpleLocation(ExactPosition(5465820), ExactPosition(5465946), strand=1), type='SINE/Alu', qualifiers=...),\n",
       " SeqFeature(SimpleLocation(ExactPosition(5466160), ExactPosition(5466216), strand=-1), type='SINE/Alu', qualifiers=...),\n",
       " SeqFeature(SimpleLocation(ExactPosition(5466285), ExactPosition(5466439), strand=-1), type='SINE/Alu', qualifiers=...),\n",
       " SeqFeature(SimpleLocation(ExactPosition(5466440), ExactPosition(5466745), strand=-1), type='SINE/Alu', qualifiers=...),\n",
       " SeqFeature(SimpleLocation(ExactPosition(5466746), ExactPosition(5466852), strand=-1), type='SINE/Alu', qualifiers=...),\n",
       " SeqFeature(SimpleLocation(ExactPosition(5467943), ExactPosition(5468237), strand=-1), type='SINE/Alu', qualifiers=...),\n",
       " SeqFeature(SimpleLocation(ExactPosition(5468551), ExactPosition(5468779), strand=1), type='SINE/Alu', qualifiers=...),\n",
       " SeqFeature(SimpleLocation(ExactPosition(5468861), ExactPosition(5468890), strand=1), type='SINE/Alu', qualifiers=...),\n",
       " SeqFeature(SimpleLocation(ExactPosition(5472408), ExactPosition(5472702), strand=-1), type='SINE/Alu', qualifiers=...),\n",
       " SeqFeature(SimpleLocation(ExactPosition(5472995), ExactPosition(5473223), strand=1), type='SINE/Alu', qualifiers=...),\n",
       " SeqFeature(SimpleLocation(ExactPosition(5473285), ExactPosition(5473314), strand=1), type='SINE/Alu', qualifiers=...),\n",
       " SeqFeature(SimpleLocation(ExactPosition(5476435), ExactPosition(5476636), strand=1), type='SINE/Alu', qualifiers=...),\n",
       " SeqFeature(SimpleLocation(ExactPosition(5480550), ExactPosition(5480730), strand=-1), type='SINE/Alu', qualifiers=...),\n",
       " SeqFeature(SimpleLocation(ExactPosition(5481546), ExactPosition(5481852), strand=-1), type='SINE/Alu', qualifiers=...),\n",
       " SeqFeature(SimpleLocation(ExactPosition(5485127), ExactPosition(5485292), strand=1), type='SINE/Alu', qualifiers=...),\n",
       " SeqFeature(SimpleLocation(ExactPosition(5485391), ExactPosition(5485688), strand=-1), type='SINE/Alu', qualifiers=...),\n",
       " SeqFeature(SimpleLocation(ExactPosition(5485696), ExactPosition(5485750), strand=-1), type='SINE/Alu', qualifiers=...),\n",
       " SeqFeature(SimpleLocation(ExactPosition(5485806), ExactPosition(5486088), strand=-1), type='SINE/Alu', qualifiers=...),\n",
       " SeqFeature(SimpleLocation(ExactPosition(5486152), ExactPosition(5486271), strand=-1), type='SINE/Alu', qualifiers=...),\n",
       " SeqFeature(SimpleLocation(ExactPosition(5487221), ExactPosition(5487509), strand=1), type='SINE/Alu', qualifiers=...),\n",
       " SeqFeature(SimpleLocation(ExactPosition(5487565), ExactPosition(5487590), strand=1), type='SINE/Alu', qualifiers=...),\n",
       " SeqFeature(SimpleLocation(ExactPosition(5487601), ExactPosition(5487910), strand=1), type='SINE/Alu', qualifiers=...),\n",
       " SeqFeature(SimpleLocation(ExactPosition(5488373), ExactPosition(5488395), strand=-1), type='SINE/Alu', qualifiers=...),\n",
       " SeqFeature(SimpleLocation(ExactPosition(5488472), ExactPosition(5488761), strand=-1), type='SINE/Alu', qualifiers=...),\n",
       " SeqFeature(SimpleLocation(ExactPosition(5489358), ExactPosition(5489677), strand=-1), type='SINE/Alu', qualifiers=...),\n",
       " SeqFeature(SimpleLocation(ExactPosition(5505759), ExactPosition(5505893), strand=-1), type='SINE/Alu', qualifiers=...),\n",
       " SeqFeature(SimpleLocation(ExactPosition(5506227), ExactPosition(5506333), strand=1), type='SINE/Alu', qualifiers=...),\n",
       " SeqFeature(SimpleLocation(ExactPosition(5506632), ExactPosition(5506753), strand=-1), type='SINE/Alu', qualifiers=...),\n",
       " SeqFeature(SimpleLocation(ExactPosition(5506881), ExactPosition(5506995), strand=-1), type='SINE/Alu', qualifiers=...),\n",
       " SeqFeature(SimpleLocation(ExactPosition(5507133), ExactPosition(5507240), strand=-1), type='SINE/Alu', qualifiers=...),\n",
       " SeqFeature(SimpleLocation(ExactPosition(5507342), ExactPosition(5507582), strand=-1), type='SINE/Alu', qualifiers=...),\n",
       " SeqFeature(SimpleLocation(ExactPosition(5508892), ExactPosition(5509180), strand=1), type='SINE/Alu', qualifiers=...),\n",
       " SeqFeature(SimpleLocation(ExactPosition(5509196), ExactPosition(5509322), strand=1), type='SINE/Alu', qualifiers=...),\n",
       " SeqFeature(SimpleLocation(ExactPosition(5509520), ExactPosition(5509576), strand=-1), type='SINE/Alu', qualifiers=...),\n",
       " SeqFeature(SimpleLocation(ExactPosition(5509645), ExactPosition(5509799), strand=-1), type='SINE/Alu', qualifiers=...),\n",
       " SeqFeature(SimpleLocation(ExactPosition(5509800), ExactPosition(5510105), strand=-1), type='SINE/Alu', qualifiers=...),\n",
       " SeqFeature(SimpleLocation(ExactPosition(5510106), ExactPosition(5510212), strand=-1), type='SINE/Alu', qualifiers=...),\n",
       " SeqFeature(SimpleLocation(ExactPosition(5511299), ExactPosition(5511593), strand=-1), type='SINE/Alu', qualifiers=...),\n",
       " SeqFeature(SimpleLocation(ExactPosition(5511907), ExactPosition(5512135), strand=1), type='SINE/Alu', qualifiers=...),\n",
       " SeqFeature(SimpleLocation(ExactPosition(5512217), ExactPosition(5512246), strand=1), type='SINE/Alu', qualifiers=...),\n",
       " SeqFeature(SimpleLocation(ExactPosition(5515764), ExactPosition(5516058), strand=-1), type='SINE/Alu', qualifiers=...),\n",
       " SeqFeature(SimpleLocation(ExactPosition(5516351), ExactPosition(5516579), strand=1), type='SINE/Alu', qualifiers=...),\n",
       " SeqFeature(SimpleLocation(ExactPosition(5516641), ExactPosition(5516670), strand=1), type='SINE/Alu', qualifiers=...),\n",
       " SeqFeature(SimpleLocation(ExactPosition(5519791), ExactPosition(5519992), strand=1), type='SINE/Alu', qualifiers=...),\n",
       " SeqFeature(SimpleLocation(ExactPosition(5523905), ExactPosition(5524085), strand=-1), type='SINE/Alu', qualifiers=...),\n",
       " SeqFeature(SimpleLocation(ExactPosition(5524900), ExactPosition(5525206), strand=-1), type='SINE/Alu', qualifiers=...),\n",
       " SeqFeature(SimpleLocation(ExactPosition(5528481), ExactPosition(5528646), strand=1), type='SINE/Alu', qualifiers=...),\n",
       " SeqFeature(SimpleLocation(ExactPosition(5528745), ExactPosition(5529042), strand=-1), type='SINE/Alu', qualifiers=...),\n",
       " SeqFeature(SimpleLocation(ExactPosition(5529050), ExactPosition(5529104), strand=-1), type='SINE/Alu', qualifiers=...),\n",
       " SeqFeature(SimpleLocation(ExactPosition(5529160), ExactPosition(5529442), strand=-1), type='SINE/Alu', qualifiers=...),\n",
       " SeqFeature(SimpleLocation(ExactPosition(5529506), ExactPosition(5529625), strand=-1), type='SINE/Alu', qualifiers=...),\n",
       " SeqFeature(SimpleLocation(ExactPosition(5530575), ExactPosition(5530863), strand=1), type='SINE/Alu', qualifiers=...),\n",
       " SeqFeature(SimpleLocation(ExactPosition(5530919), ExactPosition(5530944), strand=1), type='SINE/Alu', qualifiers=...),\n",
       " ...]"
      ]
     },
     "execution_count": 101,
     "metadata": {},
     "output_type": "execute_result"
    }
   ],
   "source": [
    "[f for f in c.features if f.type == 'SINE/Alu']"
   ]
  }
 ],
 "metadata": {
  "kernelspec": {
   "display_name": "Python 3 (ipykernel)",
   "language": "python",
   "name": "python3"
  },
  "language_info": {
   "codemirror_mode": {
    "name": "ipython",
    "version": 3
   },
   "file_extension": ".py",
   "mimetype": "text/x-python",
   "name": "python",
   "nbconvert_exporter": "python",
   "pygments_lexer": "ipython3",
   "version": "3.11.5"
  }
 },
 "nbformat": 4,
 "nbformat_minor": 5
}
